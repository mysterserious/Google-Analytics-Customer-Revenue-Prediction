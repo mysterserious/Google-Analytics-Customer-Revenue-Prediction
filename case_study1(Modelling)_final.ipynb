{
  "cells": [
    {
      "cell_type": "markdown",
      "metadata": {
        "id": "TokCz-P7IdHr"
      },
      "source": [
        "# **Modelling :**"
      ]
    },
    {
      "cell_type": "code",
      "execution_count": null,
      "metadata": {
        "colab": {
          "base_uri": "https://localhost:8080/"
        },
        "id": "YY5qiJ2jlQNR",
        "outputId": "e9cdd8ff-7635-4ead-c5b5-b7ab284e2b83"
      },
      "outputs": [
        {
          "output_type": "stream",
          "name": "stdout",
          "text": [
            "Looking in indexes: https://pypi.org/simple, https://us-python.pkg.dev/colab-wheels/public/simple/\n",
            "Requirement already satisfied: lightgbm in /usr/local/lib/python3.7/dist-packages (2.2.3)\n",
            "Requirement already satisfied: numpy in /usr/local/lib/python3.7/dist-packages (from lightgbm) (1.21.6)\n",
            "Requirement already satisfied: scipy in /usr/local/lib/python3.7/dist-packages (from lightgbm) (1.7.3)\n",
            "Requirement already satisfied: scikit-learn in /usr/local/lib/python3.7/dist-packages (from lightgbm) (1.0.2)\n",
            "Requirement already satisfied: threadpoolctl>=2.0.0 in /usr/local/lib/python3.7/dist-packages (from scikit-learn->lightgbm) (3.1.0)\n",
            "Requirement already satisfied: joblib>=0.11 in /usr/local/lib/python3.7/dist-packages (from scikit-learn->lightgbm) (1.2.0)\n"
          ]
        }
      ],
      "source": [
        "!pip install lightgbm"
      ]
    },
    {
      "cell_type": "code",
      "execution_count": 2,
      "metadata": {
        "id": "5By3XwJMFpwS"
      },
      "outputs": [],
      "source": [
        "import numpy as np\n",
        "import matplotlib.pyplot as plt\n",
        "import seaborn as sn\n",
        "import os\n",
        "import json\n",
        "import pandas as pd\n",
        "import random\n",
        "from sklearn import model_selection\n",
        "from sklearn.tree import DecisionTreeClassifier,DecisionTreeClassifier\n",
        "from xgboost import XGBRegressor,XGBClassifier\n",
        "from sklearn.model_selection import RandomizedSearchCV,GridSearchCV\n",
        "from sklearn.metrics import mean_squared_error,mean_absolute_error,f1_score,accuracy_score,confusion_matrix,ConfusionMatrixDisplay\n",
        "import math\n",
        "from sklearn.linear_model import LinearRegression,LogisticRegression,SGDRegressor\n",
        "from sklearn.preprocessing import MinMaxScaler,StandardScaler\n",
        "from sklearn.ensemble import RandomForestRegressor,RandomForestClassifier\n",
        "from sklearn.neighbors import KNeighborsClassifier\n",
        "import tensorflow as tf\n",
        "from tensorflow.keras.layers import Dense,LeakyReLU,Input,BatchNormalization,Dropout,PReLU\n",
        "from imblearn.over_sampling import SMOTE,SMOTEN\n",
        "import lightgbm\n",
        "from sklearn.neighbors import LocalOutlierFactor\n",
        "from sklearn.ensemble import IsolationForest\n",
        "from sklearn.naive_bayes import GaussianNB\n",
        "from sklearn.svm import SVC\n",
        "import pickle\n",
        "import six\n",
        "import sys\n",
        "sys.modules['sklearn.externals.six'] = six\n",
        "from mlxtend.classifier import StackingClassifier,StackingCVClassifier\n",
        "from mlxtend.regressor import StackingRegressor"
      ]
    },
    {
      "cell_type": "markdown",
      "metadata": {
        "id": "Cc4m4MQwtm1a"
      },
      "source": [
        "# Using Regression models only."
      ]
    },
    {
      "cell_type": "code",
      "execution_count": 6,
      "metadata": {
        "id": "v6jZdrFcVYK2"
      },
      "outputs": [],
      "source": [
        "# train_data=pd.read_csv('/content/drive/MyDrive/Colab Notebooks/self case study 1/train_with_tbf.csv',low_memory=False)\n",
        "# test_data=pd.read_csv('/content/drive/MyDrive/Colab Notebooks/self case study 1/test_with_tbf.csv',low_memory=False)\n",
        "train_data=pd.read_csv('/content/drive/MyDrive/Colab Notebooks/self case study 1/full_data_tr_tbf_without_corr.csv',low_memory=False)\n",
        "test_data=pd.read_csv('/content/drive/MyDrive/Colab Notebooks/self case study 1/full_data_te_tbf_without_corr.csv',low_memory=False)"
      ]
    },
    {
      "cell_type": "code",
      "execution_count": null,
      "metadata": {
        "colab": {
          "base_uri": "https://localhost:8080/"
        },
        "id": "lXYzXcIIX-xL",
        "outputId": "f86462dd-b372-4710-98d3-7a6df73b3199"
      },
      "outputs": [
        {
          "output_type": "stream",
          "name": "stdout",
          "text": [
            "(1425361, 25)\n",
            "(296530, 25)\n"
          ]
        }
      ],
      "source": [
        "print(train_data.shape)\n",
        "print(test_data.shape)"
      ]
    },
    {
      "cell_type": "code",
      "execution_count": null,
      "metadata": {
        "colab": {
          "base_uri": "https://localhost:8080/"
        },
        "id": "gclmAWcp37ct",
        "outputId": "8757d142-8039-4d51-9783-d9b6e3dc5a31"
      },
      "outputs": [
        {
          "output_type": "execute_result",
          "data": {
            "text/plain": [
              "Index(['fullVisitorId', 'networkDomain', 'customDimensions', 'operatingSystem',\n",
              "       'metro', 'referralPath', 'country', 'medium', 'keyword',\n",
              "       'deviceCategory', 'continent', 'subcontinent', 'timeOnSite_sum',\n",
              "       'timeOnSite_min', 'timeOnSite_max', 'hits_sum', 'hits_min',\n",
              "       'visitStartTime_counts', 'sessionQualityDim', 'visitNumber_max',\n",
              "       'transactions', 'last_ses_from_the_period_end', 'interval_dates',\n",
              "       'revenue', 'is_returned'],\n",
              "      dtype='object')"
            ]
          },
          "metadata": {},
          "execution_count": 8
        }
      ],
      "source": [
        "train_data.columns"
      ]
    },
    {
      "cell_type": "code",
      "execution_count": 7,
      "metadata": {
        "id": "rzTOVeIfDcSz"
      },
      "outputs": [],
      "source": [
        "tr_ids=train_data['fullVisitorId']\n",
        "te_ids=test_data['fullVisitorId']\n",
        "train_data.drop(columns=['fullVisitorId'],inplace=True)\n",
        "test_data.drop(columns=['fullVisitorId'],inplace=True)"
      ]
    },
    {
      "cell_type": "code",
      "execution_count": 8,
      "metadata": {
        "id": "OdSgDA-iTHwy"
      },
      "outputs": [],
      "source": [
        "# y_tr=train_data['transactionRevenue']\n",
        "# y_te=test_data['transactionRevenue']\n",
        "# x_tr=train_data.drop(columns='transactionRevenue')\n",
        "# x_te=test_data.drop(columns='transactionRevenue')\n",
        "# print(x_tr.shape,y_tr.shape)\n",
        "# print(x_te.shape,y_te.shape)\n",
        "y_tr_reg=train_data['revenue']\n",
        "y_te_reg=test_data['revenue']\n",
        "y_tr_clf=train_data['is_returned']\n",
        "y_te_clf=test_data['is_returned']\n",
        "x_tr=train_data.drop(columns=['revenue','is_returned'])\n",
        "x_te=test_data.drop(columns=['revenue','is_returned'])"
      ]
    },
    {
      "cell_type": "code",
      "execution_count": null,
      "metadata": {
        "id": "vCzBZosrctfw"
      },
      "outputs": [],
      "source": [
        "scaler=StandardScaler()\n",
        "scaler.fit(x_tr)\n",
        "scaled_tr=scaler.transform(x_tr)\n",
        "scaled_te=scaler.transform(x_te)"
      ]
    },
    {
      "cell_type": "markdown",
      "source": [
        "Naive bayes"
      ],
      "metadata": {
        "id": "v2TmIrbScEk6"
      }
    },
    {
      "cell_type": "code",
      "source": [
        "nb=GaussianNB()\n",
        "nb.fit(scaled_tr,y_tr_clf)\n",
        "print(nb.score(scaled_tr,y_tr_clf))"
      ],
      "metadata": {
        "colab": {
          "base_uri": "https://localhost:8080/"
        },
        "id": "kszJ-rZ7cHCF",
        "outputId": "1b12a73e-0fd0-4274-bd46-a0067d49be70"
      },
      "execution_count": null,
      "outputs": [
        {
          "output_type": "stream",
          "name": "stdout",
          "text": [
            "0.953829240452068\n"
          ]
        }
      ]
    },
    {
      "cell_type": "code",
      "execution_count": null,
      "metadata": {
        "id": "jHDpiASIrz5f"
      },
      "outputs": [],
      "source": [
        "lgbm_params = {\n",
        "    'learning_rate': [0.01,0.05,0.1,0.5,1],    #Learning rate\n",
        "    'n_estimators': [50,100,150,200,250],           #number of boosting iterations  \n",
        "    'num_leaves': [6,8,12,15,16],           #number of leaves in full tree\n",
        "    'boosting_type' : ['gbdt'],\n",
        "    'objective' : ['binary'],               #Binary Classification model to predict whether customer will return during test window\n",
        "    'metric' : ['binary_logloss'],          #Performance metric as \"Binary Logloss\"  \n",
        "    'colsample_bytree' : [0.2,0.4,0.6, 0.8, 1],     #LightGBM will select 80% of features before training each tree\n",
        "    'subsample' : [0.1,0.3,0.5,0.7,0.9, 1],             #this will randomly select part of data without resampling\n",
        "    'reg_alpha' : [0,0.2,0.4,0.6,0.8,1],                    #L1 regularization\n",
        "    'reg_lambda' : [0,0.2,0.4,0.6,0.8,1],                   #L2 regularization\n",
        "    'max_leaves': [2,4,8,16,32,64,128,256,512],            #Maximum number of nodes to be added.   \n",
        "    'min_child_samples' : [2,4,6,8,10,12,14,16,18,20]            #Minimum number of data points needed in a child (leaf) node.\n",
        "            }"
      ]
    },
    {
      "cell_type": "code",
      "execution_count": null,
      "metadata": {
        "colab": {
          "base_uri": "https://localhost:8080/"
        },
        "id": "uZDFjPDA5E0x",
        "outputId": "71387a75-1133-4637-db27-8b144a91dcf6"
      },
      "outputs": [
        {
          "output_type": "execute_result",
          "data": {
            "text/plain": [
              "RandomizedSearchCV(cv=3, estimator=LGBMClassifier(),\n",
              "                   param_distributions={'boosting_type': ['gbdt'],\n",
              "                                        'colsample_bytree': [0.2, 0.4, 0.6, 0.8,\n",
              "                                                             1],\n",
              "                                        'learning_rate': [0.01, 0.05, 0.1, 0.5,\n",
              "                                                          1],\n",
              "                                        'max_leaves': [2, 4, 8, 16, 32, 64, 128,\n",
              "                                                       256, 512],\n",
              "                                        'metric': ['binary_logloss'],\n",
              "                                        'min_child_samples': [2, 4, 6, 8, 10,\n",
              "                                                              12, 14, 16, 18,\n",
              "                                                              20],\n",
              "                                        'n_estimators': [50, 100, 150, 200,\n",
              "                                                         250],\n",
              "                                        'num_leaves': [6, 8, 12, 15, 16],\n",
              "                                        'objective': ['binary'],\n",
              "                                        'reg_alpha': [0, 0.2, 0.4, 0.6, 0.8, 1],\n",
              "                                        'reg_lambda': [0, 0.2, 0.4, 0.6, 0.8,\n",
              "                                                       1],\n",
              "                                        'subsample': [0.1, 0.3, 0.5, 0.7, 0.9,\n",
              "                                                      1]})"
            ]
          },
          "metadata": {},
          "execution_count": 17
        }
      ],
      "source": [
        "lgbm_clf=lightgbm.LGBMClassifier()\n",
        "rcv=RandomizedSearchCV(lgbm_clf,lgbm_params,cv=3)\n",
        "rcv.fit(scaled_tr,y_tr_clf)"
      ]
    },
    {
      "cell_type": "code",
      "source": [
        "print(rcv.best_estimator_)\n",
        "print(rcv.best_score_)"
      ],
      "metadata": {
        "colab": {
          "base_uri": "https://localhost:8080/"
        },
        "id": "VlyyB4yg1lqz",
        "outputId": "63a9c106-4f4a-4ccb-83d3-9a7c2a44c69d"
      },
      "execution_count": null,
      "outputs": [
        {
          "output_type": "stream",
          "name": "stdout",
          "text": [
            "LGBMClassifier(colsample_bytree=0.8, learning_rate=0.01, max_leaves=16,\n",
            "               metric='binary_logloss', min_child_samples=2, n_estimators=150,\n",
            "               num_leaves=15, objective='binary', reg_alpha=1, reg_lambda=0,\n",
            "               subsample=1)\n",
            "0.9938373506781729\n"
          ]
        }
      ]
    },
    {
      "cell_type": "code",
      "source": [
        "filename='/content/drive/MyDrive/Colab Notebooks/self case study 1/lgbm_clf.sav'\n",
        "pickle.dump(rcv.best_estimator_,open(filename,'wb'))"
      ],
      "metadata": {
        "id": "LJUMkz06cg7T"
      },
      "execution_count": null,
      "outputs": []
    },
    {
      "cell_type": "code",
      "source": [
        "filename='/content/drive/MyDrive/Colab Notebooks/self case study 1/lgbm_clf.sav'\n",
        "lgbm_clf=pickle.load(open(filename,'rb'))\n",
        "lgbm_clf.score(scaled_tr,y_tr_clf)"
      ],
      "metadata": {
        "colab": {
          "base_uri": "https://localhost:8080/"
        },
        "id": "XqCorA6KQtB7",
        "outputId": "5673b503-3454-4832-959e-5df502883084"
      },
      "execution_count": null,
      "outputs": [
        {
          "output_type": "execute_result",
          "data": {
            "text/plain": [
              "0.993837350678179"
            ]
          },
          "metadata": {},
          "execution_count": 37
        }
      ]
    },
    {
      "cell_type": "code",
      "source": [
        "log_reg_params={'penalty':['l2','none'],'C':[0.01,0.1,1,10,100],'warm_start':['True','False']}"
      ],
      "metadata": {
        "id": "z6AuLkcDTglh"
      },
      "execution_count": null,
      "outputs": []
    },
    {
      "cell_type": "code",
      "source": [
        "lg_reg=LogisticRegression(random_state=1,max_iter=1000)\n",
        "rcv=RandomizedSearchCV(lg_reg,log_reg_params,random_state=2,cv=3)\n",
        "rcv.fit(scaled_tr,y_tr_clf)\n",
        "rcv.best_estimator_"
      ],
      "metadata": {
        "colab": {
          "base_uri": "https://localhost:8080/"
        },
        "id": "zrOoueayTkgm",
        "outputId": "8efd83aa-a830-4788-dc24-3b173dc7ed13"
      },
      "execution_count": null,
      "outputs": [
        {
          "output_type": "stream",
          "name": "stderr",
          "text": [
            "/usr/local/lib/python3.7/dist-packages/sklearn/linear_model/_logistic.py:1484: UserWarning: Setting penalty='none' will ignore the C and l1_ratio parameters\n",
            "  \"Setting penalty='none' will ignore the C and l1_ratio parameters\"\n",
            "/usr/local/lib/python3.7/dist-packages/sklearn/linear_model/_logistic.py:1484: UserWarning: Setting penalty='none' will ignore the C and l1_ratio parameters\n",
            "  \"Setting penalty='none' will ignore the C and l1_ratio parameters\"\n",
            "/usr/local/lib/python3.7/dist-packages/sklearn/linear_model/_logistic.py:1484: UserWarning: Setting penalty='none' will ignore the C and l1_ratio parameters\n",
            "  \"Setting penalty='none' will ignore the C and l1_ratio parameters\"\n",
            "/usr/local/lib/python3.7/dist-packages/sklearn/linear_model/_logistic.py:1484: UserWarning: Setting penalty='none' will ignore the C and l1_ratio parameters\n",
            "  \"Setting penalty='none' will ignore the C and l1_ratio parameters\"\n",
            "/usr/local/lib/python3.7/dist-packages/sklearn/linear_model/_logistic.py:1484: UserWarning: Setting penalty='none' will ignore the C and l1_ratio parameters\n",
            "  \"Setting penalty='none' will ignore the C and l1_ratio parameters\"\n",
            "/usr/local/lib/python3.7/dist-packages/sklearn/linear_model/_logistic.py:1484: UserWarning: Setting penalty='none' will ignore the C and l1_ratio parameters\n",
            "  \"Setting penalty='none' will ignore the C and l1_ratio parameters\"\n"
          ]
        },
        {
          "output_type": "execute_result",
          "data": {
            "text/plain": [
              "LogisticRegression(C=0.01, max_iter=1000, random_state=1, warm_start='True')"
            ]
          },
          "metadata": {},
          "execution_count": 14
        }
      ]
    },
    {
      "cell_type": "code",
      "source": [
        "print('Best score got with Logistic Regression :',rcv.best_score_)"
      ],
      "metadata": {
        "colab": {
          "base_uri": "https://localhost:8080/"
        },
        "id": "xwRZmHIWZuIu",
        "outputId": "218ec548-0900-4be8-efe8-8c4c5f17824e"
      },
      "execution_count": null,
      "outputs": [
        {
          "output_type": "stream",
          "name": "stdout",
          "text": [
            "Best score got with Logistic Regression : 0.9937945544782089\n"
          ]
        }
      ]
    },
    {
      "cell_type": "code",
      "source": [
        "filename='/content/drive/MyDrive/Colab Notebooks/self case study 1/log_reg_clf.sav'\n",
        "pickle.dump(rcv.best_estimator_,open(filename,'wb'))"
      ],
      "metadata": {
        "id": "QYl48cIZj82R"
      },
      "execution_count": null,
      "outputs": []
    },
    {
      "cell_type": "code",
      "source": [
        "xgb_params={'max_depth':[3,5,10,15,20],\n",
        "            'learning_rate':[0.01,0.1,1,10,100],\n",
        "            'n_estimators':[50,100,150,200],\n",
        "            'subsample' : [0.1,0.3,0.5,0.7,0.9, 1],\n",
        "            'colsample_bytree' : [0.2,0.4,0.6, 0.8, 1],\n",
        "            'reg_alpha' : [0,1],\n",
        "            'reg_lambda' : [0,1]}"
      ],
      "metadata": {
        "id": "AiLYLnPwy-D7"
      },
      "execution_count": null,
      "outputs": []
    },
    {
      "cell_type": "code",
      "source": [
        "xgb_clf=XGBClassifier()\n",
        "rcv=RandomizedSearchCV(xgb_clf,xgb_params,cv=3)\n",
        "rcv.fit(scaled_tr,y_tr_clf)"
      ],
      "metadata": {
        "colab": {
          "base_uri": "https://localhost:8080/"
        },
        "id": "rD0GMpapympi",
        "outputId": "a20d1578-bc0b-40cc-ef77-e8212f1e40ae"
      },
      "execution_count": null,
      "outputs": [
        {
          "output_type": "execute_result",
          "data": {
            "text/plain": [
              "RandomizedSearchCV(cv=3, estimator=XGBClassifier(),\n",
              "                   param_distributions={'colsample_bytree': [0.2, 0.4, 0.6, 0.8,\n",
              "                                                             1],\n",
              "                                        'learning_rate': [0.01, 0.1, 1, 10,\n",
              "                                                          100],\n",
              "                                        'max_depth': [3, 5, 10, 15, 20],\n",
              "                                        'n_estimators': [50, 100, 150, 200],\n",
              "                                        'reg_alpha': [0, 1],\n",
              "                                        'reg_lambda': [0, 1],\n",
              "                                        'subsample': [0.1, 0.3, 0.5, 0.7, 0.9,\n",
              "                                                      1]})"
            ]
          },
          "metadata": {},
          "execution_count": 23
        }
      ]
    },
    {
      "cell_type": "code",
      "source": [
        "filename = '/content/drive/MyDrive/Colab Notebooks/self case study 1/xgb_clf.sav'\n",
        "pickle.dump(rcv.best_estimator_, open(filename, 'wb'))"
      ],
      "metadata": {
        "id": "hgooOlpGZqxs"
      },
      "execution_count": null,
      "outputs": []
    },
    {
      "cell_type": "code",
      "source": [
        "filename = '/content/drive/MyDrive/Colab Notebooks/self case study 1/xgb_clf.sav'\n",
        "loaded_model = pickle.load(open(filename, 'rb'))\n",
        "result = loaded_model.score(scaled_tr,y_tr_clf)\n",
        "print(result)"
      ],
      "metadata": {
        "colab": {
          "base_uri": "https://localhost:8080/"
        },
        "id": "r2JAKmbD4qop",
        "outputId": "42fd4fa3-3054-4562-ce57-02d1d2ee6e9e"
      },
      "execution_count": null,
      "outputs": [
        {
          "output_type": "stream",
          "name": "stdout",
          "text": [
            "0.9946055771134471\n"
          ]
        }
      ]
    },
    {
      "cell_type": "code",
      "source": [
        "rf_params={'n_estimators':[30,50,100,150,200],\n",
        "           'criterion':['gini','entropy'],\n",
        "           'max_depth':[2,4,8,16,32,64,128],\n",
        "           'min_samples_split':[2,4,8,16,32,64],\n",
        "           'max_features':['sqrt','log2'],\n",
        "           'warm_start':[True,False]}\n",
        "rf_clf=RandomForestClassifier()\n",
        "rcv=RandomizedSearchCV(rf_clf,rf_params,cv=3,verbose=1)\n",
        "rcv.fit(scaled_tr,y_tr_clf)"
      ],
      "metadata": {
        "colab": {
          "base_uri": "https://localhost:8080/"
        },
        "id": "EB7zPu90dHZL",
        "outputId": "103e4bb5-f469-4768-fc39-18ae7774136d"
      },
      "execution_count": null,
      "outputs": [
        {
          "output_type": "stream",
          "name": "stdout",
          "text": [
            "Fitting 3 folds for each of 10 candidates, totalling 30 fits\n"
          ]
        },
        {
          "output_type": "execute_result",
          "data": {
            "text/plain": [
              "RandomizedSearchCV(cv=3, estimator=RandomForestClassifier(),\n",
              "                   param_distributions={'criterion': ['gini', 'entropy'],\n",
              "                                        'max_depth': [2, 4, 8, 16, 32, 64, 128],\n",
              "                                        'max_features': ['sqrt', 'log2'],\n",
              "                                        'min_samples_split': [2, 4, 8, 16, 32,\n",
              "                                                              64],\n",
              "                                        'n_estimators': [30, 50, 100, 150, 200],\n",
              "                                        'warm_start': [True, False]},\n",
              "                   verbose=1)"
            ]
          },
          "metadata": {},
          "execution_count": 28
        }
      ]
    },
    {
      "cell_type": "code",
      "source": [
        "print(rcv.best_params_)\n",
        "print(rcv.best_score_)"
      ],
      "metadata": {
        "colab": {
          "base_uri": "https://localhost:8080/"
        },
        "id": "QqixaaRrphm8",
        "outputId": "d7082c9c-9625-4a18-91d7-f5fdcbb14bbd"
      },
      "execution_count": null,
      "outputs": [
        {
          "output_type": "stream",
          "name": "stdout",
          "text": [
            "{'warm_start': False, 'n_estimators': 150, 'min_samples_split': 2, 'max_features': 'sqrt', 'max_depth': 8, 'criterion': 'gini'}\n",
            "0.9938612042878278\n"
          ]
        }
      ]
    },
    {
      "cell_type": "code",
      "source": [
        "filename = '/content/drive/MyDrive/Colab Notebooks/self case study 1/rf_clf.sav'\n",
        "pickle.dump(rcv.best_estimator_, open(filename, 'wb'))"
      ],
      "metadata": {
        "id": "bap6BBkUwdfs"
      },
      "execution_count": null,
      "outputs": []
    },
    {
      "cell_type": "code",
      "source": [
        "filename = '/content/drive/MyDrive/Colab Notebooks/self case study 1/xgb_clf.sav'\n",
        "xgb_clf = pickle.load(open(filename, 'rb'))\n",
        "filename = '/content/drive/MyDrive/Colab Notebooks/self case study 1/lgbm_clf.sav'\n",
        "lgbm_clf = pickle.load(open(filename, 'rb'))\n",
        "filename = '/content/drive/MyDrive/Colab Notebooks/self case study 1/log_reg_clf.sav'\n",
        "log_reg_clf = pickle.load(open(filename, 'rb'))\n",
        "filename = '/content/drive/MyDrive/Colab Notebooks/self case study 1/rf_clf.sav'\n",
        "rf_clf = pickle.load(open(filename, 'rb'))"
      ],
      "metadata": {
        "id": "fVNn6GypaXQc"
      },
      "execution_count": null,
      "outputs": []
    },
    {
      "cell_type": "code",
      "source": [
        "sclf_models=[]\n",
        "meta_params=[0.01,0.1,1,10,100]\n",
        "for i in meta_params:\n",
        "  meta=LogisticRegression(C=i)\n",
        "  sclf=StackingCVClassifier([xgb_clf,log_reg_clf,nb],meta_classifier=meta,use_probas=True,cv=3)\n",
        "  sclf.fit(scaled_tr,y_tr_clf)\n",
        "  sclf_models.append(sclf)\n",
        "  print('score :',sclf.score(scaled_tr,y_tr_clf))"
      ],
      "metadata": {
        "colab": {
          "base_uri": "https://localhost:8080/"
        },
        "id": "UJ2xe-Uow8a7",
        "outputId": "8fdaf936-7e2c-42d0-9e72-88320db4ce1d"
      },
      "execution_count": null,
      "outputs": [
        {
          "output_type": "stream",
          "name": "stdout",
          "text": [
            "score : 0.9941642853985763\n",
            "score : 0.994324946452162\n",
            "score : 0.9939931006951923\n",
            "score : 0.9937699993194706\n",
            "score : 0.9938071828820909\n"
          ]
        }
      ]
    },
    {
      "cell_type": "code",
      "source": [
        "meta=LogisticRegression(C=1000,max_iter=1000)\n",
        "sclf=StackingClassifier([xgb_clf,lgbm_clf,log_reg_clf,rf_clf],meta_classifier=meta,use_probas=True)\n",
        "sclf.fit(scaled_tr,y_tr_clf)\n",
        "print('score :',sclf.score(scaled_tr,y_tr_clf))"
      ],
      "metadata": {
        "colab": {
          "base_uri": "https://localhost:8080/"
        },
        "id": "LdmTj8gwfp8I",
        "outputId": "7a41805c-2ad7-45cc-9f9b-e9561db88dc1"
      },
      "execution_count": null,
      "outputs": [
        {
          "output_type": "stream",
          "name": "stdout",
          "text": [
            "score : 0.9968583397469133\n"
          ]
        }
      ]
    },
    {
      "cell_type": "code",
      "source": [
        "sclf_models[5].score(scaled_tr,y_tr_clf)"
      ],
      "metadata": {
        "colab": {
          "base_uri": "https://localhost:8080/"
        },
        "id": "DCY57ck0kB3E",
        "outputId": "e8db6aa1-cd15-4612-9048-c9844fc5ca2c"
      },
      "execution_count": null,
      "outputs": [
        {
          "output_type": "execute_result",
          "data": {
            "text/plain": [
              "0.9968625492068325"
            ]
          },
          "metadata": {},
          "execution_count": 36
        }
      ]
    },
    {
      "cell_type": "code",
      "source": [
        "filename='/content/drive/MyDrive/Colab Notebooks/self case study 1/sclf.sav'\n",
        "pickle.dump(sclf_models[5], open(filename, 'wb'))"
      ],
      "metadata": {
        "id": "QLzeuc6ijt5C"
      },
      "execution_count": null,
      "outputs": []
    },
    {
      "cell_type": "code",
      "source": [
        "train_x,val_x,train_y,val_y=model_selection.train_test_split(scaled_tr,y_tr_clf,train_size=0.8,shuffle=True,random_state=1,stratify=y_tr_clf)\n",
        "print(train_x.shape,val_x.shape)\n",
        "print(train_y.shape,val_y.shape)"
      ],
      "metadata": {
        "colab": {
          "base_uri": "https://localhost:8080/"
        },
        "id": "YgO83xc1suH7",
        "outputId": "00fc453e-07a6-42d4-8f51-46724efbb577"
      },
      "execution_count": null,
      "outputs": [
        {
          "output_type": "stream",
          "name": "stdout",
          "text": [
            "(1140288, 22) (285073, 22)\n",
            "(1140288,) (285073,)\n"
          ]
        }
      ]
    },
    {
      "cell_type": "code",
      "source": [
        "input=Input(shape=train_x.shape[1])\n",
        "x=Dense(256)(input)\n",
        "x=LeakyReLU()(x)\n",
        "\n",
        "x=Dense(128)(x)\n",
        "x=LeakyReLU()(x)\n",
        "\n",
        "output=Dense(1,activation='sigmoid')(x)\n",
        "\n",
        "neural_clf=tf.keras.Model(inputs=input,outputs=output)\n",
        "neural_clf.summary()"
      ],
      "metadata": {
        "colab": {
          "base_uri": "https://localhost:8080/"
        },
        "id": "6lr0BUFQsrKy",
        "outputId": "d8d2264a-cd93-451c-e5e8-427b5d09f425"
      },
      "execution_count": null,
      "outputs": [
        {
          "output_type": "stream",
          "name": "stdout",
          "text": [
            "Model: \"model_13\"\n",
            "_________________________________________________________________\n",
            " Layer (type)                Output Shape              Param #   \n",
            "=================================================================\n",
            " input_14 (InputLayer)       [(None, 22)]              0         \n",
            "                                                                 \n",
            " dense_46 (Dense)            (None, 256)               5888      \n",
            "                                                                 \n",
            " leaky_re_lu_33 (LeakyReLU)  (None, 256)               0         \n",
            "                                                                 \n",
            " dense_47 (Dense)            (None, 128)               32896     \n",
            "                                                                 \n",
            " leaky_re_lu_34 (LeakyReLU)  (None, 128)               0         \n",
            "                                                                 \n",
            " dense_48 (Dense)            (None, 1)                 129       \n",
            "                                                                 \n",
            "=================================================================\n",
            "Total params: 38,913\n",
            "Trainable params: 38,913\n",
            "Non-trainable params: 0\n",
            "_________________________________________________________________\n"
          ]
        }
      ]
    },
    {
      "cell_type": "code",
      "source": [
        "checkpoint=tf.keras.callbacks.ModelCheckpoint('best_neural_clf.hdf',monitor='val_loss',save_best_only=True,save_weights_only=True,verbose=1)\n",
        "neural_clf.compile(optimizer='adam',loss='binary_crossentropy',metrics='accuracy')\n",
        "neural_clf.fit(train_x,train_y,epochs=50,batch_size=len(train_x)//300,validation_data=[val_x,val_y],callbacks=[checkpoint])"
      ],
      "metadata": {
        "colab": {
          "base_uri": "https://localhost:8080/"
        },
        "id": "KANjo03Hu5MQ",
        "outputId": "65e91c55-84f8-4279-8020-6bac4bfcc589"
      },
      "execution_count": null,
      "outputs": [
        {
          "output_type": "stream",
          "name": "stdout",
          "text": [
            "Epoch 1/50\n",
            "300/301 [============================>.] - ETA: 0s - loss: 0.0433 - accuracy: 0.9918\n",
            "Epoch 1: val_loss improved from inf to 0.03077, saving model to best_neural_clf.hdf\n",
            "301/301 [==============================] - 12s 36ms/step - loss: 0.0433 - accuracy: 0.9918 - val_loss: 0.0308 - val_accuracy: 0.9938\n",
            "Epoch 2/50\n",
            "301/301 [==============================] - ETA: 0s - loss: 0.0303 - accuracy: 0.9938\n",
            "Epoch 2: val_loss improved from 0.03077 to 0.03024, saving model to best_neural_clf.hdf\n",
            "301/301 [==============================] - 13s 43ms/step - loss: 0.0303 - accuracy: 0.9938 - val_loss: 0.0302 - val_accuracy: 0.9938\n",
            "Epoch 3/50\n",
            "300/301 [============================>.] - ETA: 0s - loss: 0.0298 - accuracy: 0.9938\n",
            "Epoch 3: val_loss improved from 0.03024 to 0.02971, saving model to best_neural_clf.hdf\n",
            "301/301 [==============================] - 13s 45ms/step - loss: 0.0298 - accuracy: 0.9938 - val_loss: 0.0297 - val_accuracy: 0.9939\n",
            "Epoch 4/50\n",
            "299/301 [============================>.] - ETA: 0s - loss: 0.0296 - accuracy: 0.9938\n",
            "Epoch 4: val_loss did not improve from 0.02971\n",
            "301/301 [==============================] - 10s 34ms/step - loss: 0.0296 - accuracy: 0.9938 - val_loss: 0.0298 - val_accuracy: 0.9937\n",
            "Epoch 5/50\n",
            "300/301 [============================>.] - ETA: 0s - loss: 0.0294 - accuracy: 0.9939\n",
            "Epoch 5: val_loss improved from 0.02971 to 0.02939, saving model to best_neural_clf.hdf\n",
            "301/301 [==============================] - 10s 34ms/step - loss: 0.0294 - accuracy: 0.9939 - val_loss: 0.0294 - val_accuracy: 0.9939\n",
            "Epoch 6/50\n",
            "301/301 [==============================] - ETA: 0s - loss: 0.0293 - accuracy: 0.9939\n",
            "Epoch 6: val_loss did not improve from 0.02939\n",
            "301/301 [==============================] - 11s 35ms/step - loss: 0.0293 - accuracy: 0.9939 - val_loss: 0.0298 - val_accuracy: 0.9938\n",
            "Epoch 7/50\n",
            "300/301 [============================>.] - ETA: 0s - loss: 0.0292 - accuracy: 0.9938\n",
            "Epoch 7: val_loss did not improve from 0.02939\n",
            "301/301 [==============================] - 13s 43ms/step - loss: 0.0292 - accuracy: 0.9938 - val_loss: 0.0296 - val_accuracy: 0.9937\n",
            "Epoch 8/50\n",
            "301/301 [==============================] - ETA: 0s - loss: 0.0291 - accuracy: 0.9938\n",
            "Epoch 8: val_loss did not improve from 0.02939\n",
            "301/301 [==============================] - 11s 36ms/step - loss: 0.0291 - accuracy: 0.9938 - val_loss: 0.0297 - val_accuracy: 0.9938\n",
            "Epoch 9/50\n",
            "300/301 [============================>.] - ETA: 0s - loss: 0.0291 - accuracy: 0.9938\n",
            "Epoch 9: val_loss improved from 0.02939 to 0.02929, saving model to best_neural_clf.hdf\n",
            "301/301 [==============================] - 11s 35ms/step - loss: 0.0290 - accuracy: 0.9938 - val_loss: 0.0293 - val_accuracy: 0.9939\n",
            "Epoch 10/50\n",
            "300/301 [============================>.] - ETA: 0s - loss: 0.0290 - accuracy: 0.9939\n",
            "Epoch 10: val_loss improved from 0.02929 to 0.02913, saving model to best_neural_clf.hdf\n",
            "301/301 [==============================] - 11s 37ms/step - loss: 0.0290 - accuracy: 0.9939 - val_loss: 0.0291 - val_accuracy: 0.9939\n",
            "Epoch 11/50\n",
            "301/301 [==============================] - ETA: 0s - loss: 0.0289 - accuracy: 0.9938\n",
            "Epoch 11: val_loss did not improve from 0.02913\n",
            "301/301 [==============================] - 11s 36ms/step - loss: 0.0289 - accuracy: 0.9938 - val_loss: 0.0293 - val_accuracy: 0.9938\n",
            "Epoch 12/50\n",
            "300/301 [============================>.] - ETA: 0s - loss: 0.0289 - accuracy: 0.9938\n",
            "Epoch 12: val_loss did not improve from 0.02913\n",
            "301/301 [==============================] - 13s 42ms/step - loss: 0.0289 - accuracy: 0.9938 - val_loss: 0.0295 - val_accuracy: 0.9938\n",
            "Epoch 13/50\n",
            "300/301 [============================>.] - ETA: 0s - loss: 0.0289 - accuracy: 0.9938\n",
            "Epoch 13: val_loss did not improve from 0.02913\n",
            "301/301 [==============================] - 11s 36ms/step - loss: 0.0289 - accuracy: 0.9938 - val_loss: 0.0292 - val_accuracy: 0.9939\n",
            "Epoch 14/50\n",
            "301/301 [==============================] - ETA: 0s - loss: 0.0288 - accuracy: 0.9938\n",
            "Epoch 14: val_loss improved from 0.02913 to 0.02911, saving model to best_neural_clf.hdf\n",
            "301/301 [==============================] - 10s 35ms/step - loss: 0.0288 - accuracy: 0.9938 - val_loss: 0.0291 - val_accuracy: 0.9938\n",
            "Epoch 15/50\n",
            "301/301 [==============================] - ETA: 0s - loss: 0.0288 - accuracy: 0.9938\n",
            "Epoch 15: val_loss improved from 0.02911 to 0.02909, saving model to best_neural_clf.hdf\n",
            "301/301 [==============================] - 11s 35ms/step - loss: 0.0288 - accuracy: 0.9938 - val_loss: 0.0291 - val_accuracy: 0.9939\n",
            "Epoch 16/50\n",
            "301/301 [==============================] - ETA: 0s - loss: 0.0288 - accuracy: 0.9938\n",
            "Epoch 16: val_loss improved from 0.02909 to 0.02909, saving model to best_neural_clf.hdf\n",
            "301/301 [==============================] - 10s 34ms/step - loss: 0.0288 - accuracy: 0.9938 - val_loss: 0.0291 - val_accuracy: 0.9939\n",
            "Epoch 17/50\n",
            "300/301 [============================>.] - ETA: 0s - loss: 0.0287 - accuracy: 0.9939\n",
            "Epoch 17: val_loss did not improve from 0.02909\n",
            "301/301 [==============================] - 13s 43ms/step - loss: 0.0287 - accuracy: 0.9939 - val_loss: 0.0291 - val_accuracy: 0.9938\n",
            "Epoch 18/50\n",
            "300/301 [============================>.] - ETA: 0s - loss: 0.0287 - accuracy: 0.9938\n",
            "Epoch 18: val_loss improved from 0.02909 to 0.02897, saving model to best_neural_clf.hdf\n",
            "301/301 [==============================] - 11s 36ms/step - loss: 0.0287 - accuracy: 0.9938 - val_loss: 0.0290 - val_accuracy: 0.9939\n",
            "Epoch 19/50\n",
            "300/301 [============================>.] - ETA: 0s - loss: 0.0286 - accuracy: 0.9939\n",
            "Epoch 19: val_loss did not improve from 0.02897\n",
            "301/301 [==============================] - 10s 35ms/step - loss: 0.0286 - accuracy: 0.9939 - val_loss: 0.0291 - val_accuracy: 0.9938\n",
            "Epoch 20/50\n",
            "300/301 [============================>.] - ETA: 0s - loss: 0.0286 - accuracy: 0.9939\n",
            "Epoch 20: val_loss did not improve from 0.02897\n",
            "301/301 [==============================] - 11s 36ms/step - loss: 0.0286 - accuracy: 0.9939 - val_loss: 0.0290 - val_accuracy: 0.9939\n",
            "Epoch 21/50\n",
            "301/301 [==============================] - ETA: 0s - loss: 0.0286 - accuracy: 0.9938\n",
            "Epoch 21: val_loss improved from 0.02897 to 0.02878, saving model to best_neural_clf.hdf\n",
            "301/301 [==============================] - 11s 35ms/step - loss: 0.0286 - accuracy: 0.9938 - val_loss: 0.0288 - val_accuracy: 0.9939\n",
            "Epoch 22/50\n",
            "300/301 [============================>.] - ETA: 0s - loss: 0.0286 - accuracy: 0.9938\n",
            "Epoch 22: val_loss did not improve from 0.02878\n",
            "301/301 [==============================] - 14s 46ms/step - loss: 0.0286 - accuracy: 0.9938 - val_loss: 0.0295 - val_accuracy: 0.9938\n",
            "Epoch 23/50\n",
            "300/301 [============================>.] - ETA: 0s - loss: 0.0285 - accuracy: 0.9939\n",
            "Epoch 23: val_loss did not improve from 0.02878\n",
            "301/301 [==============================] - 12s 38ms/step - loss: 0.0285 - accuracy: 0.9939 - val_loss: 0.0292 - val_accuracy: 0.9939\n",
            "Epoch 24/50\n",
            "300/301 [============================>.] - ETA: 0s - loss: 0.0286 - accuracy: 0.9938\n",
            "Epoch 24: val_loss did not improve from 0.02878\n",
            "301/301 [==============================] - 11s 35ms/step - loss: 0.0286 - accuracy: 0.9938 - val_loss: 0.0291 - val_accuracy: 0.9938\n",
            "Epoch 25/50\n",
            "300/301 [============================>.] - ETA: 0s - loss: 0.0285 - accuracy: 0.9938\n",
            "Epoch 25: val_loss did not improve from 0.02878\n",
            "301/301 [==============================] - 10s 35ms/step - loss: 0.0285 - accuracy: 0.9939 - val_loss: 0.0289 - val_accuracy: 0.9939\n",
            "Epoch 26/50\n",
            "300/301 [============================>.] - ETA: 0s - loss: 0.0285 - accuracy: 0.9938\n",
            "Epoch 26: val_loss did not improve from 0.02878\n",
            "301/301 [==============================] - 12s 40ms/step - loss: 0.0285 - accuracy: 0.9938 - val_loss: 0.0292 - val_accuracy: 0.9938\n",
            "Epoch 27/50\n",
            "300/301 [============================>.] - ETA: 0s - loss: 0.0285 - accuracy: 0.9938\n",
            "Epoch 27: val_loss did not improve from 0.02878\n",
            "301/301 [==============================] - 11s 38ms/step - loss: 0.0285 - accuracy: 0.9938 - val_loss: 0.0291 - val_accuracy: 0.9938\n",
            "Epoch 28/50\n",
            "300/301 [============================>.] - ETA: 0s - loss: 0.0285 - accuracy: 0.9938\n",
            "Epoch 28: val_loss did not improve from 0.02878\n",
            "301/301 [==============================] - 10s 35ms/step - loss: 0.0285 - accuracy: 0.9938 - val_loss: 0.0292 - val_accuracy: 0.9938\n",
            "Epoch 29/50\n",
            "299/301 [============================>.] - ETA: 0s - loss: 0.0284 - accuracy: 0.9939\n",
            "Epoch 29: val_loss did not improve from 0.02878\n",
            "301/301 [==============================] - 11s 36ms/step - loss: 0.0284 - accuracy: 0.9939 - val_loss: 0.0288 - val_accuracy: 0.9939\n",
            "Epoch 30/50\n",
            "300/301 [============================>.] - ETA: 0s - loss: 0.0284 - accuracy: 0.9938\n",
            "Epoch 30: val_loss did not improve from 0.02878\n",
            "301/301 [==============================] - 11s 36ms/step - loss: 0.0284 - accuracy: 0.9938 - val_loss: 0.0290 - val_accuracy: 0.9938\n",
            "Epoch 31/50\n",
            "300/301 [============================>.] - ETA: 0s - loss: 0.0285 - accuracy: 0.9938\n",
            "Epoch 31: val_loss did not improve from 0.02878\n",
            "301/301 [==============================] - 13s 43ms/step - loss: 0.0285 - accuracy: 0.9938 - val_loss: 0.0290 - val_accuracy: 0.9939\n",
            "Epoch 32/50\n",
            "301/301 [==============================] - ETA: 0s - loss: 0.0284 - accuracy: 0.9939\n",
            "Epoch 32: val_loss did not improve from 0.02878\n",
            "301/301 [==============================] - 10s 34ms/step - loss: 0.0284 - accuracy: 0.9939 - val_loss: 0.0291 - val_accuracy: 0.9939\n",
            "Epoch 33/50\n",
            "301/301 [==============================] - ETA: 0s - loss: 0.0283 - accuracy: 0.9939\n",
            "Epoch 33: val_loss did not improve from 0.02878\n",
            "301/301 [==============================] - 10s 34ms/step - loss: 0.0283 - accuracy: 0.9939 - val_loss: 0.0290 - val_accuracy: 0.9938\n",
            "Epoch 34/50\n",
            "300/301 [============================>.] - ETA: 0s - loss: 0.0284 - accuracy: 0.9939\n",
            "Epoch 34: val_loss did not improve from 0.02878\n",
            "301/301 [==============================] - 11s 36ms/step - loss: 0.0284 - accuracy: 0.9939 - val_loss: 0.0289 - val_accuracy: 0.9939\n",
            "Epoch 35/50\n",
            "300/301 [============================>.] - ETA: 0s - loss: 0.0283 - accuracy: 0.9939\n",
            "Epoch 35: val_loss did not improve from 0.02878\n",
            "301/301 [==============================] - 10s 34ms/step - loss: 0.0283 - accuracy: 0.9939 - val_loss: 0.0291 - val_accuracy: 0.9938\n",
            "Epoch 36/50\n",
            "300/301 [============================>.] - ETA: 0s - loss: 0.0284 - accuracy: 0.9938\n",
            "Epoch 36: val_loss did not improve from 0.02878\n",
            "301/301 [==============================] - 14s 45ms/step - loss: 0.0284 - accuracy: 0.9938 - val_loss: 0.0295 - val_accuracy: 0.9936\n",
            "Epoch 37/50\n",
            "301/301 [==============================] - ETA: 0s - loss: 0.0283 - accuracy: 0.9939\n",
            "Epoch 37: val_loss did not improve from 0.02878\n",
            "301/301 [==============================] - 10s 35ms/step - loss: 0.0283 - accuracy: 0.9939 - val_loss: 0.0291 - val_accuracy: 0.9938\n",
            "Epoch 38/50\n",
            "300/301 [============================>.] - ETA: 0s - loss: 0.0283 - accuracy: 0.9939\n",
            "Epoch 38: val_loss did not improve from 0.02878\n",
            "301/301 [==============================] - 11s 37ms/step - loss: 0.0283 - accuracy: 0.9939 - val_loss: 0.0289 - val_accuracy: 0.9939\n",
            "Epoch 39/50\n",
            "300/301 [============================>.] - ETA: 0s - loss: 0.0282 - accuracy: 0.9939\n",
            "Epoch 39: val_loss did not improve from 0.02878\n",
            "301/301 [==============================] - 11s 35ms/step - loss: 0.0282 - accuracy: 0.9939 - val_loss: 0.0289 - val_accuracy: 0.9939\n",
            "Epoch 40/50\n",
            "300/301 [============================>.] - ETA: 0s - loss: 0.0283 - accuracy: 0.9938\n",
            "Epoch 40: val_loss did not improve from 0.02878\n",
            "301/301 [==============================] - 11s 35ms/step - loss: 0.0283 - accuracy: 0.9938 - val_loss: 0.0294 - val_accuracy: 0.9938\n",
            "Epoch 41/50\n",
            "300/301 [============================>.] - ETA: 0s - loss: 0.0282 - accuracy: 0.9939\n",
            "Epoch 41: val_loss did not improve from 0.02878\n",
            "301/301 [==============================] - 13s 44ms/step - loss: 0.0282 - accuracy: 0.9939 - val_loss: 0.0290 - val_accuracy: 0.9939\n",
            "Epoch 42/50\n",
            "300/301 [============================>.] - ETA: 0s - loss: 0.0282 - accuracy: 0.9939\n",
            "Epoch 42: val_loss did not improve from 0.02878\n",
            "301/301 [==============================] - 13s 43ms/step - loss: 0.0282 - accuracy: 0.9939 - val_loss: 0.0291 - val_accuracy: 0.9938\n",
            "Epoch 43/50\n",
            "300/301 [============================>.] - ETA: 0s - loss: 0.0282 - accuracy: 0.9939\n",
            "Epoch 43: val_loss did not improve from 0.02878\n",
            "301/301 [==============================] - 11s 35ms/step - loss: 0.0282 - accuracy: 0.9939 - val_loss: 0.0288 - val_accuracy: 0.9939\n",
            "Epoch 44/50\n",
            "301/301 [==============================] - ETA: 0s - loss: 0.0282 - accuracy: 0.9939\n",
            "Epoch 44: val_loss did not improve from 0.02878\n",
            "301/301 [==============================] - 11s 36ms/step - loss: 0.0282 - accuracy: 0.9939 - val_loss: 0.0291 - val_accuracy: 0.9938\n",
            "Epoch 45/50\n",
            "300/301 [============================>.] - ETA: 0s - loss: 0.0282 - accuracy: 0.9939\n",
            "Epoch 45: val_loss did not improve from 0.02878\n",
            "301/301 [==============================] - 11s 37ms/step - loss: 0.0283 - accuracy: 0.9939 - val_loss: 0.0292 - val_accuracy: 0.9937\n",
            "Epoch 46/50\n",
            "300/301 [============================>.] - ETA: 0s - loss: 0.0282 - accuracy: 0.9938\n",
            "Epoch 46: val_loss did not improve from 0.02878\n",
            "301/301 [==============================] - 13s 42ms/step - loss: 0.0282 - accuracy: 0.9938 - val_loss: 0.0289 - val_accuracy: 0.9939\n",
            "Epoch 47/50\n",
            "299/301 [============================>.] - ETA: 0s - loss: 0.0282 - accuracy: 0.9939\n",
            "Epoch 47: val_loss did not improve from 0.02878\n",
            "301/301 [==============================] - 11s 36ms/step - loss: 0.0282 - accuracy: 0.9939 - val_loss: 0.0291 - val_accuracy: 0.9938\n",
            "Epoch 48/50\n",
            "300/301 [============================>.] - ETA: 0s - loss: 0.0282 - accuracy: 0.9939\n",
            "Epoch 48: val_loss did not improve from 0.02878\n",
            "301/301 [==============================] - 11s 36ms/step - loss: 0.0282 - accuracy: 0.9939 - val_loss: 0.0290 - val_accuracy: 0.9938\n",
            "Epoch 49/50\n",
            "299/301 [============================>.] - ETA: 0s - loss: 0.0282 - accuracy: 0.9939\n",
            "Epoch 49: val_loss did not improve from 0.02878\n",
            "301/301 [==============================] - 11s 36ms/step - loss: 0.0281 - accuracy: 0.9939 - val_loss: 0.0291 - val_accuracy: 0.9938\n",
            "Epoch 50/50\n",
            "299/301 [============================>.] - ETA: 0s - loss: 0.0281 - accuracy: 0.9939\n",
            "Epoch 50: val_loss did not improve from 0.02878\n",
            "301/301 [==============================] - 12s 41ms/step - loss: 0.0282 - accuracy: 0.9939 - val_loss: 0.0289 - val_accuracy: 0.9939\n"
          ]
        },
        {
          "output_type": "execute_result",
          "data": {
            "text/plain": [
              "<keras.callbacks.History at 0x7fda93ec7b50>"
            ]
          },
          "metadata": {},
          "execution_count": 42
        }
      ]
    },
    {
      "cell_type": "code",
      "source": [
        "neural_clf.load_weights('best_neural_clf.hdf')"
      ],
      "metadata": {
        "colab": {
          "base_uri": "https://localhost:8080/"
        },
        "id": "55odKKrfQwPe",
        "outputId": "b972349b-207d-4819-8760-b15b127817a7"
      },
      "execution_count": null,
      "outputs": [
        {
          "output_type": "execute_result",
          "data": {
            "text/plain": [
              "<tensorflow.python.training.tracking.util.CheckpointLoadStatus at 0x7fda94158d50>"
            ]
          },
          "metadata": {},
          "execution_count": 43
        }
      ]
    },
    {
      "cell_type": "code",
      "source": [
        "neural_clf.evaluate(val_x,val_y)"
      ],
      "metadata": {
        "colab": {
          "base_uri": "https://localhost:8080/"
        },
        "id": "NeO9zayZRi65",
        "outputId": "39753daf-f4ec-4656-de26-8629100c6c0e"
      },
      "execution_count": null,
      "outputs": [
        {
          "output_type": "stream",
          "name": "stdout",
          "text": [
            "8909/8909 [==============================] - 19s 2ms/step - loss: 0.0288 - accuracy: 0.9939\n"
          ]
        },
        {
          "output_type": "execute_result",
          "data": {
            "text/plain": [
              "[0.02877756953239441, 0.9938998222351074]"
            ]
          },
          "metadata": {},
          "execution_count": 44
        }
      ]
    },
    {
      "cell_type": "code",
      "source": [
        "neural_clf.save_weights('/content/drive/MyDrive/Colab Notebooks/self case study 1/neural_clf.hdf')"
      ],
      "metadata": {
        "id": "PToq_vkPSQf0"
      },
      "execution_count": null,
      "outputs": []
    },
    {
      "cell_type": "markdown",
      "metadata": {
        "id": "33ftGl76t97R"
      },
      "source": [
        "# Regression models"
      ]
    },
    {
      "cell_type": "code",
      "source": [
        "# lgbm_params = {\n",
        "#     'learning_rate': [0.01,0.05,0.1,0.5,1],    #Learning rate\n",
        "#     'n_estimators': [50,100,150,200,250],           #number of boosting iterations  \n",
        "#     'num_leaves': [6,8,12,15,16],           #number of leaves in full tree\n",
        "#     'boosting_type' : ['gbdt'],\n",
        "#     'objective' : ['regression'],               #Binary Classification model to predict whether customer will return during test window\n",
        "#     'metric' : ['rmse'],          #Performance metric as \"Binary Logloss\"  \n",
        "#     'colsample_bytree' : [0.2,0.4,0.6, 0.8, 1],     #LightGBM will select 80% of features before training each tree\n",
        "#     'subsample' : [0.1,0.3,0.5,0.7,0.9, 1],             #this will randomly select part of data without resampling\n",
        "#     'reg_alpha' : [0,1],                    #L1 regularization\n",
        "#     'reg_lambda' : [0,1],                   #L2 regularization\n",
        "#     'max_leaves': [2,4,8,16,32,64,128,256,512],            #Maximum number of nodes to be added.   \n",
        "#     'min_child_samples' : [2,4,6,8,10,12,14,16,18,20]            #Minimum number of data points needed in a child (leaf) node.\n",
        "#             }\n",
        "lgbm_params = {\n",
        "    'learning_rate': [0.005,0.01,0.015],   #Learning rate\n",
        "    'n_estimators': [40,100,200],          #number of boosting iterations   \n",
        "    'num_leaves': [6,8,12,15,16],          #number of leaves in full tree\n",
        "    'boosting_type' : ['gbdt'],\n",
        "    'objective' : ['regression'],          #Regression model to predict transaction amount\n",
        "    'metric' : ['rmse'],                   #Performance metric as \"RMSE\n",
        "    'colsample_bytree' : [0.6, 0.8, 1],    #LightGBM will select 80% of features before training each tree\n",
        "    'subsample' : [0.7,0.9, 1],            #this will randomly select part of data without resampling\n",
        "    'reg_alpha' : [0,1],                   #L1 regularization\n",
        "    'reg_lambda' : [0,1],                  #L2 regularization\n",
        "    'max_leaves': [128,256,512],           #Maximum number of nodes to be added. \n",
        "    'min_child_samples' : [1,20]           #Minimum number of data points needed in a child (leaf) node.   \n",
        "    }"
      ],
      "metadata": {
        "id": "EN7jJ4RRNClH"
      },
      "execution_count": null,
      "outputs": []
    },
    {
      "cell_type": "code",
      "source": [
        "lgbm_reg=lightgbm.LGBMRegressor()\n",
        "rcv=RandomizedSearchCV(lgbm_reg,lgbm_params,cv=3)\n",
        "rcv.fit(scaled_tr,y_tr_reg)\n",
        "print('RMSE score with hypertuned model :',rcv.best_score_)"
      ],
      "metadata": {
        "colab": {
          "base_uri": "https://localhost:8080/"
        },
        "id": "_gcz5q-SMfK6",
        "outputId": "ff59f804-9815-4851-c837-cfc45ae7fb0a"
      },
      "execution_count": null,
      "outputs": [
        {
          "output_type": "stream",
          "name": "stdout",
          "text": [
            "RMSE score with hypertuned model : 0.014854511613354012\n"
          ]
        }
      ]
    },
    {
      "cell_type": "code",
      "source": [
        "filename='/content/drive/MyDrive/Colab Notebooks/self case study 1/lgbm_reg.sav'\n",
        "pickle.dump(rcv.best_estimator_,open(filename,'wb'))"
      ],
      "metadata": {
        "id": "J1ijh7OMSr8S"
      },
      "execution_count": null,
      "outputs": []
    },
    {
      "cell_type": "code",
      "source": [
        "print(rcv.best_estimator_)"
      ],
      "metadata": {
        "colab": {
          "base_uri": "https://localhost:8080/"
        },
        "id": "HHRll27cloEp",
        "outputId": "de53494f-d386-4887-b0cd-93b3470f84a9"
      },
      "execution_count": null,
      "outputs": [
        {
          "output_type": "stream",
          "name": "stdout",
          "text": [
            "LGBMRegressor(colsample_bytree=0.4, learning_rate=0.05, max_leaves=256,\n",
            "              metric='rmse', n_estimators=50, num_leaves=6,\n",
            "              objective='regression', reg_alpha=0, reg_lambda=0, subsample=0.7)\n"
          ]
        }
      ]
    },
    {
      "cell_type": "code",
      "source": [
        "lr_reg_params={'penalty':['l1','l2'],\n",
        "               'alpha':[0.00001,0.0001,0.001,0.01,0.1,1,10,100],\n",
        "               'fit_intercept':[True,False],\n",
        "               'warm_start':[True,False]}"
      ],
      "metadata": {
        "id": "_pjThGH5oCD4"
      },
      "execution_count": null,
      "outputs": []
    },
    {
      "cell_type": "code",
      "source": [
        "lr_reg=SGDRegressor()\n",
        "rcv=RandomizedSearchCV(lr_reg,lr_reg_params,cv=3,scoring='neg_root_mean_squared_error')\n",
        "rcv.fit(scaled_tr,y_tr_reg)\n",
        "rcv.best_estimator_"
      ],
      "metadata": {
        "colab": {
          "base_uri": "https://localhost:8080/"
        },
        "id": "PUVhtc5ImDOP",
        "outputId": "d29a0a9d-ead1-4a3b-b5c0-3f8bce0ec579"
      },
      "execution_count": null,
      "outputs": [
        {
          "output_type": "execute_result",
          "data": {
            "text/plain": [
              "SGDRegressor(alpha=0.001, fit_intercept=False, penalty='l1', warm_start=True)"
            ]
          },
          "metadata": {},
          "execution_count": 43
        }
      ]
    },
    {
      "cell_type": "code",
      "source": [
        "rcv.best_score_"
      ],
      "metadata": {
        "colab": {
          "base_uri": "https://localhost:8080/"
        },
        "id": "LPXcJOnyqYcu",
        "outputId": "c5a89681-7226-4fcd-bcfc-8abcf461f39e"
      },
      "execution_count": null,
      "outputs": [
        {
          "output_type": "execute_result",
          "data": {
            "text/plain": [
              "-0.33989037591808596"
            ]
          },
          "metadata": {},
          "execution_count": 44
        }
      ]
    },
    {
      "cell_type": "code",
      "source": [
        "filename='/content/drive/MyDrive/Colab Notebooks/self case study 1/lr_reg.sav'\n",
        "pickle.dump(rcv.best_estimator_,open(filename,'wb'))"
      ],
      "metadata": {
        "id": "lrNzE5uLC4Ao"
      },
      "execution_count": null,
      "outputs": []
    },
    {
      "cell_type": "code",
      "source": [
        "xgb_params={'max_depth':[3,5,10,15,20],\n",
        "            'learning_rate':[0.01,0.1,1,10,100],\n",
        "            'n_estimators':[50,100,150,200],\n",
        "            'subsample' : [0.1,0.3,0.5,0.7,0.9, 1],\n",
        "            'colsample_bytree' : [0.2,0.4,0.6, 0.8, 1],\n",
        "            'reg_alpha' : [0,1],\n",
        "            'reg_lambda' : [0,1]}"
      ],
      "metadata": {
        "id": "ChkyS2NLtcjG"
      },
      "execution_count": null,
      "outputs": []
    },
    {
      "cell_type": "code",
      "source": [
        "xgb_reg=XGBRegressor()\n",
        "rcv=RandomizedSearchCV(xgb_reg,xgb_params,cv=3,scoring='neg_root_mean_squared_error')\n",
        "rcv.fit(scaled_tr,y_tr_reg)\n",
        "print(rcv.best_estimator_)\n",
        "print(rcv.best_score_)"
      ],
      "metadata": {
        "colab": {
          "base_uri": "https://localhost:8080/"
        },
        "id": "A6CJP-tuCjr6",
        "outputId": "7e463b02-924b-4576-ca40-ae832d1343e7"
      },
      "execution_count": null,
      "outputs": [
        {
          "metadata": {
            "tags": null
          },
          "name": "stdout",
          "output_type": "stream",
          "text": [
            "[15:56:28] WARNING: /workspace/src/objective/regression_obj.cu:152: reg:linear is now deprecated in favor of reg:squarederror.\n",
            "[15:58:47] WARNING: /workspace/src/objective/regression_obj.cu:152: reg:linear is now deprecated in favor of reg:squarederror.\n",
            "[16:01:08] WARNING: /workspace/src/objective/regression_obj.cu:152: reg:linear is now deprecated in favor of reg:squarederror.\n",
            "[16:03:22] WARNING: /workspace/src/objective/regression_obj.cu:152: reg:linear is now deprecated in favor of reg:squarederror.\n"
          ]
        },
        {
          "metadata": {
            "tags": null
          },
          "name": "stderr",
          "output_type": "stream",
          "text": [
            "/usr/local/lib/python3.7/dist-packages/sklearn/model_selection/_validation.py:774: UserWarning: Scoring failed. The score on this train-test partition for these parameters will be set to nan. Details: \n",
            "Traceback (most recent call last):\n",
            "  File \"/usr/local/lib/python3.7/dist-packages/sklearn/model_selection/_validation.py\", line 761, in _score\n",
            "    scores = scorer(estimator, X_test, y_test)\n",
            "  File \"/usr/local/lib/python3.7/dist-packages/sklearn/metrics/_scorer.py\", line 221, in __call__\n",
            "    sample_weight=sample_weight,\n",
            "  File \"/usr/local/lib/python3.7/dist-packages/sklearn/metrics/_scorer.py\", line 264, in _score\n",
            "    return self._sign * self._score_func(y_true, y_pred, **self._kwargs)\n",
            "  File \"/usr/local/lib/python3.7/dist-packages/sklearn/metrics/_regression.py\", line 439, in mean_squared_error\n",
            "    y_true, y_pred, multioutput\n",
            "  File \"/usr/local/lib/python3.7/dist-packages/sklearn/metrics/_regression.py\", line 96, in _check_reg_targets\n",
            "    y_pred = check_array(y_pred, ensure_2d=False, dtype=dtype)\n",
            "  File \"/usr/local/lib/python3.7/dist-packages/sklearn/utils/validation.py\", line 800, in check_array\n",
            "    _assert_all_finite(array, allow_nan=force_all_finite == \"allow-nan\")\n",
            "  File \"/usr/local/lib/python3.7/dist-packages/sklearn/utils/validation.py\", line 116, in _assert_all_finite\n",
            "    type_err, msg_dtype if msg_dtype is not None else X.dtype\n",
            "ValueError: Input contains NaN, infinity or a value too large for dtype('float32').\n",
            "\n",
            "  UserWarning,\n"
          ]
        },
        {
          "metadata": {
            "tags": null
          },
          "name": "stdout",
          "output_type": "stream",
          "text": [
            "[16:04:20] WARNING: /workspace/src/objective/regression_obj.cu:152: reg:linear is now deprecated in favor of reg:squarederror.\n"
          ]
        },
        {
          "metadata": {
            "tags": null
          },
          "name": "stderr",
          "output_type": "stream",
          "text": [
            "/usr/local/lib/python3.7/dist-packages/sklearn/model_selection/_validation.py:774: UserWarning: Scoring failed. The score on this train-test partition for these parameters will be set to nan. Details: \n",
            "Traceback (most recent call last):\n",
            "  File \"/usr/local/lib/python3.7/dist-packages/sklearn/model_selection/_validation.py\", line 761, in _score\n",
            "    scores = scorer(estimator, X_test, y_test)\n",
            "  File \"/usr/local/lib/python3.7/dist-packages/sklearn/metrics/_scorer.py\", line 221, in __call__\n",
            "    sample_weight=sample_weight,\n",
            "  File \"/usr/local/lib/python3.7/dist-packages/sklearn/metrics/_scorer.py\", line 264, in _score\n",
            "    return self._sign * self._score_func(y_true, y_pred, **self._kwargs)\n",
            "  File \"/usr/local/lib/python3.7/dist-packages/sklearn/metrics/_regression.py\", line 439, in mean_squared_error\n",
            "    y_true, y_pred, multioutput\n",
            "  File \"/usr/local/lib/python3.7/dist-packages/sklearn/metrics/_regression.py\", line 96, in _check_reg_targets\n",
            "    y_pred = check_array(y_pred, ensure_2d=False, dtype=dtype)\n",
            "  File \"/usr/local/lib/python3.7/dist-packages/sklearn/utils/validation.py\", line 800, in check_array\n",
            "    _assert_all_finite(array, allow_nan=force_all_finite == \"allow-nan\")\n",
            "  File \"/usr/local/lib/python3.7/dist-packages/sklearn/utils/validation.py\", line 116, in _assert_all_finite\n",
            "    type_err, msg_dtype if msg_dtype is not None else X.dtype\n",
            "ValueError: Input contains NaN, infinity or a value too large for dtype('float32').\n",
            "\n",
            "  UserWarning,\n"
          ]
        },
        {
          "metadata": {
            "tags": null
          },
          "name": "stdout",
          "output_type": "stream",
          "text": [
            "[16:05:13] WARNING: /workspace/src/objective/regression_obj.cu:152: reg:linear is now deprecated in favor of reg:squarederror.\n"
          ]
        },
        {
          "metadata": {
            "tags": null
          },
          "name": "stderr",
          "output_type": "stream",
          "text": [
            "/usr/local/lib/python3.7/dist-packages/sklearn/model_selection/_validation.py:774: UserWarning: Scoring failed. The score on this train-test partition for these parameters will be set to nan. Details: \n",
            "Traceback (most recent call last):\n",
            "  File \"/usr/local/lib/python3.7/dist-packages/sklearn/model_selection/_validation.py\", line 761, in _score\n",
            "    scores = scorer(estimator, X_test, y_test)\n",
            "  File \"/usr/local/lib/python3.7/dist-packages/sklearn/metrics/_scorer.py\", line 221, in __call__\n",
            "    sample_weight=sample_weight,\n",
            "  File \"/usr/local/lib/python3.7/dist-packages/sklearn/metrics/_scorer.py\", line 264, in _score\n",
            "    return self._sign * self._score_func(y_true, y_pred, **self._kwargs)\n",
            "  File \"/usr/local/lib/python3.7/dist-packages/sklearn/metrics/_regression.py\", line 439, in mean_squared_error\n",
            "    y_true, y_pred, multioutput\n",
            "  File \"/usr/local/lib/python3.7/dist-packages/sklearn/metrics/_regression.py\", line 96, in _check_reg_targets\n",
            "    y_pred = check_array(y_pred, ensure_2d=False, dtype=dtype)\n",
            "  File \"/usr/local/lib/python3.7/dist-packages/sklearn/utils/validation.py\", line 800, in check_array\n",
            "    _assert_all_finite(array, allow_nan=force_all_finite == \"allow-nan\")\n",
            "  File \"/usr/local/lib/python3.7/dist-packages/sklearn/utils/validation.py\", line 116, in _assert_all_finite\n",
            "    type_err, msg_dtype if msg_dtype is not None else X.dtype\n",
            "ValueError: Input contains NaN, infinity or a value too large for dtype('float32').\n",
            "\n",
            "  UserWarning,\n"
          ]
        },
        {
          "metadata": {
            "tags": null
          },
          "name": "stdout",
          "output_type": "stream",
          "text": [
            "[16:06:10] WARNING: /workspace/src/objective/regression_obj.cu:152: reg:linear is now deprecated in favor of reg:squarederror.\n"
          ]
        },
        {
          "metadata": {
            "tags": null
          },
          "name": "stderr",
          "output_type": "stream",
          "text": [
            "/usr/local/lib/python3.7/dist-packages/sklearn/model_selection/_validation.py:774: UserWarning: Scoring failed. The score on this train-test partition for these parameters will be set to nan. Details: \n",
            "Traceback (most recent call last):\n",
            "  File \"/usr/local/lib/python3.7/dist-packages/sklearn/model_selection/_validation.py\", line 761, in _score\n",
            "    scores = scorer(estimator, X_test, y_test)\n",
            "  File \"/usr/local/lib/python3.7/dist-packages/sklearn/metrics/_scorer.py\", line 221, in __call__\n",
            "    sample_weight=sample_weight,\n",
            "  File \"/usr/local/lib/python3.7/dist-packages/sklearn/metrics/_scorer.py\", line 264, in _score\n",
            "    return self._sign * self._score_func(y_true, y_pred, **self._kwargs)\n",
            "  File \"/usr/local/lib/python3.7/dist-packages/sklearn/metrics/_regression.py\", line 439, in mean_squared_error\n",
            "    y_true, y_pred, multioutput\n",
            "  File \"/usr/local/lib/python3.7/dist-packages/sklearn/metrics/_regression.py\", line 96, in _check_reg_targets\n",
            "    y_pred = check_array(y_pred, ensure_2d=False, dtype=dtype)\n",
            "  File \"/usr/local/lib/python3.7/dist-packages/sklearn/utils/validation.py\", line 800, in check_array\n",
            "    _assert_all_finite(array, allow_nan=force_all_finite == \"allow-nan\")\n",
            "  File \"/usr/local/lib/python3.7/dist-packages/sklearn/utils/validation.py\", line 116, in _assert_all_finite\n",
            "    type_err, msg_dtype if msg_dtype is not None else X.dtype\n",
            "ValueError: Input contains NaN, infinity or a value too large for dtype('float32').\n",
            "\n",
            "  UserWarning,\n"
          ]
        },
        {
          "metadata": {
            "tags": null
          },
          "name": "stdout",
          "output_type": "stream",
          "text": [
            "[16:08:57] WARNING: /workspace/src/objective/regression_obj.cu:152: reg:linear is now deprecated in favor of reg:squarederror.\n"
          ]
        },
        {
          "metadata": {
            "tags": null
          },
          "name": "stderr",
          "output_type": "stream",
          "text": [
            "/usr/local/lib/python3.7/dist-packages/sklearn/model_selection/_validation.py:774: UserWarning: Scoring failed. The score on this train-test partition for these parameters will be set to nan. Details: \n",
            "Traceback (most recent call last):\n",
            "  File \"/usr/local/lib/python3.7/dist-packages/sklearn/model_selection/_validation.py\", line 761, in _score\n",
            "    scores = scorer(estimator, X_test, y_test)\n",
            "  File \"/usr/local/lib/python3.7/dist-packages/sklearn/metrics/_scorer.py\", line 221, in __call__\n",
            "    sample_weight=sample_weight,\n",
            "  File \"/usr/local/lib/python3.7/dist-packages/sklearn/metrics/_scorer.py\", line 264, in _score\n",
            "    return self._sign * self._score_func(y_true, y_pred, **self._kwargs)\n",
            "  File \"/usr/local/lib/python3.7/dist-packages/sklearn/metrics/_regression.py\", line 439, in mean_squared_error\n",
            "    y_true, y_pred, multioutput\n",
            "  File \"/usr/local/lib/python3.7/dist-packages/sklearn/metrics/_regression.py\", line 96, in _check_reg_targets\n",
            "    y_pred = check_array(y_pred, ensure_2d=False, dtype=dtype)\n",
            "  File \"/usr/local/lib/python3.7/dist-packages/sklearn/utils/validation.py\", line 800, in check_array\n",
            "    _assert_all_finite(array, allow_nan=force_all_finite == \"allow-nan\")\n",
            "  File \"/usr/local/lib/python3.7/dist-packages/sklearn/utils/validation.py\", line 116, in _assert_all_finite\n",
            "    type_err, msg_dtype if msg_dtype is not None else X.dtype\n",
            "ValueError: Input contains NaN, infinity or a value too large for dtype('float32').\n",
            "\n",
            "  UserWarning,\n"
          ]
        },
        {
          "metadata": {
            "tags": null
          },
          "name": "stdout",
          "output_type": "stream",
          "text": [
            "[16:11:44] WARNING: /workspace/src/objective/regression_obj.cu:152: reg:linear is now deprecated in favor of reg:squarederror.\n"
          ]
        },
        {
          "metadata": {
            "tags": null
          },
          "name": "stderr",
          "output_type": "stream",
          "text": [
            "/usr/local/lib/python3.7/dist-packages/sklearn/model_selection/_validation.py:774: UserWarning: Scoring failed. The score on this train-test partition for these parameters will be set to nan. Details: \n",
            "Traceback (most recent call last):\n",
            "  File \"/usr/local/lib/python3.7/dist-packages/sklearn/model_selection/_validation.py\", line 761, in _score\n",
            "    scores = scorer(estimator, X_test, y_test)\n",
            "  File \"/usr/local/lib/python3.7/dist-packages/sklearn/metrics/_scorer.py\", line 221, in __call__\n",
            "    sample_weight=sample_weight,\n",
            "  File \"/usr/local/lib/python3.7/dist-packages/sklearn/metrics/_scorer.py\", line 264, in _score\n",
            "    return self._sign * self._score_func(y_true, y_pred, **self._kwargs)\n",
            "  File \"/usr/local/lib/python3.7/dist-packages/sklearn/metrics/_regression.py\", line 439, in mean_squared_error\n",
            "    y_true, y_pred, multioutput\n",
            "  File \"/usr/local/lib/python3.7/dist-packages/sklearn/metrics/_regression.py\", line 96, in _check_reg_targets\n",
            "    y_pred = check_array(y_pred, ensure_2d=False, dtype=dtype)\n",
            "  File \"/usr/local/lib/python3.7/dist-packages/sklearn/utils/validation.py\", line 800, in check_array\n",
            "    _assert_all_finite(array, allow_nan=force_all_finite == \"allow-nan\")\n",
            "  File \"/usr/local/lib/python3.7/dist-packages/sklearn/utils/validation.py\", line 116, in _assert_all_finite\n",
            "    type_err, msg_dtype if msg_dtype is not None else X.dtype\n",
            "ValueError: Input contains NaN, infinity or a value too large for dtype('float32').\n",
            "\n",
            "  UserWarning,\n"
          ]
        },
        {
          "metadata": {
            "tags": null
          },
          "name": "stdout",
          "output_type": "stream",
          "text": [
            "[16:14:28] WARNING: /workspace/src/objective/regression_obj.cu:152: reg:linear is now deprecated in favor of reg:squarederror.\n"
          ]
        },
        {
          "metadata": {
            "tags": null
          },
          "name": "stderr",
          "output_type": "stream",
          "text": [
            "/usr/local/lib/python3.7/dist-packages/sklearn/model_selection/_validation.py:774: UserWarning: Scoring failed. The score on this train-test partition for these parameters will be set to nan. Details: \n",
            "Traceback (most recent call last):\n",
            "  File \"/usr/local/lib/python3.7/dist-packages/sklearn/model_selection/_validation.py\", line 761, in _score\n",
            "    scores = scorer(estimator, X_test, y_test)\n",
            "  File \"/usr/local/lib/python3.7/dist-packages/sklearn/metrics/_scorer.py\", line 221, in __call__\n",
            "    sample_weight=sample_weight,\n",
            "  File \"/usr/local/lib/python3.7/dist-packages/sklearn/metrics/_scorer.py\", line 264, in _score\n",
            "    return self._sign * self._score_func(y_true, y_pred, **self._kwargs)\n",
            "  File \"/usr/local/lib/python3.7/dist-packages/sklearn/metrics/_regression.py\", line 439, in mean_squared_error\n",
            "    y_true, y_pred, multioutput\n",
            "  File \"/usr/local/lib/python3.7/dist-packages/sklearn/metrics/_regression.py\", line 96, in _check_reg_targets\n",
            "    y_pred = check_array(y_pred, ensure_2d=False, dtype=dtype)\n",
            "  File \"/usr/local/lib/python3.7/dist-packages/sklearn/utils/validation.py\", line 800, in check_array\n",
            "    _assert_all_finite(array, allow_nan=force_all_finite == \"allow-nan\")\n",
            "  File \"/usr/local/lib/python3.7/dist-packages/sklearn/utils/validation.py\", line 116, in _assert_all_finite\n",
            "    type_err, msg_dtype if msg_dtype is not None else X.dtype\n",
            "ValueError: Input contains NaN, infinity or a value too large for dtype('float32').\n",
            "\n",
            "  UserWarning,\n"
          ]
        },
        {
          "metadata": {
            "tags": null
          },
          "name": "stdout",
          "output_type": "stream",
          "text": [
            "[16:16:15] WARNING: /workspace/src/objective/regression_obj.cu:152: reg:linear is now deprecated in favor of reg:squarederror.\n"
          ]
        },
        {
          "metadata": {
            "tags": null
          },
          "name": "stderr",
          "output_type": "stream",
          "text": [
            "/usr/local/lib/python3.7/dist-packages/sklearn/model_selection/_validation.py:774: UserWarning: Scoring failed. The score on this train-test partition for these parameters will be set to nan. Details: \n",
            "Traceback (most recent call last):\n",
            "  File \"/usr/local/lib/python3.7/dist-packages/sklearn/model_selection/_validation.py\", line 761, in _score\n",
            "    scores = scorer(estimator, X_test, y_test)\n",
            "  File \"/usr/local/lib/python3.7/dist-packages/sklearn/metrics/_scorer.py\", line 221, in __call__\n",
            "    sample_weight=sample_weight,\n",
            "  File \"/usr/local/lib/python3.7/dist-packages/sklearn/metrics/_scorer.py\", line 264, in _score\n",
            "    return self._sign * self._score_func(y_true, y_pred, **self._kwargs)\n",
            "  File \"/usr/local/lib/python3.7/dist-packages/sklearn/metrics/_regression.py\", line 439, in mean_squared_error\n",
            "    y_true, y_pred, multioutput\n",
            "  File \"/usr/local/lib/python3.7/dist-packages/sklearn/metrics/_regression.py\", line 96, in _check_reg_targets\n",
            "    y_pred = check_array(y_pred, ensure_2d=False, dtype=dtype)\n",
            "  File \"/usr/local/lib/python3.7/dist-packages/sklearn/utils/validation.py\", line 800, in check_array\n",
            "    _assert_all_finite(array, allow_nan=force_all_finite == \"allow-nan\")\n",
            "  File \"/usr/local/lib/python3.7/dist-packages/sklearn/utils/validation.py\", line 116, in _assert_all_finite\n",
            "    type_err, msg_dtype if msg_dtype is not None else X.dtype\n",
            "ValueError: Input contains NaN, infinity or a value too large for dtype('float32').\n",
            "\n",
            "  UserWarning,\n"
          ]
        },
        {
          "metadata": {
            "tags": null
          },
          "name": "stdout",
          "output_type": "stream",
          "text": [
            "[16:18:01] WARNING: /workspace/src/objective/regression_obj.cu:152: reg:linear is now deprecated in favor of reg:squarederror.\n"
          ]
        },
        {
          "metadata": {
            "tags": null
          },
          "name": "stderr",
          "output_type": "stream",
          "text": [
            "/usr/local/lib/python3.7/dist-packages/sklearn/model_selection/_validation.py:774: UserWarning: Scoring failed. The score on this train-test partition for these parameters will be set to nan. Details: \n",
            "Traceback (most recent call last):\n",
            "  File \"/usr/local/lib/python3.7/dist-packages/sklearn/model_selection/_validation.py\", line 761, in _score\n",
            "    scores = scorer(estimator, X_test, y_test)\n",
            "  File \"/usr/local/lib/python3.7/dist-packages/sklearn/metrics/_scorer.py\", line 221, in __call__\n",
            "    sample_weight=sample_weight,\n",
            "  File \"/usr/local/lib/python3.7/dist-packages/sklearn/metrics/_scorer.py\", line 264, in _score\n",
            "    return self._sign * self._score_func(y_true, y_pred, **self._kwargs)\n",
            "  File \"/usr/local/lib/python3.7/dist-packages/sklearn/metrics/_regression.py\", line 439, in mean_squared_error\n",
            "    y_true, y_pred, multioutput\n",
            "  File \"/usr/local/lib/python3.7/dist-packages/sklearn/metrics/_regression.py\", line 96, in _check_reg_targets\n",
            "    y_pred = check_array(y_pred, ensure_2d=False, dtype=dtype)\n",
            "  File \"/usr/local/lib/python3.7/dist-packages/sklearn/utils/validation.py\", line 800, in check_array\n",
            "    _assert_all_finite(array, allow_nan=force_all_finite == \"allow-nan\")\n",
            "  File \"/usr/local/lib/python3.7/dist-packages/sklearn/utils/validation.py\", line 116, in _assert_all_finite\n",
            "    type_err, msg_dtype if msg_dtype is not None else X.dtype\n",
            "ValueError: Input contains NaN, infinity or a value too large for dtype('float32').\n",
            "\n",
            "  UserWarning,\n"
          ]
        },
        {
          "metadata": {
            "tags": null
          },
          "name": "stdout",
          "output_type": "stream",
          "text": [
            "[16:19:45] WARNING: /workspace/src/objective/regression_obj.cu:152: reg:linear is now deprecated in favor of reg:squarederror.\n"
          ]
        },
        {
          "metadata": {
            "tags": null
          },
          "name": "stderr",
          "output_type": "stream",
          "text": [
            "/usr/local/lib/python3.7/dist-packages/sklearn/model_selection/_validation.py:774: UserWarning: Scoring failed. The score on this train-test partition for these parameters will be set to nan. Details: \n",
            "Traceback (most recent call last):\n",
            "  File \"/usr/local/lib/python3.7/dist-packages/sklearn/model_selection/_validation.py\", line 761, in _score\n",
            "    scores = scorer(estimator, X_test, y_test)\n",
            "  File \"/usr/local/lib/python3.7/dist-packages/sklearn/metrics/_scorer.py\", line 221, in __call__\n",
            "    sample_weight=sample_weight,\n",
            "  File \"/usr/local/lib/python3.7/dist-packages/sklearn/metrics/_scorer.py\", line 264, in _score\n",
            "    return self._sign * self._score_func(y_true, y_pred, **self._kwargs)\n",
            "  File \"/usr/local/lib/python3.7/dist-packages/sklearn/metrics/_regression.py\", line 439, in mean_squared_error\n",
            "    y_true, y_pred, multioutput\n",
            "  File \"/usr/local/lib/python3.7/dist-packages/sklearn/metrics/_regression.py\", line 96, in _check_reg_targets\n",
            "    y_pred = check_array(y_pred, ensure_2d=False, dtype=dtype)\n",
            "  File \"/usr/local/lib/python3.7/dist-packages/sklearn/utils/validation.py\", line 800, in check_array\n",
            "    _assert_all_finite(array, allow_nan=force_all_finite == \"allow-nan\")\n",
            "  File \"/usr/local/lib/python3.7/dist-packages/sklearn/utils/validation.py\", line 116, in _assert_all_finite\n",
            "    type_err, msg_dtype if msg_dtype is not None else X.dtype\n",
            "ValueError: Input contains NaN, infinity or a value too large for dtype('float32').\n",
            "\n",
            "  UserWarning,\n"
          ]
        },
        {
          "metadata": {
            "tags": null
          },
          "name": "stdout",
          "output_type": "stream",
          "text": [
            "[16:20:28] WARNING: /workspace/src/objective/regression_obj.cu:152: reg:linear is now deprecated in favor of reg:squarederror.\n"
          ]
        },
        {
          "metadata": {
            "tags": null
          },
          "name": "stderr",
          "output_type": "stream",
          "text": [
            "/usr/local/lib/python3.7/dist-packages/sklearn/model_selection/_validation.py:774: UserWarning: Scoring failed. The score on this train-test partition for these parameters will be set to nan. Details: \n",
            "Traceback (most recent call last):\n",
            "  File \"/usr/local/lib/python3.7/dist-packages/sklearn/model_selection/_validation.py\", line 761, in _score\n",
            "    scores = scorer(estimator, X_test, y_test)\n",
            "  File \"/usr/local/lib/python3.7/dist-packages/sklearn/metrics/_scorer.py\", line 221, in __call__\n",
            "    sample_weight=sample_weight,\n",
            "  File \"/usr/local/lib/python3.7/dist-packages/sklearn/metrics/_scorer.py\", line 264, in _score\n",
            "    return self._sign * self._score_func(y_true, y_pred, **self._kwargs)\n",
            "  File \"/usr/local/lib/python3.7/dist-packages/sklearn/metrics/_regression.py\", line 439, in mean_squared_error\n",
            "    y_true, y_pred, multioutput\n",
            "  File \"/usr/local/lib/python3.7/dist-packages/sklearn/metrics/_regression.py\", line 96, in _check_reg_targets\n",
            "    y_pred = check_array(y_pred, ensure_2d=False, dtype=dtype)\n",
            "  File \"/usr/local/lib/python3.7/dist-packages/sklearn/utils/validation.py\", line 800, in check_array\n",
            "    _assert_all_finite(array, allow_nan=force_all_finite == \"allow-nan\")\n",
            "  File \"/usr/local/lib/python3.7/dist-packages/sklearn/utils/validation.py\", line 116, in _assert_all_finite\n",
            "    type_err, msg_dtype if msg_dtype is not None else X.dtype\n",
            "ValueError: Input contains NaN, infinity or a value too large for dtype('float32').\n",
            "\n",
            "  UserWarning,\n"
          ]
        },
        {
          "metadata": {
            "tags": null
          },
          "name": "stdout",
          "output_type": "stream",
          "text": [
            "[16:21:11] WARNING: /workspace/src/objective/regression_obj.cu:152: reg:linear is now deprecated in favor of reg:squarederror.\n"
          ]
        },
        {
          "metadata": {
            "tags": null
          },
          "name": "stderr",
          "output_type": "stream",
          "text": [
            "/usr/local/lib/python3.7/dist-packages/sklearn/model_selection/_validation.py:774: UserWarning: Scoring failed. The score on this train-test partition for these parameters will be set to nan. Details: \n",
            "Traceback (most recent call last):\n",
            "  File \"/usr/local/lib/python3.7/dist-packages/sklearn/model_selection/_validation.py\", line 761, in _score\n",
            "    scores = scorer(estimator, X_test, y_test)\n",
            "  File \"/usr/local/lib/python3.7/dist-packages/sklearn/metrics/_scorer.py\", line 221, in __call__\n",
            "    sample_weight=sample_weight,\n",
            "  File \"/usr/local/lib/python3.7/dist-packages/sklearn/metrics/_scorer.py\", line 264, in _score\n",
            "    return self._sign * self._score_func(y_true, y_pred, **self._kwargs)\n",
            "  File \"/usr/local/lib/python3.7/dist-packages/sklearn/metrics/_regression.py\", line 439, in mean_squared_error\n",
            "    y_true, y_pred, multioutput\n",
            "  File \"/usr/local/lib/python3.7/dist-packages/sklearn/metrics/_regression.py\", line 96, in _check_reg_targets\n",
            "    y_pred = check_array(y_pred, ensure_2d=False, dtype=dtype)\n",
            "  File \"/usr/local/lib/python3.7/dist-packages/sklearn/utils/validation.py\", line 800, in check_array\n",
            "    _assert_all_finite(array, allow_nan=force_all_finite == \"allow-nan\")\n",
            "  File \"/usr/local/lib/python3.7/dist-packages/sklearn/utils/validation.py\", line 116, in _assert_all_finite\n",
            "    type_err, msg_dtype if msg_dtype is not None else X.dtype\n",
            "ValueError: Input contains NaN, infinity or a value too large for dtype('float32').\n",
            "\n",
            "  UserWarning,\n"
          ]
        },
        {
          "metadata": {
            "tags": null
          },
          "name": "stdout",
          "output_type": "stream",
          "text": [
            "[16:21:53] WARNING: /workspace/src/objective/regression_obj.cu:152: reg:linear is now deprecated in favor of reg:squarederror.\n",
            "[16:24:35] WARNING: /workspace/src/objective/regression_obj.cu:152: reg:linear is now deprecated in favor of reg:squarederror.\n",
            "[16:27:12] WARNING: /workspace/src/objective/regression_obj.cu:152: reg:linear is now deprecated in favor of reg:squarederror.\n",
            "[16:29:51] WARNING: /workspace/src/objective/regression_obj.cu:152: reg:linear is now deprecated in favor of reg:squarederror.\n",
            "[16:32:50] WARNING: /workspace/src/objective/regression_obj.cu:152: reg:linear is now deprecated in favor of reg:squarederror.\n",
            "[16:35:47] WARNING: /workspace/src/objective/regression_obj.cu:152: reg:linear is now deprecated in favor of reg:squarederror.\n",
            "[16:38:42] WARNING: /workspace/src/objective/regression_obj.cu:152: reg:linear is now deprecated in favor of reg:squarederror.\n"
          ]
        },
        {
          "metadata": {
            "tags": null
          },
          "name": "stderr",
          "output_type": "stream",
          "text": [
            "/usr/local/lib/python3.7/dist-packages/sklearn/model_selection/_validation.py:774: UserWarning: Scoring failed. The score on this train-test partition for these parameters will be set to nan. Details: \n",
            "Traceback (most recent call last):\n",
            "  File \"/usr/local/lib/python3.7/dist-packages/sklearn/model_selection/_validation.py\", line 761, in _score\n",
            "    scores = scorer(estimator, X_test, y_test)\n",
            "  File \"/usr/local/lib/python3.7/dist-packages/sklearn/metrics/_scorer.py\", line 221, in __call__\n",
            "    sample_weight=sample_weight,\n",
            "  File \"/usr/local/lib/python3.7/dist-packages/sklearn/metrics/_scorer.py\", line 264, in _score\n",
            "    return self._sign * self._score_func(y_true, y_pred, **self._kwargs)\n",
            "  File \"/usr/local/lib/python3.7/dist-packages/sklearn/metrics/_regression.py\", line 439, in mean_squared_error\n",
            "    y_true, y_pred, multioutput\n",
            "  File \"/usr/local/lib/python3.7/dist-packages/sklearn/metrics/_regression.py\", line 96, in _check_reg_targets\n",
            "    y_pred = check_array(y_pred, ensure_2d=False, dtype=dtype)\n",
            "  File \"/usr/local/lib/python3.7/dist-packages/sklearn/utils/validation.py\", line 800, in check_array\n",
            "    _assert_all_finite(array, allow_nan=force_all_finite == \"allow-nan\")\n",
            "  File \"/usr/local/lib/python3.7/dist-packages/sklearn/utils/validation.py\", line 116, in _assert_all_finite\n",
            "    type_err, msg_dtype if msg_dtype is not None else X.dtype\n",
            "ValueError: Input contains NaN, infinity or a value too large for dtype('float32').\n",
            "\n",
            "  UserWarning,\n"
          ]
        },
        {
          "metadata": {
            "tags": null
          },
          "name": "stdout",
          "output_type": "stream",
          "text": [
            "[16:39:47] WARNING: /workspace/src/objective/regression_obj.cu:152: reg:linear is now deprecated in favor of reg:squarederror.\n"
          ]
        },
        {
          "metadata": {
            "tags": null
          },
          "name": "stderr",
          "output_type": "stream",
          "text": [
            "/usr/local/lib/python3.7/dist-packages/sklearn/model_selection/_validation.py:774: UserWarning: Scoring failed. The score on this train-test partition for these parameters will be set to nan. Details: \n",
            "Traceback (most recent call last):\n",
            "  File \"/usr/local/lib/python3.7/dist-packages/sklearn/model_selection/_validation.py\", line 761, in _score\n",
            "    scores = scorer(estimator, X_test, y_test)\n",
            "  File \"/usr/local/lib/python3.7/dist-packages/sklearn/metrics/_scorer.py\", line 221, in __call__\n",
            "    sample_weight=sample_weight,\n",
            "  File \"/usr/local/lib/python3.7/dist-packages/sklearn/metrics/_scorer.py\", line 264, in _score\n",
            "    return self._sign * self._score_func(y_true, y_pred, **self._kwargs)\n",
            "  File \"/usr/local/lib/python3.7/dist-packages/sklearn/metrics/_regression.py\", line 439, in mean_squared_error\n",
            "    y_true, y_pred, multioutput\n",
            "  File \"/usr/local/lib/python3.7/dist-packages/sklearn/metrics/_regression.py\", line 96, in _check_reg_targets\n",
            "    y_pred = check_array(y_pred, ensure_2d=False, dtype=dtype)\n",
            "  File \"/usr/local/lib/python3.7/dist-packages/sklearn/utils/validation.py\", line 800, in check_array\n",
            "    _assert_all_finite(array, allow_nan=force_all_finite == \"allow-nan\")\n",
            "  File \"/usr/local/lib/python3.7/dist-packages/sklearn/utils/validation.py\", line 116, in _assert_all_finite\n",
            "    type_err, msg_dtype if msg_dtype is not None else X.dtype\n",
            "ValueError: Input contains NaN, infinity or a value too large for dtype('float32').\n",
            "\n",
            "  UserWarning,\n"
          ]
        },
        {
          "metadata": {
            "tags": null
          },
          "name": "stdout",
          "output_type": "stream",
          "text": [
            "[16:40:51] WARNING: /workspace/src/objective/regression_obj.cu:152: reg:linear is now deprecated in favor of reg:squarederror.\n"
          ]
        },
        {
          "metadata": {
            "tags": null
          },
          "name": "stderr",
          "output_type": "stream",
          "text": [
            "/usr/local/lib/python3.7/dist-packages/sklearn/model_selection/_validation.py:774: UserWarning: Scoring failed. The score on this train-test partition for these parameters will be set to nan. Details: \n",
            "Traceback (most recent call last):\n",
            "  File \"/usr/local/lib/python3.7/dist-packages/sklearn/model_selection/_validation.py\", line 761, in _score\n",
            "    scores = scorer(estimator, X_test, y_test)\n",
            "  File \"/usr/local/lib/python3.7/dist-packages/sklearn/metrics/_scorer.py\", line 221, in __call__\n",
            "    sample_weight=sample_weight,\n",
            "  File \"/usr/local/lib/python3.7/dist-packages/sklearn/metrics/_scorer.py\", line 264, in _score\n",
            "    return self._sign * self._score_func(y_true, y_pred, **self._kwargs)\n",
            "  File \"/usr/local/lib/python3.7/dist-packages/sklearn/metrics/_regression.py\", line 439, in mean_squared_error\n",
            "    y_true, y_pred, multioutput\n",
            "  File \"/usr/local/lib/python3.7/dist-packages/sklearn/metrics/_regression.py\", line 96, in _check_reg_targets\n",
            "    y_pred = check_array(y_pred, ensure_2d=False, dtype=dtype)\n",
            "  File \"/usr/local/lib/python3.7/dist-packages/sklearn/utils/validation.py\", line 800, in check_array\n",
            "    _assert_all_finite(array, allow_nan=force_all_finite == \"allow-nan\")\n",
            "  File \"/usr/local/lib/python3.7/dist-packages/sklearn/utils/validation.py\", line 116, in _assert_all_finite\n",
            "    type_err, msg_dtype if msg_dtype is not None else X.dtype\n",
            "ValueError: Input contains NaN, infinity or a value too large for dtype('float32').\n",
            "\n",
            "  UserWarning,\n"
          ]
        },
        {
          "output_type": "stream",
          "name": "stdout",
          "text": [
            "[16:41:56] WARNING: /workspace/src/objective/regression_obj.cu:152: reg:linear is now deprecated in favor of reg:squarederror.\n",
            "[16:48:00] WARNING: /workspace/src/objective/regression_obj.cu:152: reg:linear is now deprecated in favor of reg:squarederror.\n",
            "[16:53:49] WARNING: /workspace/src/objective/regression_obj.cu:152: reg:linear is now deprecated in favor of reg:squarederror.\n",
            "[16:59:36] WARNING: /workspace/src/objective/regression_obj.cu:152: reg:linear is now deprecated in favor of reg:squarederror.\n",
            "[17:12:18] WARNING: /workspace/src/objective/regression_obj.cu:152: reg:linear is now deprecated in favor of reg:squarederror.\n",
            "[17:24:09] WARNING: /workspace/src/objective/regression_obj.cu:152: reg:linear is now deprecated in favor of reg:squarederror.\n"
          ]
        },
        {
          "output_type": "stream",
          "name": "stderr",
          "text": [
            "/usr/local/lib/python3.7/dist-packages/sklearn/model_selection/_search.py:972: UserWarning: One or more of the test scores are non-finite: [-0.36291431         nan         nan         nan         nan -0.349972\n",
            " -0.39064585         nan -1.18830559 -0.39532244]\n",
            "  category=UserWarning,\n"
          ]
        },
        {
          "output_type": "stream",
          "name": "stdout",
          "text": [
            "[17:35:56] WARNING: /workspace/src/objective/regression_obj.cu:152: reg:linear is now deprecated in favor of reg:squarederror.\n",
            "XGBRegressor(colsample_bytree=0.6, max_depth=5, n_estimators=150, reg_lambda=0,\n",
            "             subsample=0.3)\n",
            "-0.34997199748949104\n"
          ]
        }
      ]
    },
    {
      "cell_type": "code",
      "source": [
        "y_pred=xgb_reg.predict(scaled_tr)\n",
        "print(np.sqrt(np.mean((y_tr_reg-y_pred)**2)))"
      ],
      "metadata": {
        "colab": {
          "base_uri": "https://localhost:8080/"
        },
        "id": "qdmegrzEHh44",
        "outputId": "b1b2f1d7-d26a-4599-a05e-2cef49482e10"
      },
      "execution_count": null,
      "outputs": [
        {
          "output_type": "stream",
          "name": "stdout",
          "text": [
            "0.3157937688954403\n"
          ]
        }
      ]
    },
    {
      "cell_type": "code",
      "source": [
        "filename='/content/drive/MyDrive/Colab Notebooks/self case study 1/xgb_reg.sav'\n",
        "pickle.dump(rcv.best_estimator_,open(filename,'wb'))"
      ],
      "metadata": {
        "id": "qBd9NfbssBSZ"
      },
      "execution_count": null,
      "outputs": []
    },
    {
      "cell_type": "code",
      "source": [
        "rf_params={'n_estimators':[50,100,150,200],\n",
        "           'max_depth':[2,4,8,16,32,64,128],\n",
        "           'min_samples_split':[2,4,8,16,32,64],\n",
        "           'max_features':['sqrt','log2'],\n",
        "           'warm_start':[True,False]}\n",
        "rf_reg=RandomForestRegressor()\n",
        "rcv=RandomizedSearchCV(rf_reg,rf_params,cv=3,scoring='neg_root_mean_squared_error')\n",
        "rcv.fit(x_tr,y_tr_reg)\n",
        "print(rcv.best_estimator_)\n",
        "print(rcv.best_score_)"
      ],
      "metadata": {
        "id": "kgCme9uKN2zG",
        "colab": {
          "base_uri": "https://localhost:8080/"
        },
        "outputId": "d41b4959-d7bf-4345-efec-513563705668"
      },
      "execution_count": null,
      "outputs": [
        {
          "output_type": "stream",
          "name": "stdout",
          "text": [
            "RandomForestRegressor(max_depth=8, max_features='sqrt', min_samples_split=64,\n",
            "                      n_estimators=200)\n",
            "-0.338261042436602\n"
          ]
        }
      ]
    },
    {
      "cell_type": "code",
      "source": [
        "filename='/content/drive/MyDrive/Colab Notebooks/self case study 1/rf_reg.sav'\n",
        "pickle.dump(rcv.best_estimator_,open(filename,'wb'))"
      ],
      "metadata": {
        "id": "Hppld9N6tzVm"
      },
      "execution_count": null,
      "outputs": []
    },
    {
      "cell_type": "code",
      "source": [
        "filename='/content/drive/MyDrive/Colab Notebooks/self case study 1/lgbm_reg.sav'\n",
        "lgbm_reg = pickle.load(open(filename, 'rb'))\n",
        "filename='/content/drive/MyDrive/Colab Notebooks/self case study 1/lr_reg.sav'\n",
        "lr_reg = pickle.load(open(filename, 'rb'))\n",
        "filename='/content/drive/MyDrive/Colab Notebooks/self case study 1/xgb_reg.sav'\n",
        "xgb_reg = pickle.load(open(filename, 'rb'))\n",
        "filename='/content/drive/MyDrive/Colab Notebooks/self case study 1/rf_reg.sav'\n",
        "rf_reg = pickle.load(open(filename, 'rb'))"
      ],
      "metadata": {
        "colab": {
          "base_uri": "https://localhost:8080/"
        },
        "id": "RwcM_Xo22DU4",
        "outputId": "5aec2fba-fde6-44e2-e56b-29407343d41c"
      },
      "execution_count": null,
      "outputs": [
        {
          "output_type": "stream",
          "name": "stdout",
          "text": [
            "[07:02:54] WARNING: /workspace/src/objective/regression_obj.cu:152: reg:linear is now deprecated in favor of reg:squarederror.\n"
          ]
        }
      ]
    },
    {
      "cell_type": "code",
      "source": [
        "meta_params=[0.00001,0.0001,0.001,0.01,0.1,1,10,100]\n",
        "for i in meta_params:\n",
        "  meta=SGDRegressor(alpha=i)\n",
        "  sreg=StackingRegressor([lgbm_reg,lr_reg,xgb_reg,rf_reg],meta_regressor=meta)\n",
        "  sreg.fit(scaled_tr,y_tr_reg)\n",
        "  y_pred=sreg.predict(scaled_tr)\n",
        "  print(np.sqrt(np.mean((y_tr_reg-y_pred)**2)))"
      ],
      "metadata": {
        "colab": {
          "base_uri": "https://localhost:8080/"
        },
        "id": "-VHtqoX_2ciW",
        "outputId": "2e174bf3-ec4a-4e4f-e522-871fb0c6f8b3"
      },
      "execution_count": null,
      "outputs": [
        {
          "output_type": "stream",
          "name": "stdout",
          "text": [
            "[07:14:08] WARNING: /workspace/src/objective/regression_obj.cu:152: reg:linear is now deprecated in favor of reg:squarederror.\n",
            "0.3131998597294347\n",
            "[07:23:35] WARNING: /workspace/src/objective/regression_obj.cu:152: reg:linear is now deprecated in favor of reg:squarederror.\n",
            "0.31351600117107215\n",
            "[07:33:22] WARNING: /workspace/src/objective/regression_obj.cu:152: reg:linear is now deprecated in favor of reg:squarederror.\n",
            "0.31418862753543275\n",
            "[07:42:49] WARNING: /workspace/src/objective/regression_obj.cu:152: reg:linear is now deprecated in favor of reg:squarederror.\n",
            "0.321409264518415\n",
            "[07:52:12] WARNING: /workspace/src/objective/regression_obj.cu:152: reg:linear is now deprecated in favor of reg:squarederror.\n",
            "0.33769868047709445\n",
            "[08:01:48] WARNING: /workspace/src/objective/regression_obj.cu:152: reg:linear is now deprecated in favor of reg:squarederror.\n",
            "0.341333918356238\n",
            "[08:11:10] WARNING: /workspace/src/objective/regression_obj.cu:152: reg:linear is now deprecated in favor of reg:squarederror.\n",
            "0.34203900939470566\n",
            "[08:20:47] WARNING: /workspace/src/objective/regression_obj.cu:152: reg:linear is now deprecated in favor of reg:squarederror.\n",
            "0.34203696887444995\n"
          ]
        }
      ]
    },
    {
      "cell_type": "code",
      "source": [
        "meta=SGDRegressor(alpha=0.00001)\n",
        "sreg=StackingRegressor([lgbm_reg,lr_reg,xgb_reg,rf_reg],meta_regressor=meta)\n",
        "sreg.fit(scaled_tr,y_tr_reg)"
      ],
      "metadata": {
        "colab": {
          "base_uri": "https://localhost:8080/"
        },
        "id": "lvZG6avwLO5M",
        "outputId": "f1a11d0e-c2a5-4cc1-f36d-073949d09d2b"
      },
      "execution_count": null,
      "outputs": [
        {
          "output_type": "stream",
          "name": "stdout",
          "text": [
            "[08:35:03] WARNING: /workspace/src/objective/regression_obj.cu:152: reg:linear is now deprecated in favor of reg:squarederror.\n"
          ]
        },
        {
          "output_type": "execute_result",
          "data": {
            "text/plain": [
              "StackingRegressor(meta_regressor=SGDRegressor(alpha=1e-05),\n",
              "                  regressors=[LGBMRegressor(colsample_bytree=0.4,\n",
              "                                            learning_rate=0.05, max_leaves=256,\n",
              "                                            metric='rmse', n_estimators=50,\n",
              "                                            num_leaves=6,\n",
              "                                            objective='regression', reg_alpha=0,\n",
              "                                            reg_lambda=0, subsample=0.7),\n",
              "                              SGDRegressor(alpha=0.001, fit_intercept=False,\n",
              "                                           penalty='l1', warm_start=True),\n",
              "                              XGBRegressor(colsample_bytree=0.6, max_depth=5,\n",
              "                                           missing=nan, n_estimators=150,\n",
              "                                           reg_lambda=0, subsample=0.3),\n",
              "                              RandomForestRegressor(max_depth=8,\n",
              "                                                    max_features='sqrt',\n",
              "                                                    min_samples_split=64,\n",
              "                                                    n_estimators=200)])"
            ]
          },
          "metadata": {},
          "execution_count": 9
        }
      ]
    },
    {
      "cell_type": "code",
      "source": [
        "filename='/content/drive/MyDrive/Colab Notebooks/self case study 1/sreg.sav'\n",
        "pickle.dump(sreg,open(filename,'wb'))"
      ],
      "metadata": {
        "id": "hO6ip0tJK927"
      },
      "execution_count": null,
      "outputs": []
    },
    {
      "cell_type": "code",
      "source": [
        "train_reg_x,val_reg_x,train_reg_y,val_reg_y=model_selection.train_test_split(scaled_tr,y_tr_reg,test_size=0.2,random_state=1)\n",
        "print(train_reg_x.shape,val_reg_x.shape)\n",
        "print(train_reg_y.shape,val_reg_y.shape)"
      ],
      "metadata": {
        "colab": {
          "base_uri": "https://localhost:8080/"
        },
        "id": "zmeZuLfe6-6g",
        "outputId": "f5ef9484-d441-464f-f980-94886de837db"
      },
      "execution_count": null,
      "outputs": [
        {
          "output_type": "stream",
          "name": "stdout",
          "text": [
            "(1140288, 22) (285073, 22)\n",
            "(1140288,) (285073,)\n"
          ]
        }
      ]
    },
    {
      "cell_type": "code",
      "source": [
        "input=Input(shape=train_reg_x.shape[1])\n",
        "x=Dense(256)(input)\n",
        "x=LeakyReLU()(x)\n",
        "\n",
        "x=Dense(128)(x)\n",
        "x=LeakyReLU()(x)\n",
        "\n",
        "output=Dense(1,activation='linear')(x)\n",
        "\n",
        "neural_reg=tf.keras.Model(inputs=input,outputs=output)\n",
        "neural_reg.summary()"
      ],
      "metadata": {
        "colab": {
          "base_uri": "https://localhost:8080/"
        },
        "id": "kVMVuavd6Fox",
        "outputId": "9e3606f3-77a7-4a7a-cdec-e512c5b08800"
      },
      "execution_count": null,
      "outputs": [
        {
          "output_type": "stream",
          "name": "stdout",
          "text": [
            "Model: \"model_11\"\n",
            "_________________________________________________________________\n",
            " Layer (type)                Output Shape              Param #   \n",
            "=================================================================\n",
            " input_12 (InputLayer)       [(None, 22)]              0         \n",
            "                                                                 \n",
            " dense_40 (Dense)            (None, 256)               5888      \n",
            "                                                                 \n",
            " leaky_re_lu_29 (LeakyReLU)  (None, 256)               0         \n",
            "                                                                 \n",
            " dense_41 (Dense)            (None, 128)               32896     \n",
            "                                                                 \n",
            " leaky_re_lu_30 (LeakyReLU)  (None, 128)               0         \n",
            "                                                                 \n",
            " dense_42 (Dense)            (None, 1)                 129       \n",
            "                                                                 \n",
            "=================================================================\n",
            "Total params: 38,913\n",
            "Trainable params: 38,913\n",
            "Non-trainable params: 0\n",
            "_________________________________________________________________\n"
          ]
        }
      ]
    },
    {
      "cell_type": "code",
      "source": [
        "checkpoint=tf.keras.callbacks.ModelCheckpoint('best_neural_reg.hdf',monitor='val_loss',save_best_only=True,save_weights_only=True,verbose=1)\n",
        "neural_reg.compile(optimizer='adam',loss='mse',metrics='mae')\n",
        "neural_reg.fit(train_reg_x,train_reg_y,epochs=50,batch_size=len(train_reg_x)//300,validation_data=[val_reg_x,val_reg_y],callbacks=[checkpoint])"
      ],
      "metadata": {
        "colab": {
          "base_uri": "https://localhost:8080/"
        },
        "id": "zjYHfBnd6jeO",
        "outputId": "a7462723-cff5-401a-e74d-9565e3cfb5e3"
      },
      "execution_count": null,
      "outputs": [
        {
          "output_type": "stream",
          "name": "stdout",
          "text": [
            "Epoch 1/50\n",
            "301/301 [==============================] - ETA: 0s - loss: 16.6348 - mae: 1.4143\n",
            "Epoch 1: val_loss improved from inf to 0.48758, saving model to best_neural_reg.hdf\n",
            "301/301 [==============================] - 11s 35ms/step - loss: 16.6348 - mae: 1.4143 - val_loss: 0.4876 - val_mae: 0.4791\n",
            "Epoch 2/50\n",
            "300/301 [============================>.] - ETA: 0s - loss: 0.4049 - mae: 0.4082\n",
            "Epoch 2: val_loss improved from 0.48758 to 0.30401, saving model to best_neural_reg.hdf\n",
            "301/301 [==============================] - 12s 41ms/step - loss: 0.4049 - mae: 0.4081 - val_loss: 0.3040 - val_mae: 0.3514\n",
            "Epoch 3/50\n",
            "300/301 [============================>.] - ETA: 0s - loss: 0.2903 - mae: 0.3186\n",
            "Epoch 3: val_loss improved from 0.30401 to 0.23401, saving model to best_neural_reg.hdf\n",
            "301/301 [==============================] - 10s 35ms/step - loss: 0.2903 - mae: 0.3186 - val_loss: 0.2340 - val_mae: 0.2880\n",
            "Epoch 4/50\n",
            "300/301 [============================>.] - ETA: 0s - loss: 0.2394 - mae: 0.2692\n",
            "Epoch 4: val_loss improved from 0.23401 to 0.19800, saving model to best_neural_reg.hdf\n",
            "301/301 [==============================] - 10s 34ms/step - loss: 0.2397 - mae: 0.2693 - val_loss: 0.1980 - val_mae: 0.2498\n",
            "Epoch 5/50\n",
            "300/301 [============================>.] - ETA: 0s - loss: 0.2116 - mae: 0.2369\n",
            "Epoch 5: val_loss improved from 0.19800 to 0.17919, saving model to best_neural_reg.hdf\n",
            "301/301 [==============================] - 11s 35ms/step - loss: 0.2115 - mae: 0.2369 - val_loss: 0.1792 - val_mae: 0.2239\n",
            "Epoch 6/50\n",
            "301/301 [==============================] - ETA: 0s - loss: 0.1927 - mae: 0.2128\n",
            "Epoch 6: val_loss improved from 0.17919 to 0.16047, saving model to best_neural_reg.hdf\n",
            "301/301 [==============================] - 10s 33ms/step - loss: 0.1927 - mae: 0.2128 - val_loss: 0.1605 - val_mae: 0.2005\n",
            "Epoch 7/50\n",
            "300/301 [============================>.] - ETA: 0s - loss: 0.1799 - mae: 0.1939\n",
            "Epoch 7: val_loss improved from 0.16047 to 0.15153, saving model to best_neural_reg.hdf\n",
            "301/301 [==============================] - 12s 41ms/step - loss: 0.1799 - mae: 0.1939 - val_loss: 0.1515 - val_mae: 0.1854\n",
            "Epoch 8/50\n",
            "301/301 [==============================] - ETA: 0s - loss: 0.1692 - mae: 0.1771\n",
            "Epoch 8: val_loss improved from 0.15153 to 0.14077, saving model to best_neural_reg.hdf\n",
            "301/301 [==============================] - 11s 35ms/step - loss: 0.1692 - mae: 0.1771 - val_loss: 0.1408 - val_mae: 0.1688\n",
            "Epoch 9/50\n",
            "300/301 [============================>.] - ETA: 0s - loss: 0.1614 - mae: 0.1629\n",
            "Epoch 9: val_loss improved from 0.14077 to 0.13268, saving model to best_neural_reg.hdf\n",
            "301/301 [==============================] - 11s 36ms/step - loss: 0.1613 - mae: 0.1629 - val_loss: 0.1327 - val_mae: 0.1545\n",
            "Epoch 10/50\n",
            "299/301 [============================>.] - ETA: 0s - loss: 0.1544 - mae: 0.1503\n",
            "Epoch 10: val_loss improved from 0.13268 to 0.12642, saving model to best_neural_reg.hdf\n",
            "301/301 [==============================] - 12s 39ms/step - loss: 0.1542 - mae: 0.1503 - val_loss: 0.1264 - val_mae: 0.1436\n",
            "Epoch 11/50\n",
            "301/301 [==============================] - ETA: 0s - loss: 0.1492 - mae: 0.1391\n",
            "Epoch 11: val_loss improved from 0.12642 to 0.12271, saving model to best_neural_reg.hdf\n",
            "301/301 [==============================] - 11s 36ms/step - loss: 0.1492 - mae: 0.1391 - val_loss: 0.1227 - val_mae: 0.1336\n",
            "Epoch 12/50\n",
            "299/301 [============================>.] - ETA: 0s - loss: 0.1452 - mae: 0.1298\n",
            "Epoch 12: val_loss improved from 0.12271 to 0.11947, saving model to best_neural_reg.hdf\n",
            "301/301 [==============================] - 13s 42ms/step - loss: 0.1450 - mae: 0.1298 - val_loss: 0.1195 - val_mae: 0.1247\n",
            "Epoch 13/50\n",
            "301/301 [==============================] - ETA: 0s - loss: 0.1415 - mae: 0.1212\n",
            "Epoch 13: val_loss improved from 0.11947 to 0.11481, saving model to best_neural_reg.hdf\n",
            "301/301 [==============================] - 10s 34ms/step - loss: 0.1415 - mae: 0.1212 - val_loss: 0.1148 - val_mae: 0.1157\n",
            "Epoch 14/50\n",
            "300/301 [============================>.] - ETA: 0s - loss: 0.1381 - mae: 0.1137\n",
            "Epoch 14: val_loss improved from 0.11481 to 0.11128, saving model to best_neural_reg.hdf\n",
            "301/301 [==============================] - 11s 37ms/step - loss: 0.1381 - mae: 0.1137 - val_loss: 0.1113 - val_mae: 0.1087\n",
            "Epoch 15/50\n",
            "301/301 [==============================] - ETA: 0s - loss: 0.1356 - mae: 0.1064\n",
            "Epoch 15: val_loss improved from 0.11128 to 0.10883, saving model to best_neural_reg.hdf\n",
            "301/301 [==============================] - 10s 34ms/step - loss: 0.1356 - mae: 0.1064 - val_loss: 0.1088 - val_mae: 0.1013\n",
            "Epoch 16/50\n",
            "301/301 [==============================] - ETA: 0s - loss: 0.1330 - mae: 0.0996\n",
            "Epoch 16: val_loss improved from 0.10883 to 0.10695, saving model to best_neural_reg.hdf\n",
            "301/301 [==============================] - 12s 41ms/step - loss: 0.1330 - mae: 0.0996 - val_loss: 0.1070 - val_mae: 0.0944\n",
            "Epoch 17/50\n",
            "300/301 [============================>.] - ETA: 0s - loss: 0.1316 - mae: 0.0948\n",
            "Epoch 17: val_loss improved from 0.10695 to 0.10593, saving model to best_neural_reg.hdf\n",
            "301/301 [==============================] - 12s 41ms/step - loss: 0.1316 - mae: 0.0948 - val_loss: 0.1059 - val_mae: 0.0922\n",
            "Epoch 18/50\n",
            "300/301 [============================>.] - ETA: 0s - loss: 0.1300 - mae: 0.0894\n",
            "Epoch 18: val_loss improved from 0.10593 to 0.10405, saving model to best_neural_reg.hdf\n",
            "301/301 [==============================] - 13s 43ms/step - loss: 0.1300 - mae: 0.0894 - val_loss: 0.1040 - val_mae: 0.0846\n",
            "Epoch 19/50\n",
            "300/301 [============================>.] - ETA: 0s - loss: 0.1301 - mae: 0.0862\n",
            "Epoch 19: val_loss improved from 0.10405 to 0.10379, saving model to best_neural_reg.hdf\n",
            "301/301 [==============================] - 11s 36ms/step - loss: 0.1300 - mae: 0.0862 - val_loss: 0.1038 - val_mae: 0.0792\n",
            "Epoch 20/50\n",
            "301/301 [==============================] - ETA: 0s - loss: 0.1272 - mae: 0.0801\n",
            "Epoch 20: val_loss did not improve from 0.10379\n",
            "301/301 [==============================] - 10s 34ms/step - loss: 0.1272 - mae: 0.0801 - val_loss: 0.1066 - val_mae: 0.0811\n",
            "Epoch 21/50\n",
            "301/301 [==============================] - ETA: 0s - loss: 0.1265 - mae: 0.0771\n",
            "Epoch 21: val_loss improved from 0.10379 to 0.10022, saving model to best_neural_reg.hdf\n",
            "301/301 [==============================] - 15s 49ms/step - loss: 0.1265 - mae: 0.0771 - val_loss: 0.1002 - val_mae: 0.0712\n",
            "Epoch 22/50\n",
            "300/301 [============================>.] - ETA: 0s - loss: 0.1255 - mae: 0.0728\n",
            "Epoch 22: val_loss improved from 0.10022 to 0.09967, saving model to best_neural_reg.hdf\n",
            "301/301 [==============================] - 11s 37ms/step - loss: 0.1255 - mae: 0.0728 - val_loss: 0.0997 - val_mae: 0.0691\n",
            "Epoch 23/50\n",
            "301/301 [==============================] - ETA: 0s - loss: 0.1248 - mae: 0.0701\n",
            "Epoch 23: val_loss did not improve from 0.09967\n",
            "301/301 [==============================] - 10s 34ms/step - loss: 0.1248 - mae: 0.0701 - val_loss: 0.1001 - val_mae: 0.0676\n",
            "Epoch 24/50\n",
            "300/301 [============================>.] - ETA: 0s - loss: 0.1241 - mae: 0.0669\n",
            "Epoch 24: val_loss did not improve from 0.09967\n",
            "301/301 [==============================] - 11s 36ms/step - loss: 0.1241 - mae: 0.0669 - val_loss: 0.1004 - val_mae: 0.0678\n",
            "Epoch 25/50\n",
            "300/301 [============================>.] - ETA: 0s - loss: 0.1230 - mae: 0.0635\n",
            "Epoch 25: val_loss improved from 0.09967 to 0.09715, saving model to best_neural_reg.hdf\n",
            "301/301 [==============================] - 10s 34ms/step - loss: 0.1229 - mae: 0.0635 - val_loss: 0.0972 - val_mae: 0.0576\n",
            "Epoch 26/50\n",
            "301/301 [==============================] - ETA: 0s - loss: 0.1226 - mae: 0.0608\n",
            "Epoch 26: val_loss did not improve from 0.09715\n",
            "301/301 [==============================] - 12s 40ms/step - loss: 0.1226 - mae: 0.0608 - val_loss: 0.1007 - val_mae: 0.0622\n",
            "Epoch 27/50\n",
            "301/301 [==============================] - ETA: 0s - loss: 0.1223 - mae: 0.0590\n",
            "Epoch 27: val_loss did not improve from 0.09715\n",
            "301/301 [==============================] - 10s 35ms/step - loss: 0.1223 - mae: 0.0590 - val_loss: 0.0978 - val_mae: 0.0554\n",
            "Epoch 28/50\n",
            "301/301 [==============================] - ETA: 0s - loss: 0.1238 - mae: 0.0608\n",
            "Epoch 28: val_loss did not improve from 0.09715\n",
            "301/301 [==============================] - 10s 35ms/step - loss: 0.1238 - mae: 0.0608 - val_loss: 0.0983 - val_mae: 0.0543\n",
            "Epoch 29/50\n",
            "299/301 [============================>.] - ETA: 0s - loss: 0.1213 - mae: 0.0545\n",
            "Epoch 29: val_loss improved from 0.09715 to 0.09529, saving model to best_neural_reg.hdf\n",
            "301/301 [==============================] - 10s 34ms/step - loss: 0.1212 - mae: 0.0544 - val_loss: 0.0953 - val_mae: 0.0478\n",
            "Epoch 30/50\n",
            "301/301 [==============================] - ETA: 0s - loss: 0.1215 - mae: 0.0543\n",
            "Epoch 30: val_loss did not improve from 0.09529\n",
            "301/301 [==============================] - 10s 34ms/step - loss: 0.1215 - mae: 0.0543 - val_loss: 0.0969 - val_mae: 0.0522\n",
            "Epoch 31/50\n",
            "301/301 [==============================] - ETA: 0s - loss: 0.1209 - mae: 0.0521\n",
            "Epoch 31: val_loss improved from 0.09529 to 0.09495, saving model to best_neural_reg.hdf\n",
            "301/301 [==============================] - 13s 42ms/step - loss: 0.1209 - mae: 0.0521 - val_loss: 0.0949 - val_mae: 0.0439\n",
            "Epoch 32/50\n",
            "300/301 [============================>.] - ETA: 0s - loss: 0.1203 - mae: 0.0495\n",
            "Epoch 32: val_loss did not improve from 0.09495\n",
            "301/301 [==============================] - 10s 34ms/step - loss: 0.1203 - mae: 0.0495 - val_loss: 0.0988 - val_mae: 0.0496\n",
            "Epoch 33/50\n",
            "300/301 [============================>.] - ETA: 0s - loss: 0.1209 - mae: 0.0491\n",
            "Epoch 33: val_loss did not improve from 0.09495\n",
            "301/301 [==============================] - 11s 36ms/step - loss: 0.1208 - mae: 0.0491 - val_loss: 0.0978 - val_mae: 0.0552\n",
            "Epoch 34/50\n",
            "300/301 [============================>.] - ETA: 0s - loss: 0.1199 - mae: 0.0474\n",
            "Epoch 34: val_loss did not improve from 0.09495\n",
            "301/301 [==============================] - 10s 34ms/step - loss: 0.1199 - mae: 0.0474 - val_loss: 0.0955 - val_mae: 0.0434\n",
            "Epoch 35/50\n",
            "301/301 [==============================] - ETA: 0s - loss: 0.1194 - mae: 0.0457\n",
            "Epoch 35: val_loss did not improve from 0.09495\n",
            "301/301 [==============================] - 11s 36ms/step - loss: 0.1194 - mae: 0.0457 - val_loss: 0.0956 - val_mae: 0.0473\n",
            "Epoch 36/50\n",
            "300/301 [============================>.] - ETA: 0s - loss: 0.1196 - mae: 0.0456\n",
            "Epoch 36: val_loss did not improve from 0.09495\n",
            "301/301 [==============================] - 12s 40ms/step - loss: 0.1199 - mae: 0.0456 - val_loss: 0.1342 - val_mae: 0.1559\n",
            "Epoch 37/50\n",
            "300/301 [============================>.] - ETA: 0s - loss: 0.1269 - mae: 0.0581\n",
            "Epoch 37: val_loss did not improve from 0.09495\n",
            "301/301 [==============================] - 12s 41ms/step - loss: 0.1269 - mae: 0.0581 - val_loss: 0.0977 - val_mae: 0.0552\n",
            "Epoch 38/50\n",
            "300/301 [============================>.] - ETA: 0s - loss: 0.1218 - mae: 0.0465\n",
            "Epoch 38: val_loss improved from 0.09495 to 0.09376, saving model to best_neural_reg.hdf\n",
            "301/301 [==============================] - 11s 36ms/step - loss: 0.1218 - mae: 0.0465 - val_loss: 0.0938 - val_mae: 0.0388\n",
            "Epoch 39/50\n",
            "300/301 [============================>.] - ETA: 0s - loss: 0.1210 - mae: 0.0430\n",
            "Epoch 39: val_loss improved from 0.09376 to 0.09343, saving model to best_neural_reg.hdf\n",
            "301/301 [==============================] - 11s 35ms/step - loss: 0.1210 - mae: 0.0429 - val_loss: 0.0934 - val_mae: 0.0351\n",
            "Epoch 40/50\n",
            "300/301 [============================>.] - ETA: 0s - loss: 0.1195 - mae: 0.0407\n",
            "Epoch 40: val_loss did not improve from 0.09343\n",
            "301/301 [==============================] - 11s 35ms/step - loss: 0.1195 - mae: 0.0407 - val_loss: 0.0940 - val_mae: 0.0396\n",
            "Epoch 41/50\n",
            "300/301 [============================>.] - ETA: 0s - loss: 0.1195 - mae: 0.0401\n",
            "Epoch 41: val_loss did not improve from 0.09343\n",
            "301/301 [==============================] - 13s 43ms/step - loss: 0.1194 - mae: 0.0401 - val_loss: 0.0940 - val_mae: 0.0348\n",
            "Epoch 42/50\n",
            "301/301 [==============================] - ETA: 0s - loss: 0.1199 - mae: 0.0409\n",
            "Epoch 42: val_loss did not improve from 0.09343\n",
            "301/301 [==============================] - 11s 37ms/step - loss: 0.1199 - mae: 0.0409 - val_loss: 0.0942 - val_mae: 0.0330\n",
            "Epoch 43/50\n",
            "300/301 [============================>.] - ETA: 0s - loss: 0.1189 - mae: 0.0375\n",
            "Epoch 43: val_loss did not improve from 0.09343\n",
            "301/301 [==============================] - 11s 36ms/step - loss: 0.1189 - mae: 0.0375 - val_loss: 0.0981 - val_mae: 0.0456\n",
            "Epoch 44/50\n",
            "300/301 [============================>.] - ETA: 0s - loss: 0.1190 - mae: 0.0392\n",
            "Epoch 44: val_loss did not improve from 0.09343\n",
            "301/301 [==============================] - 11s 36ms/step - loss: 0.1193 - mae: 0.0392 - val_loss: 0.1027 - val_mae: 0.0838\n",
            "Epoch 45/50\n",
            "300/301 [============================>.] - ETA: 0s - loss: 0.1188 - mae: 0.0400\n",
            "Epoch 45: val_loss did not improve from 0.09343\n",
            "301/301 [==============================] - 12s 41ms/step - loss: 0.1188 - mae: 0.0400 - val_loss: 0.0943 - val_mae: 0.0318\n",
            "Epoch 46/50\n",
            "300/301 [============================>.] - ETA: 0s - loss: 0.1189 - mae: 0.0379\n",
            "Epoch 46: val_loss did not improve from 0.09343\n",
            "301/301 [==============================] - 11s 36ms/step - loss: 0.1189 - mae: 0.0379 - val_loss: 0.0956 - val_mae: 0.0368\n",
            "Epoch 47/50\n",
            "301/301 [==============================] - ETA: 0s - loss: 0.1184 - mae: 0.0367\n",
            "Epoch 47: val_loss did not improve from 0.09343\n",
            "301/301 [==============================] - 11s 36ms/step - loss: 0.1184 - mae: 0.0367 - val_loss: 0.0935 - val_mae: 0.0340\n",
            "Epoch 48/50\n",
            "300/301 [============================>.] - ETA: 0s - loss: 0.1184 - mae: 0.0368\n",
            "Epoch 48: val_loss did not improve from 0.09343\n",
            "301/301 [==============================] - 11s 35ms/step - loss: 0.1183 - mae: 0.0368 - val_loss: 0.0940 - val_mae: 0.0321\n",
            "Epoch 49/50\n",
            "300/301 [============================>.] - ETA: 0s - loss: 0.1188 - mae: 0.0377\n",
            "Epoch 49: val_loss did not improve from 0.09343\n",
            "301/301 [==============================] - 11s 35ms/step - loss: 0.1187 - mae: 0.0377 - val_loss: 0.0960 - val_mae: 0.0344\n",
            "Epoch 50/50\n",
            "300/301 [============================>.] - ETA: 0s - loss: 0.1187 - mae: 0.0368\n",
            "Epoch 50: val_loss did not improve from 0.09343\n",
            "301/301 [==============================] - 13s 44ms/step - loss: 0.1186 - mae: 0.0368 - val_loss: 0.0963 - val_mae: 0.0401\n"
          ]
        },
        {
          "output_type": "execute_result",
          "data": {
            "text/plain": [
              "<keras.callbacks.History at 0x7fda931ef810>"
            ]
          },
          "metadata": {},
          "execution_count": 47
        }
      ]
    },
    {
      "cell_type": "code",
      "source": [
        "neural_reg.load_weights('best_neural_reg.hdf')\n",
        "neural_reg.evaluate(val_reg_x,val_reg_y)"
      ],
      "metadata": {
        "colab": {
          "base_uri": "https://localhost:8080/"
        },
        "id": "T77AKhXXTHtO",
        "outputId": "21959ce0-3aad-4821-8f98-10dec6f75b3e"
      },
      "execution_count": null,
      "outputs": [
        {
          "output_type": "stream",
          "name": "stdout",
          "text": [
            "8909/8909 [==============================] - 27s 3ms/step - loss: 0.0934 - mae: 0.0351\n"
          ]
        },
        {
          "output_type": "execute_result",
          "data": {
            "text/plain": [
              "[0.09342516213655472, 0.035061441361904144]"
            ]
          },
          "metadata": {},
          "execution_count": 48
        }
      ]
    },
    {
      "cell_type": "code",
      "source": [
        "neural_reg.save_weights('/content/drive/MyDrive/Colab Notebooks/self case study 1/neural_reg.hdf')"
      ],
      "metadata": {
        "id": "tzq8vs45WMv9"
      },
      "execution_count": null,
      "outputs": []
    },
    {
      "cell_type": "code",
      "source": [
        "filename='/content/drive/MyDrive/Colab Notebooks/self case study 1/lgbm_clf.sav'\n",
        "lgbm_clf = pickle.load(open(filename, 'rb'))\n",
        "filename='/content/drive/MyDrive/Colab Notebooks/self case study 1/lgbm_reg.sav'\n",
        "lgbm_reg = pickle.load(open(filename, 'rb'))"
      ],
      "metadata": {
        "id": "be7XBDxCDuq-"
      },
      "execution_count": null,
      "outputs": []
    },
    {
      "cell_type": "code",
      "source": [
        "sum=0\n",
        "for i in range(10):\n",
        "  pr_ret=lgbm_clf.predict_proba(x_te)[:,1]\n",
        "  pr_rev=lgbm_reg.predict(x_te)\n",
        "  sum=sum+(pr_ret*pr_rev)\n",
        "final_rev=sum/10  "
      ],
      "metadata": {
        "id": "iQGZcZiIEmIZ"
      },
      "execution_count": null,
      "outputs": []
    },
    {
      "cell_type": "markdown",
      "metadata": {
        "id": "tNmTxftvodaD"
      },
      "source": [
        "Now Lets create submission file"
      ]
    },
    {
      "cell_type": "code",
      "execution_count": null,
      "metadata": {
        "colab": {
          "base_uri": "https://localhost:8080/",
          "height": 224
        },
        "id": "_pUggCItoiT1",
        "outputId": "77cfd666-2402-435b-f330-04cb32455fca"
      },
      "outputs": [
        {
          "output_type": "stream",
          "name": "stdout",
          "text": [
            "(296530, 2)\n"
          ]
        },
        {
          "output_type": "execute_result",
          "data": {
            "text/plain": [
              "             visitorID  Predictedrevenue\n",
              "0  0000018966949534117          0.000028\n",
              "1  0000039738481224681          0.000006\n",
              "2  0000073585230191399          0.000008\n",
              "3  0000087588448856385          0.000004\n",
              "4  0000149787903119437          0.000004"
            ],
            "text/html": [
              "\n",
              "  <div id=\"df-9baa713d-8830-47bb-b6cb-e363eec05c39\">\n",
              "    <div class=\"colab-df-container\">\n",
              "      <div>\n",
              "<style scoped>\n",
              "    .dataframe tbody tr th:only-of-type {\n",
              "        vertical-align: middle;\n",
              "    }\n",
              "\n",
              "    .dataframe tbody tr th {\n",
              "        vertical-align: top;\n",
              "    }\n",
              "\n",
              "    .dataframe thead th {\n",
              "        text-align: right;\n",
              "    }\n",
              "</style>\n",
              "<table border=\"1\" class=\"dataframe\">\n",
              "  <thead>\n",
              "    <tr style=\"text-align: right;\">\n",
              "      <th></th>\n",
              "      <th>visitorID</th>\n",
              "      <th>Predictedrevenue</th>\n",
              "    </tr>\n",
              "  </thead>\n",
              "  <tbody>\n",
              "    <tr>\n",
              "      <th>0</th>\n",
              "      <td>0000018966949534117</td>\n",
              "      <td>0.000028</td>\n",
              "    </tr>\n",
              "    <tr>\n",
              "      <th>1</th>\n",
              "      <td>0000039738481224681</td>\n",
              "      <td>0.000006</td>\n",
              "    </tr>\n",
              "    <tr>\n",
              "      <th>2</th>\n",
              "      <td>0000073585230191399</td>\n",
              "      <td>0.000008</td>\n",
              "    </tr>\n",
              "    <tr>\n",
              "      <th>3</th>\n",
              "      <td>0000087588448856385</td>\n",
              "      <td>0.000004</td>\n",
              "    </tr>\n",
              "    <tr>\n",
              "      <th>4</th>\n",
              "      <td>0000149787903119437</td>\n",
              "      <td>0.000004</td>\n",
              "    </tr>\n",
              "  </tbody>\n",
              "</table>\n",
              "</div>\n",
              "      <button class=\"colab-df-convert\" onclick=\"convertToInteractive('df-9baa713d-8830-47bb-b6cb-e363eec05c39')\"\n",
              "              title=\"Convert this dataframe to an interactive table.\"\n",
              "              style=\"display:none;\">\n",
              "        \n",
              "  <svg xmlns=\"http://www.w3.org/2000/svg\" height=\"24px\"viewBox=\"0 0 24 24\"\n",
              "       width=\"24px\">\n",
              "    <path d=\"M0 0h24v24H0V0z\" fill=\"none\"/>\n",
              "    <path d=\"M18.56 5.44l.94 2.06.94-2.06 2.06-.94-2.06-.94-.94-2.06-.94 2.06-2.06.94zm-11 1L8.5 8.5l.94-2.06 2.06-.94-2.06-.94L8.5 2.5l-.94 2.06-2.06.94zm10 10l.94 2.06.94-2.06 2.06-.94-2.06-.94-.94-2.06-.94 2.06-2.06.94z\"/><path d=\"M17.41 7.96l-1.37-1.37c-.4-.4-.92-.59-1.43-.59-.52 0-1.04.2-1.43.59L10.3 9.45l-7.72 7.72c-.78.78-.78 2.05 0 2.83L4 21.41c.39.39.9.59 1.41.59.51 0 1.02-.2 1.41-.59l7.78-7.78 2.81-2.81c.8-.78.8-2.07 0-2.86zM5.41 20L4 18.59l7.72-7.72 1.47 1.35L5.41 20z\"/>\n",
              "  </svg>\n",
              "      </button>\n",
              "      \n",
              "  <style>\n",
              "    .colab-df-container {\n",
              "      display:flex;\n",
              "      flex-wrap:wrap;\n",
              "      gap: 12px;\n",
              "    }\n",
              "\n",
              "    .colab-df-convert {\n",
              "      background-color: #E8F0FE;\n",
              "      border: none;\n",
              "      border-radius: 50%;\n",
              "      cursor: pointer;\n",
              "      display: none;\n",
              "      fill: #1967D2;\n",
              "      height: 32px;\n",
              "      padding: 0 0 0 0;\n",
              "      width: 32px;\n",
              "    }\n",
              "\n",
              "    .colab-df-convert:hover {\n",
              "      background-color: #E2EBFA;\n",
              "      box-shadow: 0px 1px 2px rgba(60, 64, 67, 0.3), 0px 1px 3px 1px rgba(60, 64, 67, 0.15);\n",
              "      fill: #174EA6;\n",
              "    }\n",
              "\n",
              "    [theme=dark] .colab-df-convert {\n",
              "      background-color: #3B4455;\n",
              "      fill: #D2E3FC;\n",
              "    }\n",
              "\n",
              "    [theme=dark] .colab-df-convert:hover {\n",
              "      background-color: #434B5C;\n",
              "      box-shadow: 0px 1px 3px 1px rgba(0, 0, 0, 0.15);\n",
              "      filter: drop-shadow(0px 1px 2px rgba(0, 0, 0, 0.3));\n",
              "      fill: #FFFFFF;\n",
              "    }\n",
              "  </style>\n",
              "\n",
              "      <script>\n",
              "        const buttonEl =\n",
              "          document.querySelector('#df-9baa713d-8830-47bb-b6cb-e363eec05c39 button.colab-df-convert');\n",
              "        buttonEl.style.display =\n",
              "          google.colab.kernel.accessAllowed ? 'block' : 'none';\n",
              "\n",
              "        async function convertToInteractive(key) {\n",
              "          const element = document.querySelector('#df-9baa713d-8830-47bb-b6cb-e363eec05c39');\n",
              "          const dataTable =\n",
              "            await google.colab.kernel.invokeFunction('convertToInteractive',\n",
              "                                                     [key], {});\n",
              "          if (!dataTable) return;\n",
              "\n",
              "          const docLinkHtml = 'Like what you see? Visit the ' +\n",
              "            '<a target=\"_blank\" href=https://colab.research.google.com/notebooks/data_table.ipynb>data table notebook</a>'\n",
              "            + ' to learn more about interactive tables.';\n",
              "          element.innerHTML = '';\n",
              "          dataTable['output_type'] = 'display_data';\n",
              "          await google.colab.output.renderOutput(dataTable, element);\n",
              "          const docLink = document.createElement('div');\n",
              "          docLink.innerHTML = docLinkHtml;\n",
              "          element.appendChild(docLink);\n",
              "        }\n",
              "      </script>\n",
              "    </div>\n",
              "  </div>\n",
              "  "
            ]
          },
          "metadata": {},
          "execution_count": 52
        }
      ],
      "source": [
        "df_test=pd.DataFrame(list(zip(te_ids,final_rev)),columns=['visitorID','Predictedrevenue'])\n",
        "print(df_test.shape)\n",
        "df_test.head()"
      ]
    },
    {
      "cell_type": "markdown",
      "metadata": {
        "id": "oJAIvbrwq_1t"
      },
      "source": [
        "Now loading submission file"
      ]
    },
    {
      "cell_type": "code",
      "execution_count": null,
      "metadata": {
        "colab": {
          "base_uri": "https://localhost:8080/",
          "height": 224
        },
        "id": "_TyoPlF2rG_v",
        "outputId": "0ee93944-2e00-419f-85c3-2ceb2f96cf79"
      },
      "outputs": [
        {
          "output_type": "stream",
          "name": "stdout",
          "text": [
            "(296530, 2)\n"
          ]
        },
        {
          "output_type": "execute_result",
          "data": {
            "text/plain": [
              "         fullVisitorId  PredictedLogRevenue\n",
              "0  0000018966949534117                  0.0\n",
              "1  0000039738481224681                  0.0\n",
              "2  0000073585230191399                  0.0\n",
              "3  0000087588448856385                  0.0\n",
              "4  0000149787903119437                  0.0"
            ],
            "text/html": [
              "\n",
              "  <div id=\"df-15bd0186-bb30-4394-ac49-c6c8ab50f362\">\n",
              "    <div class=\"colab-df-container\">\n",
              "      <div>\n",
              "<style scoped>\n",
              "    .dataframe tbody tr th:only-of-type {\n",
              "        vertical-align: middle;\n",
              "    }\n",
              "\n",
              "    .dataframe tbody tr th {\n",
              "        vertical-align: top;\n",
              "    }\n",
              "\n",
              "    .dataframe thead th {\n",
              "        text-align: right;\n",
              "    }\n",
              "</style>\n",
              "<table border=\"1\" class=\"dataframe\">\n",
              "  <thead>\n",
              "    <tr style=\"text-align: right;\">\n",
              "      <th></th>\n",
              "      <th>fullVisitorId</th>\n",
              "      <th>PredictedLogRevenue</th>\n",
              "    </tr>\n",
              "  </thead>\n",
              "  <tbody>\n",
              "    <tr>\n",
              "      <th>0</th>\n",
              "      <td>0000018966949534117</td>\n",
              "      <td>0.0</td>\n",
              "    </tr>\n",
              "    <tr>\n",
              "      <th>1</th>\n",
              "      <td>0000039738481224681</td>\n",
              "      <td>0.0</td>\n",
              "    </tr>\n",
              "    <tr>\n",
              "      <th>2</th>\n",
              "      <td>0000073585230191399</td>\n",
              "      <td>0.0</td>\n",
              "    </tr>\n",
              "    <tr>\n",
              "      <th>3</th>\n",
              "      <td>0000087588448856385</td>\n",
              "      <td>0.0</td>\n",
              "    </tr>\n",
              "    <tr>\n",
              "      <th>4</th>\n",
              "      <td>0000149787903119437</td>\n",
              "      <td>0.0</td>\n",
              "    </tr>\n",
              "  </tbody>\n",
              "</table>\n",
              "</div>\n",
              "      <button class=\"colab-df-convert\" onclick=\"convertToInteractive('df-15bd0186-bb30-4394-ac49-c6c8ab50f362')\"\n",
              "              title=\"Convert this dataframe to an interactive table.\"\n",
              "              style=\"display:none;\">\n",
              "        \n",
              "  <svg xmlns=\"http://www.w3.org/2000/svg\" height=\"24px\"viewBox=\"0 0 24 24\"\n",
              "       width=\"24px\">\n",
              "    <path d=\"M0 0h24v24H0V0z\" fill=\"none\"/>\n",
              "    <path d=\"M18.56 5.44l.94 2.06.94-2.06 2.06-.94-2.06-.94-.94-2.06-.94 2.06-2.06.94zm-11 1L8.5 8.5l.94-2.06 2.06-.94-2.06-.94L8.5 2.5l-.94 2.06-2.06.94zm10 10l.94 2.06.94-2.06 2.06-.94-2.06-.94-.94-2.06-.94 2.06-2.06.94z\"/><path d=\"M17.41 7.96l-1.37-1.37c-.4-.4-.92-.59-1.43-.59-.52 0-1.04.2-1.43.59L10.3 9.45l-7.72 7.72c-.78.78-.78 2.05 0 2.83L4 21.41c.39.39.9.59 1.41.59.51 0 1.02-.2 1.41-.59l7.78-7.78 2.81-2.81c.8-.78.8-2.07 0-2.86zM5.41 20L4 18.59l7.72-7.72 1.47 1.35L5.41 20z\"/>\n",
              "  </svg>\n",
              "      </button>\n",
              "      \n",
              "  <style>\n",
              "    .colab-df-container {\n",
              "      display:flex;\n",
              "      flex-wrap:wrap;\n",
              "      gap: 12px;\n",
              "    }\n",
              "\n",
              "    .colab-df-convert {\n",
              "      background-color: #E8F0FE;\n",
              "      border: none;\n",
              "      border-radius: 50%;\n",
              "      cursor: pointer;\n",
              "      display: none;\n",
              "      fill: #1967D2;\n",
              "      height: 32px;\n",
              "      padding: 0 0 0 0;\n",
              "      width: 32px;\n",
              "    }\n",
              "\n",
              "    .colab-df-convert:hover {\n",
              "      background-color: #E2EBFA;\n",
              "      box-shadow: 0px 1px 2px rgba(60, 64, 67, 0.3), 0px 1px 3px 1px rgba(60, 64, 67, 0.15);\n",
              "      fill: #174EA6;\n",
              "    }\n",
              "\n",
              "    [theme=dark] .colab-df-convert {\n",
              "      background-color: #3B4455;\n",
              "      fill: #D2E3FC;\n",
              "    }\n",
              "\n",
              "    [theme=dark] .colab-df-convert:hover {\n",
              "      background-color: #434B5C;\n",
              "      box-shadow: 0px 1px 3px 1px rgba(0, 0, 0, 0.15);\n",
              "      filter: drop-shadow(0px 1px 2px rgba(0, 0, 0, 0.3));\n",
              "      fill: #FFFFFF;\n",
              "    }\n",
              "  </style>\n",
              "\n",
              "      <script>\n",
              "        const buttonEl =\n",
              "          document.querySelector('#df-15bd0186-bb30-4394-ac49-c6c8ab50f362 button.colab-df-convert');\n",
              "        buttonEl.style.display =\n",
              "          google.colab.kernel.accessAllowed ? 'block' : 'none';\n",
              "\n",
              "        async function convertToInteractive(key) {\n",
              "          const element = document.querySelector('#df-15bd0186-bb30-4394-ac49-c6c8ab50f362');\n",
              "          const dataTable =\n",
              "            await google.colab.kernel.invokeFunction('convertToInteractive',\n",
              "                                                     [key], {});\n",
              "          if (!dataTable) return;\n",
              "\n",
              "          const docLinkHtml = 'Like what you see? Visit the ' +\n",
              "            '<a target=\"_blank\" href=https://colab.research.google.com/notebooks/data_table.ipynb>data table notebook</a>'\n",
              "            + ' to learn more about interactive tables.';\n",
              "          element.innerHTML = '';\n",
              "          dataTable['output_type'] = 'display_data';\n",
              "          await google.colab.output.renderOutput(dataTable, element);\n",
              "          const docLink = document.createElement('div');\n",
              "          docLink.innerHTML = docLinkHtml;\n",
              "          element.appendChild(docLink);\n",
              "        }\n",
              "      </script>\n",
              "    </div>\n",
              "  </div>\n",
              "  "
            ]
          },
          "metadata": {},
          "execution_count": 53
        }
      ],
      "source": [
        "submission=pd.read_csv('/content/sample_submission_v2.csv',low_memory=False)\n",
        "print(submission.shape)\n",
        "submission.head()"
      ]
    },
    {
      "cell_type": "code",
      "source": [
        "revenues=[]\n",
        "for i in submission['fullVisitorId']:\n",
        "  revenues.append(df_test.loc[df_test['visitorID']==i]['Predictedrevenue'].values[0])"
      ],
      "metadata": {
        "id": "1k0Ju416w7qy"
      },
      "execution_count": null,
      "outputs": []
    },
    {
      "cell_type": "code",
      "source": [
        "submission['PredictedLogRevenue']=revenues"
      ],
      "metadata": {
        "id": "SpzUmO4JQYFj"
      },
      "execution_count": null,
      "outputs": []
    },
    {
      "cell_type": "code",
      "source": [
        "submission.head()"
      ],
      "metadata": {
        "colab": {
          "base_uri": "https://localhost:8080/",
          "height": 206
        },
        "id": "FPI8n0BGi4gQ",
        "outputId": "79d08871-d926-4f50-e668-047d7c0c5478"
      },
      "execution_count": null,
      "outputs": [
        {
          "output_type": "execute_result",
          "data": {
            "text/plain": [
              "         fullVisitorId  PredictedLogRevenue\n",
              "0  0000018966949534117             0.000028\n",
              "1  0000039738481224681             0.000006\n",
              "2  0000073585230191399             0.000008\n",
              "3  0000087588448856385             0.000004\n",
              "4  0000149787903119437             0.000004"
            ],
            "text/html": [
              "\n",
              "  <div id=\"df-249e25d4-78de-4ecc-ae25-314c005c78b3\">\n",
              "    <div class=\"colab-df-container\">\n",
              "      <div>\n",
              "<style scoped>\n",
              "    .dataframe tbody tr th:only-of-type {\n",
              "        vertical-align: middle;\n",
              "    }\n",
              "\n",
              "    .dataframe tbody tr th {\n",
              "        vertical-align: top;\n",
              "    }\n",
              "\n",
              "    .dataframe thead th {\n",
              "        text-align: right;\n",
              "    }\n",
              "</style>\n",
              "<table border=\"1\" class=\"dataframe\">\n",
              "  <thead>\n",
              "    <tr style=\"text-align: right;\">\n",
              "      <th></th>\n",
              "      <th>fullVisitorId</th>\n",
              "      <th>PredictedLogRevenue</th>\n",
              "    </tr>\n",
              "  </thead>\n",
              "  <tbody>\n",
              "    <tr>\n",
              "      <th>0</th>\n",
              "      <td>0000018966949534117</td>\n",
              "      <td>0.000028</td>\n",
              "    </tr>\n",
              "    <tr>\n",
              "      <th>1</th>\n",
              "      <td>0000039738481224681</td>\n",
              "      <td>0.000006</td>\n",
              "    </tr>\n",
              "    <tr>\n",
              "      <th>2</th>\n",
              "      <td>0000073585230191399</td>\n",
              "      <td>0.000008</td>\n",
              "    </tr>\n",
              "    <tr>\n",
              "      <th>3</th>\n",
              "      <td>0000087588448856385</td>\n",
              "      <td>0.000004</td>\n",
              "    </tr>\n",
              "    <tr>\n",
              "      <th>4</th>\n",
              "      <td>0000149787903119437</td>\n",
              "      <td>0.000004</td>\n",
              "    </tr>\n",
              "  </tbody>\n",
              "</table>\n",
              "</div>\n",
              "      <button class=\"colab-df-convert\" onclick=\"convertToInteractive('df-249e25d4-78de-4ecc-ae25-314c005c78b3')\"\n",
              "              title=\"Convert this dataframe to an interactive table.\"\n",
              "              style=\"display:none;\">\n",
              "        \n",
              "  <svg xmlns=\"http://www.w3.org/2000/svg\" height=\"24px\"viewBox=\"0 0 24 24\"\n",
              "       width=\"24px\">\n",
              "    <path d=\"M0 0h24v24H0V0z\" fill=\"none\"/>\n",
              "    <path d=\"M18.56 5.44l.94 2.06.94-2.06 2.06-.94-2.06-.94-.94-2.06-.94 2.06-2.06.94zm-11 1L8.5 8.5l.94-2.06 2.06-.94-2.06-.94L8.5 2.5l-.94 2.06-2.06.94zm10 10l.94 2.06.94-2.06 2.06-.94-2.06-.94-.94-2.06-.94 2.06-2.06.94z\"/><path d=\"M17.41 7.96l-1.37-1.37c-.4-.4-.92-.59-1.43-.59-.52 0-1.04.2-1.43.59L10.3 9.45l-7.72 7.72c-.78.78-.78 2.05 0 2.83L4 21.41c.39.39.9.59 1.41.59.51 0 1.02-.2 1.41-.59l7.78-7.78 2.81-2.81c.8-.78.8-2.07 0-2.86zM5.41 20L4 18.59l7.72-7.72 1.47 1.35L5.41 20z\"/>\n",
              "  </svg>\n",
              "      </button>\n",
              "      \n",
              "  <style>\n",
              "    .colab-df-container {\n",
              "      display:flex;\n",
              "      flex-wrap:wrap;\n",
              "      gap: 12px;\n",
              "    }\n",
              "\n",
              "    .colab-df-convert {\n",
              "      background-color: #E8F0FE;\n",
              "      border: none;\n",
              "      border-radius: 50%;\n",
              "      cursor: pointer;\n",
              "      display: none;\n",
              "      fill: #1967D2;\n",
              "      height: 32px;\n",
              "      padding: 0 0 0 0;\n",
              "      width: 32px;\n",
              "    }\n",
              "\n",
              "    .colab-df-convert:hover {\n",
              "      background-color: #E2EBFA;\n",
              "      box-shadow: 0px 1px 2px rgba(60, 64, 67, 0.3), 0px 1px 3px 1px rgba(60, 64, 67, 0.15);\n",
              "      fill: #174EA6;\n",
              "    }\n",
              "\n",
              "    [theme=dark] .colab-df-convert {\n",
              "      background-color: #3B4455;\n",
              "      fill: #D2E3FC;\n",
              "    }\n",
              "\n",
              "    [theme=dark] .colab-df-convert:hover {\n",
              "      background-color: #434B5C;\n",
              "      box-shadow: 0px 1px 3px 1px rgba(0, 0, 0, 0.15);\n",
              "      filter: drop-shadow(0px 1px 2px rgba(0, 0, 0, 0.3));\n",
              "      fill: #FFFFFF;\n",
              "    }\n",
              "  </style>\n",
              "\n",
              "      <script>\n",
              "        const buttonEl =\n",
              "          document.querySelector('#df-249e25d4-78de-4ecc-ae25-314c005c78b3 button.colab-df-convert');\n",
              "        buttonEl.style.display =\n",
              "          google.colab.kernel.accessAllowed ? 'block' : 'none';\n",
              "\n",
              "        async function convertToInteractive(key) {\n",
              "          const element = document.querySelector('#df-249e25d4-78de-4ecc-ae25-314c005c78b3');\n",
              "          const dataTable =\n",
              "            await google.colab.kernel.invokeFunction('convertToInteractive',\n",
              "                                                     [key], {});\n",
              "          if (!dataTable) return;\n",
              "\n",
              "          const docLinkHtml = 'Like what you see? Visit the ' +\n",
              "            '<a target=\"_blank\" href=https://colab.research.google.com/notebooks/data_table.ipynb>data table notebook</a>'\n",
              "            + ' to learn more about interactive tables.';\n",
              "          element.innerHTML = '';\n",
              "          dataTable['output_type'] = 'display_data';\n",
              "          await google.colab.output.renderOutput(dataTable, element);\n",
              "          const docLink = document.createElement('div');\n",
              "          docLink.innerHTML = docLinkHtml;\n",
              "          element.appendChild(docLink);\n",
              "        }\n",
              "      </script>\n",
              "    </div>\n",
              "  </div>\n",
              "  "
            ]
          },
          "metadata": {},
          "execution_count": 57
        }
      ]
    },
    {
      "cell_type": "code",
      "source": [
        "submission.to_csv('kaggle_submission1.csv',index=False)"
      ],
      "metadata": {
        "id": "rNUAB_KrQhSW"
      },
      "execution_count": null,
      "outputs": []
    },
    {
      "cell_type": "markdown",
      "source": [
        "Revenue predction using XGBoost Classifier and Regressor."
      ],
      "metadata": {
        "id": "pS6E40i9QB33"
      }
    },
    {
      "cell_type": "code",
      "source": [
        "filename='/content/drive/MyDrive/Colab Notebooks/self case study 1/xgb_clf.sav'\n",
        "xgb_clf = pickle.load(open(filename, 'rb'))\n",
        "filename='/content/drive/MyDrive/Colab Notebooks/self case study 1/xgb_reg.sav'\n",
        "xgb_reg = pickle.load(open(filename, 'rb'))"
      ],
      "metadata": {
        "colab": {
          "base_uri": "https://localhost:8080/"
        },
        "id": "hFt5Q1GCQpF4",
        "outputId": "7edaa71f-c82a-4eaf-c0ca-7725ff4e9434"
      },
      "execution_count": 3,
      "outputs": [
        {
          "output_type": "stream",
          "name": "stdout",
          "text": [
            "[13:42:23] WARNING: /workspace/src/objective/regression_obj.cu:152: reg:linear is now deprecated in favor of reg:squarederror.\n"
          ]
        }
      ]
    },
    {
      "cell_type": "code",
      "source": [
        "sum=0\n",
        "for i in range(10):\n",
        "  xgb_clf.fit(scaled_tr,y_tr_clf)\n",
        "  pr_ret=xgb_clf.predict_proba(scaled_te)[:,1]\n",
        "  xgb_reg.fit(scaled_tr,y_tr_reg)\n",
        "  pr_rev=xgb_reg.predict(scaled_te)\n",
        "  sum=sum+(pr_ret*pr_rev)\n",
        "final_rev=sum/10  "
      ],
      "metadata": {
        "id": "X44eiXlHTo1u",
        "colab": {
          "base_uri": "https://localhost:8080/"
        },
        "outputId": "53560231-ceb8-4d30-e53a-d366236e5d29"
      },
      "execution_count": null,
      "outputs": [
        {
          "output_type": "stream",
          "name": "stdout",
          "text": [
            "[15:56:16] WARNING: /workspace/src/objective/regression_obj.cu:152: reg:linear is now deprecated in favor of reg:squarederror.\n",
            "[16:06:18] WARNING: /workspace/src/objective/regression_obj.cu:152: reg:linear is now deprecated in favor of reg:squarederror.\n",
            "[16:16:15] WARNING: /workspace/src/objective/regression_obj.cu:152: reg:linear is now deprecated in favor of reg:squarederror.\n",
            "[16:26:22] WARNING: /workspace/src/objective/regression_obj.cu:152: reg:linear is now deprecated in favor of reg:squarederror.\n",
            "[16:36:21] WARNING: /workspace/src/objective/regression_obj.cu:152: reg:linear is now deprecated in favor of reg:squarederror.\n",
            "[16:46:24] WARNING: /workspace/src/objective/regression_obj.cu:152: reg:linear is now deprecated in favor of reg:squarederror.\n",
            "[16:56:07] WARNING: /workspace/src/objective/regression_obj.cu:152: reg:linear is now deprecated in favor of reg:squarederror.\n",
            "[17:05:41] WARNING: /workspace/src/objective/regression_obj.cu:152: reg:linear is now deprecated in favor of reg:squarederror.\n",
            "[17:15:33] WARNING: /workspace/src/objective/regression_obj.cu:152: reg:linear is now deprecated in favor of reg:squarederror.\n",
            "[17:24:36] WARNING: /workspace/src/objective/regression_obj.cu:152: reg:linear is now deprecated in favor of reg:squarederror.\n"
          ]
        }
      ]
    },
    {
      "cell_type": "code",
      "source": [
        "final_rev=[0 if i<0 else i for i in final_rev]\n",
        "df_test=pd.DataFrame(list(zip(te_ids,final_rev)),columns=['fullVisitorId'\t,'PredictedLogRevenue'])\n",
        "print(df_test.shape)\n",
        "df_test.head()"
      ],
      "metadata": {
        "colab": {
          "base_uri": "https://localhost:8080/",
          "height": 224
        },
        "id": "N1hxpICyW3zB",
        "outputId": "d0d06022-c524-4243-e0a2-17579f761078"
      },
      "execution_count": null,
      "outputs": [
        {
          "output_type": "stream",
          "name": "stdout",
          "text": [
            "(296530, 2)\n"
          ]
        },
        {
          "output_type": "execute_result",
          "data": {
            "text/plain": [
              "         fullVisitorId  PredictedLogRevenue\n",
              "0  0000018966949534117             0.000016\n",
              "1  0000039738481224681             0.000027\n",
              "2  0000073585230191399             0.000006\n",
              "3  0000087588448856385             0.000000\n",
              "4  0000149787903119437             0.000000"
            ],
            "text/html": [
              "\n",
              "  <div id=\"df-e19ab90e-820e-4ff4-be4b-8181dce7912b\">\n",
              "    <div class=\"colab-df-container\">\n",
              "      <div>\n",
              "<style scoped>\n",
              "    .dataframe tbody tr th:only-of-type {\n",
              "        vertical-align: middle;\n",
              "    }\n",
              "\n",
              "    .dataframe tbody tr th {\n",
              "        vertical-align: top;\n",
              "    }\n",
              "\n",
              "    .dataframe thead th {\n",
              "        text-align: right;\n",
              "    }\n",
              "</style>\n",
              "<table border=\"1\" class=\"dataframe\">\n",
              "  <thead>\n",
              "    <tr style=\"text-align: right;\">\n",
              "      <th></th>\n",
              "      <th>fullVisitorId</th>\n",
              "      <th>PredictedLogRevenue</th>\n",
              "    </tr>\n",
              "  </thead>\n",
              "  <tbody>\n",
              "    <tr>\n",
              "      <th>0</th>\n",
              "      <td>0000018966949534117</td>\n",
              "      <td>0.000016</td>\n",
              "    </tr>\n",
              "    <tr>\n",
              "      <th>1</th>\n",
              "      <td>0000039738481224681</td>\n",
              "      <td>0.000027</td>\n",
              "    </tr>\n",
              "    <tr>\n",
              "      <th>2</th>\n",
              "      <td>0000073585230191399</td>\n",
              "      <td>0.000006</td>\n",
              "    </tr>\n",
              "    <tr>\n",
              "      <th>3</th>\n",
              "      <td>0000087588448856385</td>\n",
              "      <td>0.000000</td>\n",
              "    </tr>\n",
              "    <tr>\n",
              "      <th>4</th>\n",
              "      <td>0000149787903119437</td>\n",
              "      <td>0.000000</td>\n",
              "    </tr>\n",
              "  </tbody>\n",
              "</table>\n",
              "</div>\n",
              "      <button class=\"colab-df-convert\" onclick=\"convertToInteractive('df-e19ab90e-820e-4ff4-be4b-8181dce7912b')\"\n",
              "              title=\"Convert this dataframe to an interactive table.\"\n",
              "              style=\"display:none;\">\n",
              "        \n",
              "  <svg xmlns=\"http://www.w3.org/2000/svg\" height=\"24px\"viewBox=\"0 0 24 24\"\n",
              "       width=\"24px\">\n",
              "    <path d=\"M0 0h24v24H0V0z\" fill=\"none\"/>\n",
              "    <path d=\"M18.56 5.44l.94 2.06.94-2.06 2.06-.94-2.06-.94-.94-2.06-.94 2.06-2.06.94zm-11 1L8.5 8.5l.94-2.06 2.06-.94-2.06-.94L8.5 2.5l-.94 2.06-2.06.94zm10 10l.94 2.06.94-2.06 2.06-.94-2.06-.94-.94-2.06-.94 2.06-2.06.94z\"/><path d=\"M17.41 7.96l-1.37-1.37c-.4-.4-.92-.59-1.43-.59-.52 0-1.04.2-1.43.59L10.3 9.45l-7.72 7.72c-.78.78-.78 2.05 0 2.83L4 21.41c.39.39.9.59 1.41.59.51 0 1.02-.2 1.41-.59l7.78-7.78 2.81-2.81c.8-.78.8-2.07 0-2.86zM5.41 20L4 18.59l7.72-7.72 1.47 1.35L5.41 20z\"/>\n",
              "  </svg>\n",
              "      </button>\n",
              "      \n",
              "  <style>\n",
              "    .colab-df-container {\n",
              "      display:flex;\n",
              "      flex-wrap:wrap;\n",
              "      gap: 12px;\n",
              "    }\n",
              "\n",
              "    .colab-df-convert {\n",
              "      background-color: #E8F0FE;\n",
              "      border: none;\n",
              "      border-radius: 50%;\n",
              "      cursor: pointer;\n",
              "      display: none;\n",
              "      fill: #1967D2;\n",
              "      height: 32px;\n",
              "      padding: 0 0 0 0;\n",
              "      width: 32px;\n",
              "    }\n",
              "\n",
              "    .colab-df-convert:hover {\n",
              "      background-color: #E2EBFA;\n",
              "      box-shadow: 0px 1px 2px rgba(60, 64, 67, 0.3), 0px 1px 3px 1px rgba(60, 64, 67, 0.15);\n",
              "      fill: #174EA6;\n",
              "    }\n",
              "\n",
              "    [theme=dark] .colab-df-convert {\n",
              "      background-color: #3B4455;\n",
              "      fill: #D2E3FC;\n",
              "    }\n",
              "\n",
              "    [theme=dark] .colab-df-convert:hover {\n",
              "      background-color: #434B5C;\n",
              "      box-shadow: 0px 1px 3px 1px rgba(0, 0, 0, 0.15);\n",
              "      filter: drop-shadow(0px 1px 2px rgba(0, 0, 0, 0.3));\n",
              "      fill: #FFFFFF;\n",
              "    }\n",
              "  </style>\n",
              "\n",
              "      <script>\n",
              "        const buttonEl =\n",
              "          document.querySelector('#df-e19ab90e-820e-4ff4-be4b-8181dce7912b button.colab-df-convert');\n",
              "        buttonEl.style.display =\n",
              "          google.colab.kernel.accessAllowed ? 'block' : 'none';\n",
              "\n",
              "        async function convertToInteractive(key) {\n",
              "          const element = document.querySelector('#df-e19ab90e-820e-4ff4-be4b-8181dce7912b');\n",
              "          const dataTable =\n",
              "            await google.colab.kernel.invokeFunction('convertToInteractive',\n",
              "                                                     [key], {});\n",
              "          if (!dataTable) return;\n",
              "\n",
              "          const docLinkHtml = 'Like what you see? Visit the ' +\n",
              "            '<a target=\"_blank\" href=https://colab.research.google.com/notebooks/data_table.ipynb>data table notebook</a>'\n",
              "            + ' to learn more about interactive tables.';\n",
              "          element.innerHTML = '';\n",
              "          dataTable['output_type'] = 'display_data';\n",
              "          await google.colab.output.renderOutput(dataTable, element);\n",
              "          const docLink = document.createElement('div');\n",
              "          docLink.innerHTML = docLinkHtml;\n",
              "          element.appendChild(docLink);\n",
              "        }\n",
              "      </script>\n",
              "    </div>\n",
              "  </div>\n",
              "  "
            ]
          },
          "metadata": {},
          "execution_count": 27
        }
      ]
    },
    {
      "cell_type": "code",
      "source": [
        "df_test.to_csv('xgb2_submission.csv',index=False)"
      ],
      "metadata": {
        "id": "bOMYE5geXFca"
      },
      "execution_count": null,
      "outputs": []
    },
    {
      "cell_type": "markdown",
      "source": [
        "Revenue prediction using Logistic regression and linear regression"
      ],
      "metadata": {
        "id": "CKvsAoMfYZfQ"
      }
    },
    {
      "cell_type": "code",
      "source": [
        "filename='/content/drive/MyDrive/Colab Notebooks/self case study 1/log_reg_clf.sav'\n",
        "log_reg_clf = pickle.load(open(filename, 'rb'))\n",
        "filename='/content/drive/MyDrive/Colab Notebooks/self case study 1/lr_reg.sav'\n",
        "lr_reg = pickle.load(open(filename, 'rb'))"
      ],
      "metadata": {
        "id": "a-oSGG2xYgly"
      },
      "execution_count": null,
      "outputs": []
    },
    {
      "cell_type": "code",
      "source": [
        "sum=0\n",
        "for i in range(10):\n",
        "  pr_ret=log_reg_clf.predict_proba(scaled_te)[:,1]\n",
        "  pr_rev=lr_reg.predict(scaled_te)\n",
        "  sum=sum+(pr_ret*pr_rev)\n",
        "final_rev=sum/10  \n",
        "final_rev=[0 if i<0 else i for i in final_rev]"
      ],
      "metadata": {
        "id": "LuDxcwwpZdcV"
      },
      "execution_count": null,
      "outputs": []
    },
    {
      "cell_type": "code",
      "source": [
        "df_test=pd.DataFrame(list(zip(te_ids,final_rev)),columns=['fullVisitorId'\t,'PredictedLogRevenue'])\n",
        "print(df_test.shape)\n",
        "df_test.head()"
      ],
      "metadata": {
        "colab": {
          "base_uri": "https://localhost:8080/",
          "height": 224
        },
        "id": "qwxodscAcBut",
        "outputId": "03749809-c5dd-433f-fa56-c075f392bbc9"
      },
      "execution_count": null,
      "outputs": [
        {
          "output_type": "stream",
          "name": "stdout",
          "text": [
            "(296530, 2)\n"
          ]
        },
        {
          "output_type": "execute_result",
          "data": {
            "text/plain": [
              "         fullVisitorId  PredictedLogRevenue\n",
              "0  0000018966949534117             0.000071\n",
              "1  0000039738481224681             0.000000\n",
              "2  0000073585230191399             0.000000\n",
              "3  0000087588448856385             0.000000\n",
              "4  0000149787903119437             0.000000"
            ],
            "text/html": [
              "\n",
              "  <div id=\"df-4919be90-e91a-4519-b3cb-6f02f3ebee07\">\n",
              "    <div class=\"colab-df-container\">\n",
              "      <div>\n",
              "<style scoped>\n",
              "    .dataframe tbody tr th:only-of-type {\n",
              "        vertical-align: middle;\n",
              "    }\n",
              "\n",
              "    .dataframe tbody tr th {\n",
              "        vertical-align: top;\n",
              "    }\n",
              "\n",
              "    .dataframe thead th {\n",
              "        text-align: right;\n",
              "    }\n",
              "</style>\n",
              "<table border=\"1\" class=\"dataframe\">\n",
              "  <thead>\n",
              "    <tr style=\"text-align: right;\">\n",
              "      <th></th>\n",
              "      <th>fullVisitorId</th>\n",
              "      <th>PredictedLogRevenue</th>\n",
              "    </tr>\n",
              "  </thead>\n",
              "  <tbody>\n",
              "    <tr>\n",
              "      <th>0</th>\n",
              "      <td>0000018966949534117</td>\n",
              "      <td>0.000071</td>\n",
              "    </tr>\n",
              "    <tr>\n",
              "      <th>1</th>\n",
              "      <td>0000039738481224681</td>\n",
              "      <td>0.000000</td>\n",
              "    </tr>\n",
              "    <tr>\n",
              "      <th>2</th>\n",
              "      <td>0000073585230191399</td>\n",
              "      <td>0.000000</td>\n",
              "    </tr>\n",
              "    <tr>\n",
              "      <th>3</th>\n",
              "      <td>0000087588448856385</td>\n",
              "      <td>0.000000</td>\n",
              "    </tr>\n",
              "    <tr>\n",
              "      <th>4</th>\n",
              "      <td>0000149787903119437</td>\n",
              "      <td>0.000000</td>\n",
              "    </tr>\n",
              "  </tbody>\n",
              "</table>\n",
              "</div>\n",
              "      <button class=\"colab-df-convert\" onclick=\"convertToInteractive('df-4919be90-e91a-4519-b3cb-6f02f3ebee07')\"\n",
              "              title=\"Convert this dataframe to an interactive table.\"\n",
              "              style=\"display:none;\">\n",
              "        \n",
              "  <svg xmlns=\"http://www.w3.org/2000/svg\" height=\"24px\"viewBox=\"0 0 24 24\"\n",
              "       width=\"24px\">\n",
              "    <path d=\"M0 0h24v24H0V0z\" fill=\"none\"/>\n",
              "    <path d=\"M18.56 5.44l.94 2.06.94-2.06 2.06-.94-2.06-.94-.94-2.06-.94 2.06-2.06.94zm-11 1L8.5 8.5l.94-2.06 2.06-.94-2.06-.94L8.5 2.5l-.94 2.06-2.06.94zm10 10l.94 2.06.94-2.06 2.06-.94-2.06-.94-.94-2.06-.94 2.06-2.06.94z\"/><path d=\"M17.41 7.96l-1.37-1.37c-.4-.4-.92-.59-1.43-.59-.52 0-1.04.2-1.43.59L10.3 9.45l-7.72 7.72c-.78.78-.78 2.05 0 2.83L4 21.41c.39.39.9.59 1.41.59.51 0 1.02-.2 1.41-.59l7.78-7.78 2.81-2.81c.8-.78.8-2.07 0-2.86zM5.41 20L4 18.59l7.72-7.72 1.47 1.35L5.41 20z\"/>\n",
              "  </svg>\n",
              "      </button>\n",
              "      \n",
              "  <style>\n",
              "    .colab-df-container {\n",
              "      display:flex;\n",
              "      flex-wrap:wrap;\n",
              "      gap: 12px;\n",
              "    }\n",
              "\n",
              "    .colab-df-convert {\n",
              "      background-color: #E8F0FE;\n",
              "      border: none;\n",
              "      border-radius: 50%;\n",
              "      cursor: pointer;\n",
              "      display: none;\n",
              "      fill: #1967D2;\n",
              "      height: 32px;\n",
              "      padding: 0 0 0 0;\n",
              "      width: 32px;\n",
              "    }\n",
              "\n",
              "    .colab-df-convert:hover {\n",
              "      background-color: #E2EBFA;\n",
              "      box-shadow: 0px 1px 2px rgba(60, 64, 67, 0.3), 0px 1px 3px 1px rgba(60, 64, 67, 0.15);\n",
              "      fill: #174EA6;\n",
              "    }\n",
              "\n",
              "    [theme=dark] .colab-df-convert {\n",
              "      background-color: #3B4455;\n",
              "      fill: #D2E3FC;\n",
              "    }\n",
              "\n",
              "    [theme=dark] .colab-df-convert:hover {\n",
              "      background-color: #434B5C;\n",
              "      box-shadow: 0px 1px 3px 1px rgba(0, 0, 0, 0.15);\n",
              "      filter: drop-shadow(0px 1px 2px rgba(0, 0, 0, 0.3));\n",
              "      fill: #FFFFFF;\n",
              "    }\n",
              "  </style>\n",
              "\n",
              "      <script>\n",
              "        const buttonEl =\n",
              "          document.querySelector('#df-4919be90-e91a-4519-b3cb-6f02f3ebee07 button.colab-df-convert');\n",
              "        buttonEl.style.display =\n",
              "          google.colab.kernel.accessAllowed ? 'block' : 'none';\n",
              "\n",
              "        async function convertToInteractive(key) {\n",
              "          const element = document.querySelector('#df-4919be90-e91a-4519-b3cb-6f02f3ebee07');\n",
              "          const dataTable =\n",
              "            await google.colab.kernel.invokeFunction('convertToInteractive',\n",
              "                                                     [key], {});\n",
              "          if (!dataTable) return;\n",
              "\n",
              "          const docLinkHtml = 'Like what you see? Visit the ' +\n",
              "            '<a target=\"_blank\" href=https://colab.research.google.com/notebooks/data_table.ipynb>data table notebook</a>'\n",
              "            + ' to learn more about interactive tables.';\n",
              "          element.innerHTML = '';\n",
              "          dataTable['output_type'] = 'display_data';\n",
              "          await google.colab.output.renderOutput(dataTable, element);\n",
              "          const docLink = document.createElement('div');\n",
              "          docLink.innerHTML = docLinkHtml;\n",
              "          element.appendChild(docLink);\n",
              "        }\n",
              "      </script>\n",
              "    </div>\n",
              "  </div>\n",
              "  "
            ]
          },
          "metadata": {},
          "execution_count": 16
        }
      ]
    },
    {
      "cell_type": "code",
      "source": [
        "df_test.to_csv('lr_submission.csv',index=False)"
      ],
      "metadata": {
        "id": "M-8PnCvjcjZ_"
      },
      "execution_count": null,
      "outputs": []
    },
    {
      "cell_type": "markdown",
      "source": [
        "Revenue prediction using Random Forest classifier and regressor"
      ],
      "metadata": {
        "id": "MA3DO0CMOT4g"
      }
    },
    {
      "cell_type": "code",
      "source": [
        "filename='/content/drive/MyDrive/Colab Notebooks/self case study 1/rf_clf.sav'\n",
        "rf_clf = pickle.load(open(filename, 'rb'))\n",
        "filename='/content/drive/MyDrive/Colab Notebooks/self case study 1/rf_reg.sav'\n",
        "rf_reg = pickle.load(open(filename, 'rb'))"
      ],
      "metadata": {
        "id": "EH2_k_7kOdxy"
      },
      "execution_count": null,
      "outputs": []
    },
    {
      "cell_type": "code",
      "source": [
        "sum=0\n",
        "for i in range(10):\n",
        "  rf_clf.fit(scaled_tr,y_tr_clf)\n",
        "  pr_ret=rf_clf.predict_proba(scaled_te)[:,1]\n",
        "  rf_reg.fit(scaled_tr,y_tr_reg)\n",
        "  pr_rev=rf_reg.predict(scaled_te)\n",
        "  sum=sum+(pr_ret*pr_rev)\n",
        "final_rev=sum/10  \n",
        "final_rev=[0 if i<0 else i for i in final_rev]"
      ],
      "metadata": {
        "id": "LBpL77XKOx4e"
      },
      "execution_count": null,
      "outputs": []
    },
    {
      "cell_type": "code",
      "source": [
        "df_test=pd.DataFrame(list(zip(te_ids,final_rev)),columns=['fullVisitorId'\t,'PredictedLogRevenue'])\n",
        "print(df_test.shape)\n",
        "df_test.head()"
      ],
      "metadata": {
        "colab": {
          "base_uri": "https://localhost:8080/",
          "height": 224
        },
        "id": "vIj6GPxuiBlj",
        "outputId": "c5e20124-369f-408b-b7e9-62ab0dba48d8"
      },
      "execution_count": null,
      "outputs": [
        {
          "output_type": "stream",
          "name": "stdout",
          "text": [
            "(296530, 2)\n"
          ]
        },
        {
          "output_type": "execute_result",
          "data": {
            "text/plain": [
              "         fullVisitorId  PredictedLogRevenue\n",
              "0  0000018966949534117         2.635480e-05\n",
              "1  0000039738481224681         1.439344e-05\n",
              "2  0000073585230191399         4.645823e-06\n",
              "3  0000087588448856385         7.107849e-07\n",
              "4  0000149787903119437         6.264681e-07"
            ],
            "text/html": [
              "\n",
              "  <div id=\"df-853ffa6c-ea5d-4033-9b29-31e345189116\">\n",
              "    <div class=\"colab-df-container\">\n",
              "      <div>\n",
              "<style scoped>\n",
              "    .dataframe tbody tr th:only-of-type {\n",
              "        vertical-align: middle;\n",
              "    }\n",
              "\n",
              "    .dataframe tbody tr th {\n",
              "        vertical-align: top;\n",
              "    }\n",
              "\n",
              "    .dataframe thead th {\n",
              "        text-align: right;\n",
              "    }\n",
              "</style>\n",
              "<table border=\"1\" class=\"dataframe\">\n",
              "  <thead>\n",
              "    <tr style=\"text-align: right;\">\n",
              "      <th></th>\n",
              "      <th>fullVisitorId</th>\n",
              "      <th>PredictedLogRevenue</th>\n",
              "    </tr>\n",
              "  </thead>\n",
              "  <tbody>\n",
              "    <tr>\n",
              "      <th>0</th>\n",
              "      <td>0000018966949534117</td>\n",
              "      <td>2.635480e-05</td>\n",
              "    </tr>\n",
              "    <tr>\n",
              "      <th>1</th>\n",
              "      <td>0000039738481224681</td>\n",
              "      <td>1.439344e-05</td>\n",
              "    </tr>\n",
              "    <tr>\n",
              "      <th>2</th>\n",
              "      <td>0000073585230191399</td>\n",
              "      <td>4.645823e-06</td>\n",
              "    </tr>\n",
              "    <tr>\n",
              "      <th>3</th>\n",
              "      <td>0000087588448856385</td>\n",
              "      <td>7.107849e-07</td>\n",
              "    </tr>\n",
              "    <tr>\n",
              "      <th>4</th>\n",
              "      <td>0000149787903119437</td>\n",
              "      <td>6.264681e-07</td>\n",
              "    </tr>\n",
              "  </tbody>\n",
              "</table>\n",
              "</div>\n",
              "      <button class=\"colab-df-convert\" onclick=\"convertToInteractive('df-853ffa6c-ea5d-4033-9b29-31e345189116')\"\n",
              "              title=\"Convert this dataframe to an interactive table.\"\n",
              "              style=\"display:none;\">\n",
              "        \n",
              "  <svg xmlns=\"http://www.w3.org/2000/svg\" height=\"24px\"viewBox=\"0 0 24 24\"\n",
              "       width=\"24px\">\n",
              "    <path d=\"M0 0h24v24H0V0z\" fill=\"none\"/>\n",
              "    <path d=\"M18.56 5.44l.94 2.06.94-2.06 2.06-.94-2.06-.94-.94-2.06-.94 2.06-2.06.94zm-11 1L8.5 8.5l.94-2.06 2.06-.94-2.06-.94L8.5 2.5l-.94 2.06-2.06.94zm10 10l.94 2.06.94-2.06 2.06-.94-2.06-.94-.94-2.06-.94 2.06-2.06.94z\"/><path d=\"M17.41 7.96l-1.37-1.37c-.4-.4-.92-.59-1.43-.59-.52 0-1.04.2-1.43.59L10.3 9.45l-7.72 7.72c-.78.78-.78 2.05 0 2.83L4 21.41c.39.39.9.59 1.41.59.51 0 1.02-.2 1.41-.59l7.78-7.78 2.81-2.81c.8-.78.8-2.07 0-2.86zM5.41 20L4 18.59l7.72-7.72 1.47 1.35L5.41 20z\"/>\n",
              "  </svg>\n",
              "      </button>\n",
              "      \n",
              "  <style>\n",
              "    .colab-df-container {\n",
              "      display:flex;\n",
              "      flex-wrap:wrap;\n",
              "      gap: 12px;\n",
              "    }\n",
              "\n",
              "    .colab-df-convert {\n",
              "      background-color: #E8F0FE;\n",
              "      border: none;\n",
              "      border-radius: 50%;\n",
              "      cursor: pointer;\n",
              "      display: none;\n",
              "      fill: #1967D2;\n",
              "      height: 32px;\n",
              "      padding: 0 0 0 0;\n",
              "      width: 32px;\n",
              "    }\n",
              "\n",
              "    .colab-df-convert:hover {\n",
              "      background-color: #E2EBFA;\n",
              "      box-shadow: 0px 1px 2px rgba(60, 64, 67, 0.3), 0px 1px 3px 1px rgba(60, 64, 67, 0.15);\n",
              "      fill: #174EA6;\n",
              "    }\n",
              "\n",
              "    [theme=dark] .colab-df-convert {\n",
              "      background-color: #3B4455;\n",
              "      fill: #D2E3FC;\n",
              "    }\n",
              "\n",
              "    [theme=dark] .colab-df-convert:hover {\n",
              "      background-color: #434B5C;\n",
              "      box-shadow: 0px 1px 3px 1px rgba(0, 0, 0, 0.15);\n",
              "      filter: drop-shadow(0px 1px 2px rgba(0, 0, 0, 0.3));\n",
              "      fill: #FFFFFF;\n",
              "    }\n",
              "  </style>\n",
              "\n",
              "      <script>\n",
              "        const buttonEl =\n",
              "          document.querySelector('#df-853ffa6c-ea5d-4033-9b29-31e345189116 button.colab-df-convert');\n",
              "        buttonEl.style.display =\n",
              "          google.colab.kernel.accessAllowed ? 'block' : 'none';\n",
              "\n",
              "        async function convertToInteractive(key) {\n",
              "          const element = document.querySelector('#df-853ffa6c-ea5d-4033-9b29-31e345189116');\n",
              "          const dataTable =\n",
              "            await google.colab.kernel.invokeFunction('convertToInteractive',\n",
              "                                                     [key], {});\n",
              "          if (!dataTable) return;\n",
              "\n",
              "          const docLinkHtml = 'Like what you see? Visit the ' +\n",
              "            '<a target=\"_blank\" href=https://colab.research.google.com/notebooks/data_table.ipynb>data table notebook</a>'\n",
              "            + ' to learn more about interactive tables.';\n",
              "          element.innerHTML = '';\n",
              "          dataTable['output_type'] = 'display_data';\n",
              "          await google.colab.output.renderOutput(dataTable, element);\n",
              "          const docLink = document.createElement('div');\n",
              "          docLink.innerHTML = docLinkHtml;\n",
              "          element.appendChild(docLink);\n",
              "        }\n",
              "      </script>\n",
              "    </div>\n",
              "  </div>\n",
              "  "
            ]
          },
          "metadata": {},
          "execution_count": 13
        }
      ]
    },
    {
      "cell_type": "code",
      "source": [
        "df_test.to_csv('rf_submission.csv',index=False)"
      ],
      "metadata": {
        "id": "cr09pIWciNXL"
      },
      "execution_count": null,
      "outputs": []
    },
    {
      "cell_type": "markdown",
      "source": [
        "Revenue prediction using stacking classifier and regressor "
      ],
      "metadata": {
        "id": "0YvCdxr4i7kE"
      }
    },
    {
      "cell_type": "code",
      "source": [
        "filename='/content/drive/MyDrive/Colab Notebooks/self case study 1/sclf.sav'\n",
        "sclf=pickle.load(open(filename,'rb'))\n",
        "filename='/content/drive/MyDrive/Colab Notebooks/self case study 1/sreg.sav'\n",
        "sreg=pickle.load(open(filename,'rb'))"
      ],
      "metadata": {
        "colab": {
          "base_uri": "https://localhost:8080/"
        },
        "id": "D0pb9muwjFqc",
        "outputId": "6ecba1de-acf3-4d2d-b08a-a5c38e7103d8"
      },
      "execution_count": null,
      "outputs": [
        {
          "output_type": "stream",
          "name": "stdout",
          "text": [
            "[17:45:54] WARNING: /workspace/src/objective/regression_obj.cu:152: reg:linear is now deprecated in favor of reg:squarederror.\n",
            "[17:45:54] WARNING: /workspace/src/objective/regression_obj.cu:152: reg:linear is now deprecated in favor of reg:squarederror.\n"
          ]
        }
      ]
    },
    {
      "cell_type": "code",
      "source": [
        "# sum=0\n",
        "# for i in range(10):\n",
        "  # sclf.fit(scaled_tr,y_tr_clf)\n",
        "pr_ret=sclf.predict_proba(scaled_te)[:,1]\n",
        "  # sreg.fit(scaled_tr,y_tr_reg)\n",
        "pr_rev=sreg.predict(scaled_te)\n",
        "#   sum=sum+(pr_ret*pr_rev)\n",
        "# final_rev=sum/10\n",
        "final_rev=pr_ret*pr_rev  \n",
        "final_rev=[0 if i<0 else i for i in final_rev]"
      ],
      "metadata": {
        "id": "-W1wVOzujrDw"
      },
      "execution_count": null,
      "outputs": []
    },
    {
      "cell_type": "code",
      "source": [
        "df_test=pd.DataFrame(list(zip(te_ids,final_rev)),columns=['fullVisitorId'\t,'PredictedLogRevenue'])\n",
        "print(df_test.shape)\n",
        "df_test.head()"
      ],
      "metadata": {
        "colab": {
          "base_uri": "https://localhost:8080/",
          "height": 224
        },
        "id": "xtGHDH8Es1BA",
        "outputId": "7f4ce7d2-e5bd-4eca-aed5-bb5ae2b9c66a"
      },
      "execution_count": null,
      "outputs": [
        {
          "output_type": "stream",
          "name": "stdout",
          "text": [
            "(296530, 2)\n"
          ]
        },
        {
          "output_type": "execute_result",
          "data": {
            "text/plain": [
              "         fullVisitorId  PredictedLogRevenue\n",
              "0  0000018966949534117             0.000029\n",
              "1  0000039738481224681             0.000025\n",
              "2  0000073585230191399             0.000014\n",
              "3  0000087588448856385             0.000008\n",
              "4  0000149787903119437             0.000009"
            ],
            "text/html": [
              "\n",
              "  <div id=\"df-164309e6-dcda-48cb-b9e3-42270e474fae\">\n",
              "    <div class=\"colab-df-container\">\n",
              "      <div>\n",
              "<style scoped>\n",
              "    .dataframe tbody tr th:only-of-type {\n",
              "        vertical-align: middle;\n",
              "    }\n",
              "\n",
              "    .dataframe tbody tr th {\n",
              "        vertical-align: top;\n",
              "    }\n",
              "\n",
              "    .dataframe thead th {\n",
              "        text-align: right;\n",
              "    }\n",
              "</style>\n",
              "<table border=\"1\" class=\"dataframe\">\n",
              "  <thead>\n",
              "    <tr style=\"text-align: right;\">\n",
              "      <th></th>\n",
              "      <th>fullVisitorId</th>\n",
              "      <th>PredictedLogRevenue</th>\n",
              "    </tr>\n",
              "  </thead>\n",
              "  <tbody>\n",
              "    <tr>\n",
              "      <th>0</th>\n",
              "      <td>0000018966949534117</td>\n",
              "      <td>0.000029</td>\n",
              "    </tr>\n",
              "    <tr>\n",
              "      <th>1</th>\n",
              "      <td>0000039738481224681</td>\n",
              "      <td>0.000025</td>\n",
              "    </tr>\n",
              "    <tr>\n",
              "      <th>2</th>\n",
              "      <td>0000073585230191399</td>\n",
              "      <td>0.000014</td>\n",
              "    </tr>\n",
              "    <tr>\n",
              "      <th>3</th>\n",
              "      <td>0000087588448856385</td>\n",
              "      <td>0.000008</td>\n",
              "    </tr>\n",
              "    <tr>\n",
              "      <th>4</th>\n",
              "      <td>0000149787903119437</td>\n",
              "      <td>0.000009</td>\n",
              "    </tr>\n",
              "  </tbody>\n",
              "</table>\n",
              "</div>\n",
              "      <button class=\"colab-df-convert\" onclick=\"convertToInteractive('df-164309e6-dcda-48cb-b9e3-42270e474fae')\"\n",
              "              title=\"Convert this dataframe to an interactive table.\"\n",
              "              style=\"display:none;\">\n",
              "        \n",
              "  <svg xmlns=\"http://www.w3.org/2000/svg\" height=\"24px\"viewBox=\"0 0 24 24\"\n",
              "       width=\"24px\">\n",
              "    <path d=\"M0 0h24v24H0V0z\" fill=\"none\"/>\n",
              "    <path d=\"M18.56 5.44l.94 2.06.94-2.06 2.06-.94-2.06-.94-.94-2.06-.94 2.06-2.06.94zm-11 1L8.5 8.5l.94-2.06 2.06-.94-2.06-.94L8.5 2.5l-.94 2.06-2.06.94zm10 10l.94 2.06.94-2.06 2.06-.94-2.06-.94-.94-2.06-.94 2.06-2.06.94z\"/><path d=\"M17.41 7.96l-1.37-1.37c-.4-.4-.92-.59-1.43-.59-.52 0-1.04.2-1.43.59L10.3 9.45l-7.72 7.72c-.78.78-.78 2.05 0 2.83L4 21.41c.39.39.9.59 1.41.59.51 0 1.02-.2 1.41-.59l7.78-7.78 2.81-2.81c.8-.78.8-2.07 0-2.86zM5.41 20L4 18.59l7.72-7.72 1.47 1.35L5.41 20z\"/>\n",
              "  </svg>\n",
              "      </button>\n",
              "      \n",
              "  <style>\n",
              "    .colab-df-container {\n",
              "      display:flex;\n",
              "      flex-wrap:wrap;\n",
              "      gap: 12px;\n",
              "    }\n",
              "\n",
              "    .colab-df-convert {\n",
              "      background-color: #E8F0FE;\n",
              "      border: none;\n",
              "      border-radius: 50%;\n",
              "      cursor: pointer;\n",
              "      display: none;\n",
              "      fill: #1967D2;\n",
              "      height: 32px;\n",
              "      padding: 0 0 0 0;\n",
              "      width: 32px;\n",
              "    }\n",
              "\n",
              "    .colab-df-convert:hover {\n",
              "      background-color: #E2EBFA;\n",
              "      box-shadow: 0px 1px 2px rgba(60, 64, 67, 0.3), 0px 1px 3px 1px rgba(60, 64, 67, 0.15);\n",
              "      fill: #174EA6;\n",
              "    }\n",
              "\n",
              "    [theme=dark] .colab-df-convert {\n",
              "      background-color: #3B4455;\n",
              "      fill: #D2E3FC;\n",
              "    }\n",
              "\n",
              "    [theme=dark] .colab-df-convert:hover {\n",
              "      background-color: #434B5C;\n",
              "      box-shadow: 0px 1px 3px 1px rgba(0, 0, 0, 0.15);\n",
              "      filter: drop-shadow(0px 1px 2px rgba(0, 0, 0, 0.3));\n",
              "      fill: #FFFFFF;\n",
              "    }\n",
              "  </style>\n",
              "\n",
              "      <script>\n",
              "        const buttonEl =\n",
              "          document.querySelector('#df-164309e6-dcda-48cb-b9e3-42270e474fae button.colab-df-convert');\n",
              "        buttonEl.style.display =\n",
              "          google.colab.kernel.accessAllowed ? 'block' : 'none';\n",
              "\n",
              "        async function convertToInteractive(key) {\n",
              "          const element = document.querySelector('#df-164309e6-dcda-48cb-b9e3-42270e474fae');\n",
              "          const dataTable =\n",
              "            await google.colab.kernel.invokeFunction('convertToInteractive',\n",
              "                                                     [key], {});\n",
              "          if (!dataTable) return;\n",
              "\n",
              "          const docLinkHtml = 'Like what you see? Visit the ' +\n",
              "            '<a target=\"_blank\" href=https://colab.research.google.com/notebooks/data_table.ipynb>data table notebook</a>'\n",
              "            + ' to learn more about interactive tables.';\n",
              "          element.innerHTML = '';\n",
              "          dataTable['output_type'] = 'display_data';\n",
              "          await google.colab.output.renderOutput(dataTable, element);\n",
              "          const docLink = document.createElement('div');\n",
              "          docLink.innerHTML = docLinkHtml;\n",
              "          element.appendChild(docLink);\n",
              "        }\n",
              "      </script>\n",
              "    </div>\n",
              "  </div>\n",
              "  "
            ]
          },
          "metadata": {},
          "execution_count": 35
        }
      ]
    },
    {
      "cell_type": "code",
      "source": [
        "df_test.to_csv('stack2_submission.csv',index=False)"
      ],
      "metadata": {
        "id": "-Cu9twZCs_PY"
      },
      "execution_count": null,
      "outputs": []
    },
    {
      "cell_type": "markdown",
      "source": [
        "Revenue prediction using stacking classifier and XGBoost regressor"
      ],
      "metadata": {
        "id": "_2UzrmCtK6OQ"
      }
    },
    {
      "cell_type": "code",
      "source": [
        "pr_ret=sclf.predict_proba(scaled_te)[:,1]\n",
        "pr_rev=xgb_reg.predict(scaled_te)\n",
        "#   sum=sum+(pr_ret*pr_rev)\n",
        "# final_rev=sum/10\n",
        "final_rev=pr_ret*pr_rev  \n",
        "final_rev=[0 if i<0 else i for i in final_rev]"
      ],
      "metadata": {
        "id": "d_ASiLUsK5gW"
      },
      "execution_count": null,
      "outputs": []
    },
    {
      "cell_type": "code",
      "source": [
        "df_test=pd.DataFrame(list(zip(te_ids,final_rev)),columns=['fullVisitorId'\t,'PredictedLogRevenue'])\n",
        "print(df_test.shape)\n",
        "df_test.head()"
      ],
      "metadata": {
        "colab": {
          "base_uri": "https://localhost:8080/",
          "height": 224
        },
        "id": "elC88EeaRdFb",
        "outputId": "c4ab1967-feb2-4455-f8c9-994d9b7c7c9d"
      },
      "execution_count": null,
      "outputs": [
        {
          "output_type": "stream",
          "name": "stdout",
          "text": [
            "(296530, 2)\n"
          ]
        },
        {
          "output_type": "execute_result",
          "data": {
            "text/plain": [
              "         fullVisitorId  PredictedLogRevenue\n",
              "0  0000018966949534117             0.000005\n",
              "1  0000039738481224681             0.000010\n",
              "2  0000073585230191399             0.000002\n",
              "3  0000087588448856385             0.000000\n",
              "4  0000149787903119437             0.000000"
            ],
            "text/html": [
              "\n",
              "  <div id=\"df-f65576a2-19c6-4961-a221-710cd558c096\">\n",
              "    <div class=\"colab-df-container\">\n",
              "      <div>\n",
              "<style scoped>\n",
              "    .dataframe tbody tr th:only-of-type {\n",
              "        vertical-align: middle;\n",
              "    }\n",
              "\n",
              "    .dataframe tbody tr th {\n",
              "        vertical-align: top;\n",
              "    }\n",
              "\n",
              "    .dataframe thead th {\n",
              "        text-align: right;\n",
              "    }\n",
              "</style>\n",
              "<table border=\"1\" class=\"dataframe\">\n",
              "  <thead>\n",
              "    <tr style=\"text-align: right;\">\n",
              "      <th></th>\n",
              "      <th>fullVisitorId</th>\n",
              "      <th>PredictedLogRevenue</th>\n",
              "    </tr>\n",
              "  </thead>\n",
              "  <tbody>\n",
              "    <tr>\n",
              "      <th>0</th>\n",
              "      <td>0000018966949534117</td>\n",
              "      <td>0.000005</td>\n",
              "    </tr>\n",
              "    <tr>\n",
              "      <th>1</th>\n",
              "      <td>0000039738481224681</td>\n",
              "      <td>0.000010</td>\n",
              "    </tr>\n",
              "    <tr>\n",
              "      <th>2</th>\n",
              "      <td>0000073585230191399</td>\n",
              "      <td>0.000002</td>\n",
              "    </tr>\n",
              "    <tr>\n",
              "      <th>3</th>\n",
              "      <td>0000087588448856385</td>\n",
              "      <td>0.000000</td>\n",
              "    </tr>\n",
              "    <tr>\n",
              "      <th>4</th>\n",
              "      <td>0000149787903119437</td>\n",
              "      <td>0.000000</td>\n",
              "    </tr>\n",
              "  </tbody>\n",
              "</table>\n",
              "</div>\n",
              "      <button class=\"colab-df-convert\" onclick=\"convertToInteractive('df-f65576a2-19c6-4961-a221-710cd558c096')\"\n",
              "              title=\"Convert this dataframe to an interactive table.\"\n",
              "              style=\"display:none;\">\n",
              "        \n",
              "  <svg xmlns=\"http://www.w3.org/2000/svg\" height=\"24px\"viewBox=\"0 0 24 24\"\n",
              "       width=\"24px\">\n",
              "    <path d=\"M0 0h24v24H0V0z\" fill=\"none\"/>\n",
              "    <path d=\"M18.56 5.44l.94 2.06.94-2.06 2.06-.94-2.06-.94-.94-2.06-.94 2.06-2.06.94zm-11 1L8.5 8.5l.94-2.06 2.06-.94-2.06-.94L8.5 2.5l-.94 2.06-2.06.94zm10 10l.94 2.06.94-2.06 2.06-.94-2.06-.94-.94-2.06-.94 2.06-2.06.94z\"/><path d=\"M17.41 7.96l-1.37-1.37c-.4-.4-.92-.59-1.43-.59-.52 0-1.04.2-1.43.59L10.3 9.45l-7.72 7.72c-.78.78-.78 2.05 0 2.83L4 21.41c.39.39.9.59 1.41.59.51 0 1.02-.2 1.41-.59l7.78-7.78 2.81-2.81c.8-.78.8-2.07 0-2.86zM5.41 20L4 18.59l7.72-7.72 1.47 1.35L5.41 20z\"/>\n",
              "  </svg>\n",
              "      </button>\n",
              "      \n",
              "  <style>\n",
              "    .colab-df-container {\n",
              "      display:flex;\n",
              "      flex-wrap:wrap;\n",
              "      gap: 12px;\n",
              "    }\n",
              "\n",
              "    .colab-df-convert {\n",
              "      background-color: #E8F0FE;\n",
              "      border: none;\n",
              "      border-radius: 50%;\n",
              "      cursor: pointer;\n",
              "      display: none;\n",
              "      fill: #1967D2;\n",
              "      height: 32px;\n",
              "      padding: 0 0 0 0;\n",
              "      width: 32px;\n",
              "    }\n",
              "\n",
              "    .colab-df-convert:hover {\n",
              "      background-color: #E2EBFA;\n",
              "      box-shadow: 0px 1px 2px rgba(60, 64, 67, 0.3), 0px 1px 3px 1px rgba(60, 64, 67, 0.15);\n",
              "      fill: #174EA6;\n",
              "    }\n",
              "\n",
              "    [theme=dark] .colab-df-convert {\n",
              "      background-color: #3B4455;\n",
              "      fill: #D2E3FC;\n",
              "    }\n",
              "\n",
              "    [theme=dark] .colab-df-convert:hover {\n",
              "      background-color: #434B5C;\n",
              "      box-shadow: 0px 1px 3px 1px rgba(0, 0, 0, 0.15);\n",
              "      filter: drop-shadow(0px 1px 2px rgba(0, 0, 0, 0.3));\n",
              "      fill: #FFFFFF;\n",
              "    }\n",
              "  </style>\n",
              "\n",
              "      <script>\n",
              "        const buttonEl =\n",
              "          document.querySelector('#df-f65576a2-19c6-4961-a221-710cd558c096 button.colab-df-convert');\n",
              "        buttonEl.style.display =\n",
              "          google.colab.kernel.accessAllowed ? 'block' : 'none';\n",
              "\n",
              "        async function convertToInteractive(key) {\n",
              "          const element = document.querySelector('#df-f65576a2-19c6-4961-a221-710cd558c096');\n",
              "          const dataTable =\n",
              "            await google.colab.kernel.invokeFunction('convertToInteractive',\n",
              "                                                     [key], {});\n",
              "          if (!dataTable) return;\n",
              "\n",
              "          const docLinkHtml = 'Like what you see? Visit the ' +\n",
              "            '<a target=\"_blank\" href=https://colab.research.google.com/notebooks/data_table.ipynb>data table notebook</a>'\n",
              "            + ' to learn more about interactive tables.';\n",
              "          element.innerHTML = '';\n",
              "          dataTable['output_type'] = 'display_data';\n",
              "          await google.colab.output.renderOutput(dataTable, element);\n",
              "          const docLink = document.createElement('div');\n",
              "          docLink.innerHTML = docLinkHtml;\n",
              "          element.appendChild(docLink);\n",
              "        }\n",
              "      </script>\n",
              "    </div>\n",
              "  </div>\n",
              "  "
            ]
          },
          "metadata": {},
          "execution_count": 39
        }
      ]
    },
    {
      "cell_type": "code",
      "source": [
        "df_test.to_csv('stack+xgb_submission.csv',index=False)"
      ],
      "metadata": {
        "id": "qmPltIYvRqCs"
      },
      "execution_count": null,
      "outputs": []
    },
    {
      "cell_type": "markdown",
      "source": [
        "Revenue prediction using XGBoost classifier and Stacking regressor"
      ],
      "metadata": {
        "id": "W8w_zjghLJfF"
      }
    },
    {
      "cell_type": "code",
      "source": [
        "pr_ret=xgb_clf.predict_proba(scaled_te)[:,1]\n",
        "pr_rev=sreg.predict(scaled_te)\n",
        "#   sum=sum+(pr_ret*pr_rev)\n",
        "# final_rev=sum/10\n",
        "final_rev=pr_ret*pr_rev  \n",
        "final_rev=[0 if i<0 else i for i in final_rev]"
      ],
      "metadata": {
        "id": "VoG9biyoSaPM"
      },
      "execution_count": null,
      "outputs": []
    },
    {
      "cell_type": "code",
      "source": [
        "df_test=pd.DataFrame(list(zip(te_ids,final_rev)),columns=['fullVisitorId'\t,'PredictedLogRevenue'])\n",
        "print(df_test.shape)\n",
        "df_test.head()"
      ],
      "metadata": {
        "colab": {
          "base_uri": "https://localhost:8080/",
          "height": 224
        },
        "id": "U_LZOnl3ShwB",
        "outputId": "c483ca60-13f6-4206-e018-9e5b3150ec27"
      },
      "execution_count": null,
      "outputs": [
        {
          "output_type": "stream",
          "name": "stdout",
          "text": [
            "(296530, 2)\n"
          ]
        },
        {
          "output_type": "execute_result",
          "data": {
            "text/plain": [
              "         fullVisitorId  PredictedLogRevenue\n",
              "0  0000018966949534117             0.000097\n",
              "1  0000039738481224681             0.000070\n",
              "2  0000073585230191399             0.000038\n",
              "3  0000087588448856385             0.000020\n",
              "4  0000149787903119437             0.000023"
            ],
            "text/html": [
              "\n",
              "  <div id=\"df-57258a96-9900-4c14-9b51-731d6862682f\">\n",
              "    <div class=\"colab-df-container\">\n",
              "      <div>\n",
              "<style scoped>\n",
              "    .dataframe tbody tr th:only-of-type {\n",
              "        vertical-align: middle;\n",
              "    }\n",
              "\n",
              "    .dataframe tbody tr th {\n",
              "        vertical-align: top;\n",
              "    }\n",
              "\n",
              "    .dataframe thead th {\n",
              "        text-align: right;\n",
              "    }\n",
              "</style>\n",
              "<table border=\"1\" class=\"dataframe\">\n",
              "  <thead>\n",
              "    <tr style=\"text-align: right;\">\n",
              "      <th></th>\n",
              "      <th>fullVisitorId</th>\n",
              "      <th>PredictedLogRevenue</th>\n",
              "    </tr>\n",
              "  </thead>\n",
              "  <tbody>\n",
              "    <tr>\n",
              "      <th>0</th>\n",
              "      <td>0000018966949534117</td>\n",
              "      <td>0.000097</td>\n",
              "    </tr>\n",
              "    <tr>\n",
              "      <th>1</th>\n",
              "      <td>0000039738481224681</td>\n",
              "      <td>0.000070</td>\n",
              "    </tr>\n",
              "    <tr>\n",
              "      <th>2</th>\n",
              "      <td>0000073585230191399</td>\n",
              "      <td>0.000038</td>\n",
              "    </tr>\n",
              "    <tr>\n",
              "      <th>3</th>\n",
              "      <td>0000087588448856385</td>\n",
              "      <td>0.000020</td>\n",
              "    </tr>\n",
              "    <tr>\n",
              "      <th>4</th>\n",
              "      <td>0000149787903119437</td>\n",
              "      <td>0.000023</td>\n",
              "    </tr>\n",
              "  </tbody>\n",
              "</table>\n",
              "</div>\n",
              "      <button class=\"colab-df-convert\" onclick=\"convertToInteractive('df-57258a96-9900-4c14-9b51-731d6862682f')\"\n",
              "              title=\"Convert this dataframe to an interactive table.\"\n",
              "              style=\"display:none;\">\n",
              "        \n",
              "  <svg xmlns=\"http://www.w3.org/2000/svg\" height=\"24px\"viewBox=\"0 0 24 24\"\n",
              "       width=\"24px\">\n",
              "    <path d=\"M0 0h24v24H0V0z\" fill=\"none\"/>\n",
              "    <path d=\"M18.56 5.44l.94 2.06.94-2.06 2.06-.94-2.06-.94-.94-2.06-.94 2.06-2.06.94zm-11 1L8.5 8.5l.94-2.06 2.06-.94-2.06-.94L8.5 2.5l-.94 2.06-2.06.94zm10 10l.94 2.06.94-2.06 2.06-.94-2.06-.94-.94-2.06-.94 2.06-2.06.94z\"/><path d=\"M17.41 7.96l-1.37-1.37c-.4-.4-.92-.59-1.43-.59-.52 0-1.04.2-1.43.59L10.3 9.45l-7.72 7.72c-.78.78-.78 2.05 0 2.83L4 21.41c.39.39.9.59 1.41.59.51 0 1.02-.2 1.41-.59l7.78-7.78 2.81-2.81c.8-.78.8-2.07 0-2.86zM5.41 20L4 18.59l7.72-7.72 1.47 1.35L5.41 20z\"/>\n",
              "  </svg>\n",
              "      </button>\n",
              "      \n",
              "  <style>\n",
              "    .colab-df-container {\n",
              "      display:flex;\n",
              "      flex-wrap:wrap;\n",
              "      gap: 12px;\n",
              "    }\n",
              "\n",
              "    .colab-df-convert {\n",
              "      background-color: #E8F0FE;\n",
              "      border: none;\n",
              "      border-radius: 50%;\n",
              "      cursor: pointer;\n",
              "      display: none;\n",
              "      fill: #1967D2;\n",
              "      height: 32px;\n",
              "      padding: 0 0 0 0;\n",
              "      width: 32px;\n",
              "    }\n",
              "\n",
              "    .colab-df-convert:hover {\n",
              "      background-color: #E2EBFA;\n",
              "      box-shadow: 0px 1px 2px rgba(60, 64, 67, 0.3), 0px 1px 3px 1px rgba(60, 64, 67, 0.15);\n",
              "      fill: #174EA6;\n",
              "    }\n",
              "\n",
              "    [theme=dark] .colab-df-convert {\n",
              "      background-color: #3B4455;\n",
              "      fill: #D2E3FC;\n",
              "    }\n",
              "\n",
              "    [theme=dark] .colab-df-convert:hover {\n",
              "      background-color: #434B5C;\n",
              "      box-shadow: 0px 1px 3px 1px rgba(0, 0, 0, 0.15);\n",
              "      filter: drop-shadow(0px 1px 2px rgba(0, 0, 0, 0.3));\n",
              "      fill: #FFFFFF;\n",
              "    }\n",
              "  </style>\n",
              "\n",
              "      <script>\n",
              "        const buttonEl =\n",
              "          document.querySelector('#df-57258a96-9900-4c14-9b51-731d6862682f button.colab-df-convert');\n",
              "        buttonEl.style.display =\n",
              "          google.colab.kernel.accessAllowed ? 'block' : 'none';\n",
              "\n",
              "        async function convertToInteractive(key) {\n",
              "          const element = document.querySelector('#df-57258a96-9900-4c14-9b51-731d6862682f');\n",
              "          const dataTable =\n",
              "            await google.colab.kernel.invokeFunction('convertToInteractive',\n",
              "                                                     [key], {});\n",
              "          if (!dataTable) return;\n",
              "\n",
              "          const docLinkHtml = 'Like what you see? Visit the ' +\n",
              "            '<a target=\"_blank\" href=https://colab.research.google.com/notebooks/data_table.ipynb>data table notebook</a>'\n",
              "            + ' to learn more about interactive tables.';\n",
              "          element.innerHTML = '';\n",
              "          dataTable['output_type'] = 'display_data';\n",
              "          await google.colab.output.renderOutput(dataTable, element);\n",
              "          const docLink = document.createElement('div');\n",
              "          docLink.innerHTML = docLinkHtml;\n",
              "          element.appendChild(docLink);\n",
              "        }\n",
              "      </script>\n",
              "    </div>\n",
              "  </div>\n",
              "  "
            ]
          },
          "metadata": {},
          "execution_count": 42
        }
      ]
    },
    {
      "cell_type": "code",
      "source": [
        "df_test.to_csv('xgb+stack_submission.csv',index=False)"
      ],
      "metadata": {
        "id": "LhRyQ_13Ss00"
      },
      "execution_count": null,
      "outputs": []
    },
    {
      "cell_type": "markdown",
      "source": [
        "revenue prediction using lightgbm classifier and regressor"
      ],
      "metadata": {
        "id": "rvU9GyUEPckG"
      }
    },
    {
      "cell_type": "code",
      "source": [
        "filename='/content/drive/MyDrive/Colab Notebooks/self case study 1/lgbm_clf.sav'\n",
        "lgbm_clf=pickle.load(open(filename,'rb'))\n",
        "filename='/content/drive/MyDrive/Colab Notebooks/self case study 1/lgbm_reg.sav'\n",
        "lgbm_reg=pickle.load(open(filename,'rb'))"
      ],
      "metadata": {
        "id": "xycuwTSkPo_g"
      },
      "execution_count": null,
      "outputs": []
    },
    {
      "cell_type": "code",
      "source": [
        "pr_ret=lgbm_clf.predict_proba(scaled_te)[:,1]\n",
        "pr_rev=lgbm_reg.predict(scaled_te)\n",
        "#   sum=sum+(pr_ret*pr_rev)\n",
        "# final_rev=sum/10\n",
        "final_rev=pr_ret*pr_rev  \n",
        "final_rev=[0 if i<0 else i for i in final_rev]"
      ],
      "metadata": {
        "id": "pmFzAQ7fP9VE"
      },
      "execution_count": null,
      "outputs": []
    },
    {
      "cell_type": "code",
      "source": [
        "df_test=pd.DataFrame(list(zip(te_ids,final_rev)),columns=['fullVisitorId'\t,'PredictedLogRevenue'])\n",
        "print(df_test.shape)\n",
        "df_test.head()"
      ],
      "metadata": {
        "colab": {
          "base_uri": "https://localhost:8080/",
          "height": 224
        },
        "id": "DAR4Lr7wQOz8",
        "outputId": "63159a72-951f-40e0-a4a9-fec939df8812"
      },
      "execution_count": null,
      "outputs": [
        {
          "output_type": "stream",
          "name": "stdout",
          "text": [
            "(296530, 2)\n"
          ]
        },
        {
          "output_type": "execute_result",
          "data": {
            "text/plain": [
              "         fullVisitorId  PredictedLogRevenue\n",
              "0  0000018966949534117             0.000015\n",
              "1  0000039738481224681             0.000010\n",
              "2  0000073585230191399             0.000011\n",
              "3  0000087588448856385             0.000009\n",
              "4  0000149787903119437             0.000009"
            ],
            "text/html": [
              "\n",
              "  <div id=\"df-d7cfdbb7-a6d0-4e26-ace8-4d9f7740c40a\">\n",
              "    <div class=\"colab-df-container\">\n",
              "      <div>\n",
              "<style scoped>\n",
              "    .dataframe tbody tr th:only-of-type {\n",
              "        vertical-align: middle;\n",
              "    }\n",
              "\n",
              "    .dataframe tbody tr th {\n",
              "        vertical-align: top;\n",
              "    }\n",
              "\n",
              "    .dataframe thead th {\n",
              "        text-align: right;\n",
              "    }\n",
              "</style>\n",
              "<table border=\"1\" class=\"dataframe\">\n",
              "  <thead>\n",
              "    <tr style=\"text-align: right;\">\n",
              "      <th></th>\n",
              "      <th>fullVisitorId</th>\n",
              "      <th>PredictedLogRevenue</th>\n",
              "    </tr>\n",
              "  </thead>\n",
              "  <tbody>\n",
              "    <tr>\n",
              "      <th>0</th>\n",
              "      <td>0000018966949534117</td>\n",
              "      <td>0.000015</td>\n",
              "    </tr>\n",
              "    <tr>\n",
              "      <th>1</th>\n",
              "      <td>0000039738481224681</td>\n",
              "      <td>0.000010</td>\n",
              "    </tr>\n",
              "    <tr>\n",
              "      <th>2</th>\n",
              "      <td>0000073585230191399</td>\n",
              "      <td>0.000011</td>\n",
              "    </tr>\n",
              "    <tr>\n",
              "      <th>3</th>\n",
              "      <td>0000087588448856385</td>\n",
              "      <td>0.000009</td>\n",
              "    </tr>\n",
              "    <tr>\n",
              "      <th>4</th>\n",
              "      <td>0000149787903119437</td>\n",
              "      <td>0.000009</td>\n",
              "    </tr>\n",
              "  </tbody>\n",
              "</table>\n",
              "</div>\n",
              "      <button class=\"colab-df-convert\" onclick=\"convertToInteractive('df-d7cfdbb7-a6d0-4e26-ace8-4d9f7740c40a')\"\n",
              "              title=\"Convert this dataframe to an interactive table.\"\n",
              "              style=\"display:none;\">\n",
              "        \n",
              "  <svg xmlns=\"http://www.w3.org/2000/svg\" height=\"24px\"viewBox=\"0 0 24 24\"\n",
              "       width=\"24px\">\n",
              "    <path d=\"M0 0h24v24H0V0z\" fill=\"none\"/>\n",
              "    <path d=\"M18.56 5.44l.94 2.06.94-2.06 2.06-.94-2.06-.94-.94-2.06-.94 2.06-2.06.94zm-11 1L8.5 8.5l.94-2.06 2.06-.94-2.06-.94L8.5 2.5l-.94 2.06-2.06.94zm10 10l.94 2.06.94-2.06 2.06-.94-2.06-.94-.94-2.06-.94 2.06-2.06.94z\"/><path d=\"M17.41 7.96l-1.37-1.37c-.4-.4-.92-.59-1.43-.59-.52 0-1.04.2-1.43.59L10.3 9.45l-7.72 7.72c-.78.78-.78 2.05 0 2.83L4 21.41c.39.39.9.59 1.41.59.51 0 1.02-.2 1.41-.59l7.78-7.78 2.81-2.81c.8-.78.8-2.07 0-2.86zM5.41 20L4 18.59l7.72-7.72 1.47 1.35L5.41 20z\"/>\n",
              "  </svg>\n",
              "      </button>\n",
              "      \n",
              "  <style>\n",
              "    .colab-df-container {\n",
              "      display:flex;\n",
              "      flex-wrap:wrap;\n",
              "      gap: 12px;\n",
              "    }\n",
              "\n",
              "    .colab-df-convert {\n",
              "      background-color: #E8F0FE;\n",
              "      border: none;\n",
              "      border-radius: 50%;\n",
              "      cursor: pointer;\n",
              "      display: none;\n",
              "      fill: #1967D2;\n",
              "      height: 32px;\n",
              "      padding: 0 0 0 0;\n",
              "      width: 32px;\n",
              "    }\n",
              "\n",
              "    .colab-df-convert:hover {\n",
              "      background-color: #E2EBFA;\n",
              "      box-shadow: 0px 1px 2px rgba(60, 64, 67, 0.3), 0px 1px 3px 1px rgba(60, 64, 67, 0.15);\n",
              "      fill: #174EA6;\n",
              "    }\n",
              "\n",
              "    [theme=dark] .colab-df-convert {\n",
              "      background-color: #3B4455;\n",
              "      fill: #D2E3FC;\n",
              "    }\n",
              "\n",
              "    [theme=dark] .colab-df-convert:hover {\n",
              "      background-color: #434B5C;\n",
              "      box-shadow: 0px 1px 3px 1px rgba(0, 0, 0, 0.15);\n",
              "      filter: drop-shadow(0px 1px 2px rgba(0, 0, 0, 0.3));\n",
              "      fill: #FFFFFF;\n",
              "    }\n",
              "  </style>\n",
              "\n",
              "      <script>\n",
              "        const buttonEl =\n",
              "          document.querySelector('#df-d7cfdbb7-a6d0-4e26-ace8-4d9f7740c40a button.colab-df-convert');\n",
              "        buttonEl.style.display =\n",
              "          google.colab.kernel.accessAllowed ? 'block' : 'none';\n",
              "\n",
              "        async function convertToInteractive(key) {\n",
              "          const element = document.querySelector('#df-d7cfdbb7-a6d0-4e26-ace8-4d9f7740c40a');\n",
              "          const dataTable =\n",
              "            await google.colab.kernel.invokeFunction('convertToInteractive',\n",
              "                                                     [key], {});\n",
              "          if (!dataTable) return;\n",
              "\n",
              "          const docLinkHtml = 'Like what you see? Visit the ' +\n",
              "            '<a target=\"_blank\" href=https://colab.research.google.com/notebooks/data_table.ipynb>data table notebook</a>'\n",
              "            + ' to learn more about interactive tables.';\n",
              "          element.innerHTML = '';\n",
              "          dataTable['output_type'] = 'display_data';\n",
              "          await google.colab.output.renderOutput(dataTable, element);\n",
              "          const docLink = document.createElement('div');\n",
              "          docLink.innerHTML = docLinkHtml;\n",
              "          element.appendChild(docLink);\n",
              "        }\n",
              "      </script>\n",
              "    </div>\n",
              "  </div>\n",
              "  "
            ]
          },
          "metadata": {},
          "execution_count": 11
        }
      ]
    },
    {
      "cell_type": "code",
      "source": [
        "df_test.to_csv('lgbm_submission.csv',index=False)"
      ],
      "metadata": {
        "id": "RVKqsEONQX9S"
      },
      "execution_count": null,
      "outputs": []
    },
    {
      "cell_type": "markdown",
      "source": [
        "revenue prediction using neural network classifier and regressor"
      ],
      "metadata": {
        "id": "yPQ_O85DXhqs"
      }
    },
    {
      "cell_type": "code",
      "source": [
        "neural_clf.load_weights('/content/drive/MyDrive/Colab Notebooks/self case study 1/neural_clf.hdf')\n",
        "neural_reg.load_weights('/content/drive/MyDrive/Colab Notebooks/self case study 1/neural_reg.hdf')"
      ],
      "metadata": {
        "colab": {
          "base_uri": "https://localhost:8080/"
        },
        "id": "tbL0HzPXX_xW",
        "outputId": "b075de89-20eb-47a1-930e-422e913ff52c"
      },
      "execution_count": null,
      "outputs": [
        {
          "output_type": "execute_result",
          "data": {
            "text/plain": [
              "<tensorflow.python.training.tracking.util.CheckpointLoadStatus at 0x7fda930af450>"
            ]
          },
          "metadata": {},
          "execution_count": 51
        }
      ]
    },
    {
      "cell_type": "code",
      "source": [
        "sum=0\n",
        "for i in range(10):\n",
        "  pr_ret=neural_clf.predict(scaled_te)\n",
        "  pr_rev=neural_reg.predict(scaled_te)\n",
        "  sum=sum+(pr_ret*pr_rev)\n",
        "final_rev=sum/10  \n",
        "final_rev=[0 if i[0]<0 else i[0] for i in final_rev]"
      ],
      "metadata": {
        "colab": {
          "base_uri": "https://localhost:8080/"
        },
        "id": "eWaEKoOeYNWa",
        "outputId": "e12594b9-a2be-466a-ccac-4f555d033965"
      },
      "execution_count": null,
      "outputs": [
        {
          "output_type": "stream",
          "name": "stdout",
          "text": [
            "9267/9267 [==============================] - 18s 2ms/step\n",
            "9267/9267 [==============================] - 15s 2ms/step\n",
            "9267/9267 [==============================] - 17s 2ms/step\n",
            "9267/9267 [==============================] - 15s 2ms/step\n",
            "9267/9267 [==============================] - 15s 2ms/step\n",
            "9267/9267 [==============================] - 15s 2ms/step\n",
            "9267/9267 [==============================] - 16s 2ms/step\n",
            "9267/9267 [==============================] - 17s 2ms/step\n",
            "9267/9267 [==============================] - 15s 2ms/step\n",
            "9267/9267 [==============================] - 17s 2ms/step\n",
            "9267/9267 [==============================] - 17s 2ms/step\n",
            "9267/9267 [==============================] - 16s 2ms/step\n",
            "9267/9267 [==============================] - 15s 2ms/step\n",
            "9267/9267 [==============================] - 17s 2ms/step\n",
            "9267/9267 [==============================] - 16s 2ms/step\n",
            "9267/9267 [==============================] - 16s 2ms/step\n",
            "9267/9267 [==============================] - 17s 2ms/step\n",
            "9267/9267 [==============================] - 16s 2ms/step\n",
            "9267/9267 [==============================] - 15s 2ms/step\n",
            "9267/9267 [==============================] - 18s 2ms/step\n"
          ]
        }
      ]
    },
    {
      "cell_type": "code",
      "source": [
        "df_test=pd.DataFrame(list(zip(te_ids,final_rev)),columns=['fullVisitorId'\t,'PredictedLogRevenue'])\n",
        "print(df_test.shape)\n",
        "df_test.head()"
      ],
      "metadata": {
        "colab": {
          "base_uri": "https://localhost:8080/",
          "height": 224
        },
        "id": "gq-IpDDkaZE5",
        "outputId": "32216c44-940c-44d4-b61c-abf5c70398f9"
      },
      "execution_count": null,
      "outputs": [
        {
          "output_type": "stream",
          "name": "stdout",
          "text": [
            "(296530, 2)\n"
          ]
        },
        {
          "output_type": "execute_result",
          "data": {
            "text/plain": [
              "         fullVisitorId  PredictedLogRevenue\n",
              "0  0000018966949534117             0.000000\n",
              "1  0000039738481224681             0.000000\n",
              "2  0000073585230191399             0.000000\n",
              "3  0000087588448856385             0.000006\n",
              "4  0000149787903119437             0.000000"
            ],
            "text/html": [
              "\n",
              "  <div id=\"df-870575a9-ca7a-4e78-9729-151bab709179\">\n",
              "    <div class=\"colab-df-container\">\n",
              "      <div>\n",
              "<style scoped>\n",
              "    .dataframe tbody tr th:only-of-type {\n",
              "        vertical-align: middle;\n",
              "    }\n",
              "\n",
              "    .dataframe tbody tr th {\n",
              "        vertical-align: top;\n",
              "    }\n",
              "\n",
              "    .dataframe thead th {\n",
              "        text-align: right;\n",
              "    }\n",
              "</style>\n",
              "<table border=\"1\" class=\"dataframe\">\n",
              "  <thead>\n",
              "    <tr style=\"text-align: right;\">\n",
              "      <th></th>\n",
              "      <th>fullVisitorId</th>\n",
              "      <th>PredictedLogRevenue</th>\n",
              "    </tr>\n",
              "  </thead>\n",
              "  <tbody>\n",
              "    <tr>\n",
              "      <th>0</th>\n",
              "      <td>0000018966949534117</td>\n",
              "      <td>0.000000</td>\n",
              "    </tr>\n",
              "    <tr>\n",
              "      <th>1</th>\n",
              "      <td>0000039738481224681</td>\n",
              "      <td>0.000000</td>\n",
              "    </tr>\n",
              "    <tr>\n",
              "      <th>2</th>\n",
              "      <td>0000073585230191399</td>\n",
              "      <td>0.000000</td>\n",
              "    </tr>\n",
              "    <tr>\n",
              "      <th>3</th>\n",
              "      <td>0000087588448856385</td>\n",
              "      <td>0.000006</td>\n",
              "    </tr>\n",
              "    <tr>\n",
              "      <th>4</th>\n",
              "      <td>0000149787903119437</td>\n",
              "      <td>0.000000</td>\n",
              "    </tr>\n",
              "  </tbody>\n",
              "</table>\n",
              "</div>\n",
              "      <button class=\"colab-df-convert\" onclick=\"convertToInteractive('df-870575a9-ca7a-4e78-9729-151bab709179')\"\n",
              "              title=\"Convert this dataframe to an interactive table.\"\n",
              "              style=\"display:none;\">\n",
              "        \n",
              "  <svg xmlns=\"http://www.w3.org/2000/svg\" height=\"24px\"viewBox=\"0 0 24 24\"\n",
              "       width=\"24px\">\n",
              "    <path d=\"M0 0h24v24H0V0z\" fill=\"none\"/>\n",
              "    <path d=\"M18.56 5.44l.94 2.06.94-2.06 2.06-.94-2.06-.94-.94-2.06-.94 2.06-2.06.94zm-11 1L8.5 8.5l.94-2.06 2.06-.94-2.06-.94L8.5 2.5l-.94 2.06-2.06.94zm10 10l.94 2.06.94-2.06 2.06-.94-2.06-.94-.94-2.06-.94 2.06-2.06.94z\"/><path d=\"M17.41 7.96l-1.37-1.37c-.4-.4-.92-.59-1.43-.59-.52 0-1.04.2-1.43.59L10.3 9.45l-7.72 7.72c-.78.78-.78 2.05 0 2.83L4 21.41c.39.39.9.59 1.41.59.51 0 1.02-.2 1.41-.59l7.78-7.78 2.81-2.81c.8-.78.8-2.07 0-2.86zM5.41 20L4 18.59l7.72-7.72 1.47 1.35L5.41 20z\"/>\n",
              "  </svg>\n",
              "      </button>\n",
              "      \n",
              "  <style>\n",
              "    .colab-df-container {\n",
              "      display:flex;\n",
              "      flex-wrap:wrap;\n",
              "      gap: 12px;\n",
              "    }\n",
              "\n",
              "    .colab-df-convert {\n",
              "      background-color: #E8F0FE;\n",
              "      border: none;\n",
              "      border-radius: 50%;\n",
              "      cursor: pointer;\n",
              "      display: none;\n",
              "      fill: #1967D2;\n",
              "      height: 32px;\n",
              "      padding: 0 0 0 0;\n",
              "      width: 32px;\n",
              "    }\n",
              "\n",
              "    .colab-df-convert:hover {\n",
              "      background-color: #E2EBFA;\n",
              "      box-shadow: 0px 1px 2px rgba(60, 64, 67, 0.3), 0px 1px 3px 1px rgba(60, 64, 67, 0.15);\n",
              "      fill: #174EA6;\n",
              "    }\n",
              "\n",
              "    [theme=dark] .colab-df-convert {\n",
              "      background-color: #3B4455;\n",
              "      fill: #D2E3FC;\n",
              "    }\n",
              "\n",
              "    [theme=dark] .colab-df-convert:hover {\n",
              "      background-color: #434B5C;\n",
              "      box-shadow: 0px 1px 3px 1px rgba(0, 0, 0, 0.15);\n",
              "      filter: drop-shadow(0px 1px 2px rgba(0, 0, 0, 0.3));\n",
              "      fill: #FFFFFF;\n",
              "    }\n",
              "  </style>\n",
              "\n",
              "      <script>\n",
              "        const buttonEl =\n",
              "          document.querySelector('#df-870575a9-ca7a-4e78-9729-151bab709179 button.colab-df-convert');\n",
              "        buttonEl.style.display =\n",
              "          google.colab.kernel.accessAllowed ? 'block' : 'none';\n",
              "\n",
              "        async function convertToInteractive(key) {\n",
              "          const element = document.querySelector('#df-870575a9-ca7a-4e78-9729-151bab709179');\n",
              "          const dataTable =\n",
              "            await google.colab.kernel.invokeFunction('convertToInteractive',\n",
              "                                                     [key], {});\n",
              "          if (!dataTable) return;\n",
              "\n",
              "          const docLinkHtml = 'Like what you see? Visit the ' +\n",
              "            '<a target=\"_blank\" href=https://colab.research.google.com/notebooks/data_table.ipynb>data table notebook</a>'\n",
              "            + ' to learn more about interactive tables.';\n",
              "          element.innerHTML = '';\n",
              "          dataTable['output_type'] = 'display_data';\n",
              "          await google.colab.output.renderOutput(dataTable, element);\n",
              "          const docLink = document.createElement('div');\n",
              "          docLink.innerHTML = docLinkHtml;\n",
              "          element.appendChild(docLink);\n",
              "        }\n",
              "      </script>\n",
              "    </div>\n",
              "  </div>\n",
              "  "
            ]
          },
          "metadata": {},
          "execution_count": 55
        }
      ]
    },
    {
      "cell_type": "code",
      "source": [
        "df_test.to_csv('dl_submission.csv',index=False)"
      ],
      "metadata": {
        "id": "q_S_CL6HcYX2"
      },
      "execution_count": null,
      "outputs": []
    },
    {
      "cell_type": "code",
      "source": [
        "feature_imp_clf=xgb_clf.feature_importances_\n",
        "feature_imp_reg=xgb_reg.feature_importances_"
      ],
      "metadata": {
        "id": "qqelB9QILcjR"
      },
      "execution_count": 9,
      "outputs": []
    },
    {
      "cell_type": "markdown",
      "source": [
        "# **Feature Importances**"
      ],
      "metadata": {
        "id": "GP7YFU7zNLpj"
      }
    },
    {
      "cell_type": "code",
      "source": [
        "plt.figure(figsize=(20,7))\n",
        "sn.barplot(x=x_tr.columns,y=feature_imp_clf)\n",
        "plt.xticks(rotation=70)\n",
        "plt.title('Feature importances on the basis of XGBoost classifier')\n",
        "plt.show()"
      ],
      "metadata": {
        "colab": {
          "base_uri": "https://localhost:8080/",
          "height": 579
        },
        "id": "nZJDO3MoLtM1",
        "outputId": "0e5d3433-c365-4603-ac0e-a27125e3488f"
      },
      "execution_count": 20,
      "outputs": [
        {
          "output_type": "display_data",
          "data": {
            "text/plain": [
              "<Figure size 1440x504 with 1 Axes>"
            ],
            "image/png": "[encoded data removed]"
          },
          "metadata": {
            "needs_background": "light"
          }
        }
      ]
    },
    {
      "cell_type": "code",
      "source": [
        "plt.figure(figsize=(20,7))\n",
        "sn.barplot(x=x_tr.columns,y=feature_imp_reg)\n",
        "plt.xticks(rotation=70)\n",
        "plt.title('Feature importances on the basis of XGBoost regressor')\n",
        "plt.show()"
      ],
      "metadata": {
        "colab": {
          "base_uri": "https://localhost:8080/",
          "height": 579
        },
        "id": "6SX807jbNRdU",
        "outputId": "12fe4437-dd64-4713-d595-c72be58b7fb3"
      },
      "execution_count": 21,
      "outputs": [
        {
          "output_type": "display_data",
          "data": {
            "text/plain": [
              "<Figure size 1440x504 with 1 Axes>"
            ],
            "image/png": "[encoded data removed]"
          },
          "metadata": {
            "needs_background": "light"
          }
        }
      ]
    },
    {
      "cell_type": "markdown",
      "source": [
        "# **Conclusion**"
      ],
      "metadata": {
        "id": "KY8fuUz7N9qL"
      }
    },
    {
      "cell_type": "code",
      "source": [
        "from prettytable import PrettyTable\n",
        "  \n",
        "# Specify the Column Names while initializing the Table\n",
        "myTable = PrettyTable([\"Classifier\", \"Regressor\",'Features',\"RMSE(On Kaggle)\"])\n",
        "  \n",
        "# Add rows\n",
        "myTable.add_row([\"XGBoost Classifier\", \"XGBoost Regressor\", \"All features\", \"0.88657\"])\n",
        "myTable.add_row([\"XGBoost Classifier\", \"XGBoost Regressor\", \"Only non-multicollinear features\", \"0.88607\"])\n",
        "myTable.add_row([\"Random Forest Classifier\", \"Random Forest Regressor\", \"All features\", \"0.88675\"])\n",
        "myTable.add_row([\"Logistic Regression\", \"Linear Regression\", \"All features\", \"0.88763\"])\n",
        "myTable.add_row([\"LightGBM Classifier\", \"LightGBM Regressor\", \"Only non-multicollinear features\", \"0.88733\"])\n",
        "myTable.add_row([\"Neural network classifier\", \"Neural network regressor\", \"Only non_multicollinear features\", \"0.88714\"])\n",
        "  \n",
        "print(myTable)\n"
      ],
      "metadata": {
        "colab": {
          "base_uri": "https://localhost:8080/"
        },
        "id": "hHl1AFDSOBF3",
        "outputId": "6bfe2180-b6eb-4916-afba-0b1764ccd42e"
      },
      "execution_count": 22,
      "outputs": [
        {
          "output_type": "stream",
          "name": "stdout",
          "text": [
            "+---------------------------+--------------------------+----------------------------------+-----------------+\n",
            "|         Classifier        |        Regressor         |             Features             | RMSE(On Kaggle) |\n",
            "+---------------------------+--------------------------+----------------------------------+-----------------+\n",
            "|     XGBoost Classifier    |    XGBoost Regressor     |           All features           |     0.88657     |\n",
            "|     XGBoost Classifier    |    XGBoost Regressor     | Only non-multicollinear features |     0.88607     |\n",
            "|  Random Forest Classifier | Random Forest Regressor  |           All features           |     0.88675     |\n",
            "|    Logistic Regression    |    Linear Regression     |           All features           |     0.88763     |\n",
            "|    LightGBM Classifier    |    LightGBM Regressor    | Only non-multicollinear features |     0.88733     |\n",
            "| Neural network classifier | Neural network regressor | Only non_multicollinear features |     0.88714     |\n",
            "+---------------------------+--------------------------+----------------------------------+-----------------+\n"
          ]
        }
      ]
    }
  ],
  "metadata": {
    "colab": {
      "collapsed_sections": [],
      "provenance": []
    },
    "kernelspec": {
      "display_name": "Python 3",
      "name": "python3"
    },
    "language_info": {
      "name": "python"
    }
  },
  "nbformat": 4,
  "nbformat_minor": 0
}